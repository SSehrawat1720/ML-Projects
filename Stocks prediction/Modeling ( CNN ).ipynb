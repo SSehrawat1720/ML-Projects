{
 "cells": [
  {
   "cell_type": "code",
   "execution_count": 1,
   "metadata": {},
   "outputs": [],
   "source": [
    "import pandas as pd"
   ]
  },
  {
   "cell_type": "code",
   "execution_count": 2,
   "metadata": {},
   "outputs": [],
   "source": [
    "Model_data = pd.read_csv(r\"C:\\Users\\SS\\Documents\\Internship - Stock Prediction\\Final Minutewise Dataset.csv\")"
   ]
  },
  {
   "cell_type": "code",
   "execution_count": 3,
   "metadata": {},
   "outputs": [
    {
     "data": {
      "text/html": [
       "<div>\n",
       "<style scoped>\n",
       "    .dataframe tbody tr th:only-of-type {\n",
       "        vertical-align: middle;\n",
       "    }\n",
       "\n",
       "    .dataframe tbody tr th {\n",
       "        vertical-align: top;\n",
       "    }\n",
       "\n",
       "    .dataframe thead th {\n",
       "        text-align: right;\n",
       "    }\n",
       "</style>\n",
       "<table border=\"1\" class=\"dataframe\">\n",
       "  <thead>\n",
       "    <tr style=\"text-align: right;\">\n",
       "      <th></th>\n",
       "      <th>Date</th>\n",
       "      <th>Open</th>\n",
       "      <th>High</th>\n",
       "      <th>Low</th>\n",
       "      <th>Close</th>\n",
       "      <th>Volume</th>\n",
       "      <th>Adj Open</th>\n",
       "      <th>Polarity</th>\n",
       "      <th>Subjectivity</th>\n",
       "      <th>ai</th>\n",
       "      <th>...</th>\n",
       "      <th>virtual</th>\n",
       "      <th>want</th>\n",
       "      <th>watson</th>\n",
       "      <th>way</th>\n",
       "      <th>work</th>\n",
       "      <th>working</th>\n",
       "      <th>world</th>\n",
       "      <th>would</th>\n",
       "      <th>year</th>\n",
       "      <th>Target</th>\n",
       "    </tr>\n",
       "  </thead>\n",
       "  <tbody>\n",
       "    <tr>\n",
       "      <th>0</th>\n",
       "      <td>2020-06-09 13:30:00</td>\n",
       "      <td>133.520004</td>\n",
       "      <td>133.600006</td>\n",
       "      <td>133.080002</td>\n",
       "      <td>133.264999</td>\n",
       "      <td>175324</td>\n",
       "      <td>133.274994</td>\n",
       "      <td>0.099753</td>\n",
       "      <td>0.391667</td>\n",
       "      <td>0.0</td>\n",
       "      <td>...</td>\n",
       "      <td>0.0</td>\n",
       "      <td>0.0</td>\n",
       "      <td>0.0</td>\n",
       "      <td>0.0</td>\n",
       "      <td>0.215774</td>\n",
       "      <td>0.000000</td>\n",
       "      <td>0.0</td>\n",
       "      <td>0.0</td>\n",
       "      <td>0.0</td>\n",
       "      <td>133.274994</td>\n",
       "    </tr>\n",
       "    <tr>\n",
       "      <th>1</th>\n",
       "      <td>2020-06-09 13:31:00</td>\n",
       "      <td>133.274994</td>\n",
       "      <td>133.279999</td>\n",
       "      <td>133.080002</td>\n",
       "      <td>133.160004</td>\n",
       "      <td>22922</td>\n",
       "      <td>133.289993</td>\n",
       "      <td>0.240000</td>\n",
       "      <td>0.240000</td>\n",
       "      <td>0.0</td>\n",
       "      <td>...</td>\n",
       "      <td>0.0</td>\n",
       "      <td>0.0</td>\n",
       "      <td>0.0</td>\n",
       "      <td>0.0</td>\n",
       "      <td>0.000000</td>\n",
       "      <td>0.305367</td>\n",
       "      <td>0.0</td>\n",
       "      <td>0.0</td>\n",
       "      <td>0.0</td>\n",
       "      <td>133.289993</td>\n",
       "    </tr>\n",
       "  </tbody>\n",
       "</table>\n",
       "<p>2 rows × 110 columns</p>\n",
       "</div>"
      ],
      "text/plain": [
       "                  Date        Open        High         Low       Close  \\\n",
       "0  2020-06-09 13:30:00  133.520004  133.600006  133.080002  133.264999   \n",
       "1  2020-06-09 13:31:00  133.274994  133.279999  133.080002  133.160004   \n",
       "\n",
       "   Volume    Adj Open  Polarity  Subjectivity   ai  ...  virtual  want  \\\n",
       "0  175324  133.274994  0.099753      0.391667  0.0  ...      0.0   0.0   \n",
       "1   22922  133.289993  0.240000      0.240000  0.0  ...      0.0   0.0   \n",
       "\n",
       "   watson  way      work   working  world  would  year      Target  \n",
       "0     0.0  0.0  0.215774  0.000000    0.0    0.0   0.0  133.274994  \n",
       "1     0.0  0.0  0.000000  0.305367    0.0    0.0   0.0  133.289993  \n",
       "\n",
       "[2 rows x 110 columns]"
      ]
     },
     "execution_count": 3,
     "metadata": {},
     "output_type": "execute_result"
    }
   ],
   "source": [
    "Model_data.head(2)"
   ]
  },
  {
   "cell_type": "code",
   "execution_count": 4,
   "metadata": {},
   "outputs": [
    {
     "name": "stdout",
     "output_type": "stream",
     "text": [
      "<class 'pandas.core.frame.DataFrame'>\n",
      "RangeIndex: 7734 entries, 0 to 7733\n",
      "Columns: 110 entries, Date to Target\n",
      "dtypes: float64(108), int64(1), object(1)\n",
      "memory usage: 6.5+ MB\n"
     ]
    }
   ],
   "source": [
    "Model_data.info()"
   ]
  },
  {
   "cell_type": "code",
   "execution_count": 5,
   "metadata": {},
   "outputs": [
    {
     "data": {
      "text/html": [
       "<div>\n",
       "<style scoped>\n",
       "    .dataframe tbody tr th:only-of-type {\n",
       "        vertical-align: middle;\n",
       "    }\n",
       "\n",
       "    .dataframe tbody tr th {\n",
       "        vertical-align: top;\n",
       "    }\n",
       "\n",
       "    .dataframe thead th {\n",
       "        text-align: right;\n",
       "    }\n",
       "</style>\n",
       "<table border=\"1\" class=\"dataframe\">\n",
       "  <thead>\n",
       "    <tr style=\"text-align: right;\">\n",
       "      <th></th>\n",
       "      <th>Open</th>\n",
       "      <th>High</th>\n",
       "      <th>Low</th>\n",
       "      <th>Close</th>\n",
       "      <th>Volume</th>\n",
       "      <th>Adj Open</th>\n",
       "      <th>Polarity</th>\n",
       "      <th>Subjectivity</th>\n",
       "      <th>ai</th>\n",
       "      <th>also</th>\n",
       "      <th>...</th>\n",
       "      <th>virtual</th>\n",
       "      <th>want</th>\n",
       "      <th>watson</th>\n",
       "      <th>way</th>\n",
       "      <th>work</th>\n",
       "      <th>working</th>\n",
       "      <th>world</th>\n",
       "      <th>would</th>\n",
       "      <th>year</th>\n",
       "      <th>Target</th>\n",
       "    </tr>\n",
       "    <tr>\n",
       "      <th>Date</th>\n",
       "      <th></th>\n",
       "      <th></th>\n",
       "      <th></th>\n",
       "      <th></th>\n",
       "      <th></th>\n",
       "      <th></th>\n",
       "      <th></th>\n",
       "      <th></th>\n",
       "      <th></th>\n",
       "      <th></th>\n",
       "      <th></th>\n",
       "      <th></th>\n",
       "      <th></th>\n",
       "      <th></th>\n",
       "      <th></th>\n",
       "      <th></th>\n",
       "      <th></th>\n",
       "      <th></th>\n",
       "      <th></th>\n",
       "      <th></th>\n",
       "      <th></th>\n",
       "    </tr>\n",
       "  </thead>\n",
       "  <tbody>\n",
       "    <tr>\n",
       "      <th>2020-06-09 13:30:00</th>\n",
       "      <td>133.520004</td>\n",
       "      <td>133.600006</td>\n",
       "      <td>133.080002</td>\n",
       "      <td>133.264999</td>\n",
       "      <td>175324</td>\n",
       "      <td>133.274994</td>\n",
       "      <td>0.099753</td>\n",
       "      <td>0.391667</td>\n",
       "      <td>0.0</td>\n",
       "      <td>0.0</td>\n",
       "      <td>...</td>\n",
       "      <td>0.0</td>\n",
       "      <td>0.0</td>\n",
       "      <td>0.0</td>\n",
       "      <td>0.0</td>\n",
       "      <td>0.215774</td>\n",
       "      <td>0.000000</td>\n",
       "      <td>0.0</td>\n",
       "      <td>0.0</td>\n",
       "      <td>0.0</td>\n",
       "      <td>133.274994</td>\n",
       "    </tr>\n",
       "    <tr>\n",
       "      <th>2020-06-09 13:31:00</th>\n",
       "      <td>133.274994</td>\n",
       "      <td>133.279999</td>\n",
       "      <td>133.080002</td>\n",
       "      <td>133.160004</td>\n",
       "      <td>22922</td>\n",
       "      <td>133.289993</td>\n",
       "      <td>0.240000</td>\n",
       "      <td>0.240000</td>\n",
       "      <td>0.0</td>\n",
       "      <td>0.0</td>\n",
       "      <td>...</td>\n",
       "      <td>0.0</td>\n",
       "      <td>0.0</td>\n",
       "      <td>0.0</td>\n",
       "      <td>0.0</td>\n",
       "      <td>0.000000</td>\n",
       "      <td>0.305367</td>\n",
       "      <td>0.0</td>\n",
       "      <td>0.0</td>\n",
       "      <td>0.0</td>\n",
       "      <td>133.289993</td>\n",
       "    </tr>\n",
       "  </tbody>\n",
       "</table>\n",
       "<p>2 rows × 109 columns</p>\n",
       "</div>"
      ],
      "text/plain": [
       "                           Open        High         Low       Close  Volume  \\\n",
       "Date                                                                          \n",
       "2020-06-09 13:30:00  133.520004  133.600006  133.080002  133.264999  175324   \n",
       "2020-06-09 13:31:00  133.274994  133.279999  133.080002  133.160004   22922   \n",
       "\n",
       "                       Adj Open  Polarity  Subjectivity   ai  also  ...  \\\n",
       "Date                                                                ...   \n",
       "2020-06-09 13:30:00  133.274994  0.099753      0.391667  0.0   0.0  ...   \n",
       "2020-06-09 13:31:00  133.289993  0.240000      0.240000  0.0   0.0  ...   \n",
       "\n",
       "                     virtual  want  watson  way      work   working  world  \\\n",
       "Date                                                                         \n",
       "2020-06-09 13:30:00      0.0   0.0     0.0  0.0  0.215774  0.000000    0.0   \n",
       "2020-06-09 13:31:00      0.0   0.0     0.0  0.0  0.000000  0.305367    0.0   \n",
       "\n",
       "                     would  year      Target  \n",
       "Date                                          \n",
       "2020-06-09 13:30:00    0.0   0.0  133.274994  \n",
       "2020-06-09 13:31:00    0.0   0.0  133.289993  \n",
       "\n",
       "[2 rows x 109 columns]"
      ]
     },
     "execution_count": 5,
     "metadata": {},
     "output_type": "execute_result"
    }
   ],
   "source": [
    "Model_data.set_index(\"Date\",inplace=True)\n",
    "Model_data.head(2)"
   ]
  },
  {
   "cell_type": "code",
   "execution_count": 6,
   "metadata": {},
   "outputs": [
    {
     "name": "stdout",
     "output_type": "stream",
     "text": [
      "Starting Data of the Data is 2020-06-09 13:30:00  and Last Date is 2020-07-08 18:28:00\n"
     ]
    }
   ],
   "source": [
    "print(f\"Starting Data of the Data is {Model_data.index.min()}  and Last Date is {Model_data.index.max()}\")"
   ]
  },
  {
   "cell_type": "code",
   "execution_count": null,
   "metadata": {},
   "outputs": [],
   "source": []
  },
  {
   "cell_type": "code",
   "execution_count": 7,
   "metadata": {},
   "outputs": [],
   "source": [
    "def train_test_split(train_size):\n",
    "    xtrain, ytrain = x[:train_size], y[:train_size]\n",
    "    xtest, ytest = x[train_size:], y[train_size:]\n",
    "    return xtrain,xtest,ytrain,ytest"
   ]
  },
  {
   "cell_type": "code",
   "execution_count": 8,
   "metadata": {},
   "outputs": [],
   "source": [
    "train_size = int(len(Model_data) *0.60)\n",
    "test_size = int(len(Model_data)) - train_size"
   ]
  },
  {
   "cell_type": "code",
   "execution_count": 9,
   "metadata": {},
   "outputs": [],
   "source": [
    "x = Model_data.iloc[:,:-1].values\n",
    "y = Model_data.iloc[:,-1].values"
   ]
  },
  {
   "cell_type": "code",
   "execution_count": 10,
   "metadata": {},
   "outputs": [],
   "source": [
    "xtrain,xtest,ytrain,ytest = train_test_split(train_size)"
   ]
  },
  {
   "cell_type": "code",
   "execution_count": 11,
   "metadata": {},
   "outputs": [
    {
     "name": "stdout",
     "output_type": "stream",
     "text": [
      "Shape of the train data set: x = (4640, 108)  and y = (4640,)\n",
      "Shape of the test data set: x = (3094, 108)  and y = (3094,)\n"
     ]
    }
   ],
   "source": [
    "print(f\"Shape of the train data set: x = {xtrain.shape}  and y = {ytrain.shape}\")\n",
    "print(f\"Shape of the test data set: x = {xtest.shape}  and y = {ytest.shape}\")"
   ]
  },
  {
   "cell_type": "code",
   "execution_count": 12,
   "metadata": {},
   "outputs": [],
   "source": [
    "xtrain = xtrain.reshape(xtrain.shape[0],xtrain.shape[1],1)"
   ]
  },
  {
   "cell_type": "code",
   "execution_count": 13,
   "metadata": {},
   "outputs": [],
   "source": [
    "xtest = xtest.reshape(xtest.shape[0],xtest.shape[1],1)"
   ]
  },
  {
   "cell_type": "code",
   "execution_count": 14,
   "metadata": {},
   "outputs": [
    {
     "name": "stderr",
     "output_type": "stream",
     "text": [
      "Using TensorFlow backend.\n"
     ]
    }
   ],
   "source": [
    "# import keras\n",
    "from keras.models import Sequential\n",
    "from keras.layers import Activation, Dropout\n",
    "from keras.layers.core import Dense, Flatten\n",
    "from keras.optimizers import Adam\n",
    "from keras.layers.convolutional import Conv1D\n",
    "from keras.layers.convolutional import MaxPooling1D"
   ]
  },
  {
   "cell_type": "code",
   "execution_count": 15,
   "metadata": {},
   "outputs": [],
   "source": [
    "# define model\n",
    "model = Sequential()\n",
    "model.add(Conv1D(filters=120, kernel_size=3, activation='relu', input_shape=(xtrain.shape[1],1)))\n",
    "model.add(Conv1D(filters=128, kernel_size=3, activation='relu'))\n",
    "model.add(MaxPooling1D(2))\n",
    "model.add(Conv1D(filters=60, kernel_size=1, activation='relu'))\n",
    "model.add(MaxPooling1D(1))\n",
    "model.add(Conv1D(filters=60, kernel_size=1, activation='relu'))\n",
    "model.add(Dropout(0.5))\n",
    "model.add(Flatten())\n",
    "model.add(Dense(100, activation='relu'))\n",
    "model.add(Dense(100, activation='relu'))\n",
    "model.add(Dense(1,activation='linear'))\n",
    "model.compile(optimizer='adam', loss='mse' , metrics = ['mape'])"
   ]
  },
  {
   "cell_type": "code",
   "execution_count": 16,
   "metadata": {},
   "outputs": [
    {
     "name": "stdout",
     "output_type": "stream",
     "text": [
      "Train on 4640 samples, validate on 3094 samples\n",
      "Epoch 1/5\n",
      "4640/4640 [==============================] - 12s 3ms/step - loss: 4059.6695 - mape: 25.6611 - val_loss: 836.3148 - val_mape: 3.1388\n",
      "Epoch 2/5\n",
      "4640/4640 [==============================] - 12s 2ms/step - loss: 1214.0728 - mape: 13.3269 - val_loss: 4783.5933 - val_mape: 4.1425\n",
      "Epoch 3/5\n",
      "4640/4640 [==============================] - 12s 3ms/step - loss: 781.3611 - mape: 10.7740 - val_loss: 59.6355 - val_mape: 5.9965\n",
      "Epoch 4/5\n",
      "4640/4640 [==============================] - 12s 3ms/step - loss: 1063.5271 - mape: 11.5174 - val_loss: 1717.6001 - val_mape: 6.1679\n",
      "Epoch 5/5\n",
      "4640/4640 [==============================] - 12s 3ms/step - loss: 211.2522 - mape: 6.2598 - val_loss: 65.1891 - val_mape: 4.3544\n"
     ]
    }
   ],
   "source": [
    "model_history = model.fit(xtrain, ytrain ,validation_data=(xtest,ytest), batch_size=10, epochs=5)"
   ]
  },
  {
   "cell_type": "code",
   "execution_count": 17,
   "metadata": {},
   "outputs": [],
   "source": [
    "pred = model.predict(xtest)"
   ]
  },
  {
   "cell_type": "code",
   "execution_count": 18,
   "metadata": {},
   "outputs": [
    {
     "data": {
      "text/plain": [
       "array([[124.11689 ],\n",
       "       [123.402306],\n",
       "       [123.75307 ],\n",
       "       ...,\n",
       "       [124.01147 ],\n",
       "       [123.891075],\n",
       "       [124.24109 ]], dtype=float32)"
      ]
     },
     "execution_count": 18,
     "metadata": {},
     "output_type": "execute_result"
    }
   ],
   "source": [
    "pred"
   ]
  },
  {
   "cell_type": "code",
   "execution_count": 19,
   "metadata": {},
   "outputs": [
    {
     "data": {
      "text/plain": [
       "array([117.37000275, 117.39499664, 117.33999634, ..., 117.22000122,\n",
       "       117.20999908, 117.23000336])"
      ]
     },
     "execution_count": 19,
     "metadata": {},
     "output_type": "execute_result"
    }
   ],
   "source": [
    "ytest"
   ]
  },
  {
   "cell_type": "code",
   "execution_count": 30,
   "metadata": {},
   "outputs": [
    {
     "data": {
      "text/plain": [
       "4.354218155626966"
      ]
     },
     "execution_count": 30,
     "metadata": {},
     "output_type": "execute_result"
    }
   ],
   "source": [
    "MAPE = ((abs(ytest - pred))/ytest)*100\n",
    "MAPE.mean()"
   ]
  },
  {
   "cell_type": "code",
   "execution_count": null,
   "metadata": {},
   "outputs": [],
   "source": []
  },
  {
   "cell_type": "code",
   "execution_count": 20,
   "metadata": {},
   "outputs": [
    {
     "name": "stderr",
     "output_type": "stream",
     "text": [
      "UsageError: Line magic function `%matplotlib.inline` not found.\n"
     ]
    }
   ],
   "source": [
    "import matplotlib.pyplot as plt\n",
    "\n",
    "%matplotlib.inline"
   ]
  },
  {
   "cell_type": "code",
   "execution_count": 21,
   "metadata": {},
   "outputs": [
    {
     "data": {
      "image/png": "[encoded data removed]",
      "text/plain": [
       "<Figure size 432x288 with 1 Axes>"
      ]
     },
     "metadata": {
      "needs_background": "light"
     },
     "output_type": "display_data"
    }
   ],
   "source": [
    "# summarize history for accuracy\n",
    "plt.plot(model_history.history['mape'])\n",
    "plt.plot(model_history.history['val_mape'])\n",
    "plt.title('model accuracy')\n",
    "plt.ylabel('mape')\n",
    "plt.xlabel('epoch')\n",
    "plt.legend(['train', 'test'], loc='upper right')\n",
    "plt.show()"
   ]
  },
  {
   "cell_type": "code",
   "execution_count": 22,
   "metadata": {},
   "outputs": [
    {
     "data": {
      "image/png": "[encoded data removed]",
      "text/plain": [
       "<Figure size 432x288 with 1 Axes>"
      ]
     },
     "metadata": {
      "needs_background": "light"
     },
     "output_type": "display_data"
    }
   ],
   "source": [
    "# summarize history for accuracy\n",
    "plt.plot(model_history.history['loss'])\n",
    "plt.plot(model_history.history['val_loss'])\n",
    "plt.title('loss vs epoches')\n",
    "plt.ylabel('loss')\n",
    "plt.xlabel('epoch')\n",
    "plt.legend(['train', 'test'], loc='upper right')\n",
    "plt.show()"
   ]
  },
  {
   "cell_type": "code",
   "execution_count": null,
   "metadata": {},
   "outputs": [],
   "source": []
  },
  {
   "cell_type": "code",
   "execution_count": 23,
   "metadata": {},
   "outputs": [],
   "source": [
    "# Model by Sir's Neural Network Structure"
   ]
  },
  {
   "cell_type": "code",
   "execution_count": 24,
   "metadata": {},
   "outputs": [],
   "source": [
    "model1 = Sequential()\n",
    "model1.add(Conv1D(32, 2, activation=\"relu\", input_shape=(xtrain.shape[1], 1)))\n",
    "model1.add(Flatten())\n",
    "model1.add(Dense(64, activation=\"relu\"))\n",
    "model1.add(Dense(1))\n",
    "model1.compile(loss=\"mse\", optimizer=\"adam\")"
   ]
  },
  {
   "cell_type": "code",
   "execution_count": 25,
   "metadata": {},
   "outputs": [
    {
     "name": "stdout",
     "output_type": "stream",
     "text": [
      "Model: \"sequential_2\"\n",
      "_________________________________________________________________\n",
      "Layer (type)                 Output Shape              Param #   \n",
      "=================================================================\n",
      "conv1d_5 (Conv1D)            (None, 107, 32)           96        \n",
      "_________________________________________________________________\n",
      "flatten_2 (Flatten)          (None, 3424)              0         \n",
      "_________________________________________________________________\n",
      "dense_4 (Dense)              (None, 64)                219200    \n",
      "_________________________________________________________________\n",
      "dense_5 (Dense)              (None, 1)                 65        \n",
      "=================================================================\n",
      "Total params: 219,361\n",
      "Trainable params: 219,361\n",
      "Non-trainable params: 0\n",
      "_________________________________________________________________\n"
     ]
    }
   ],
   "source": [
    "model1.summary()"
   ]
  },
  {
   "cell_type": "code",
   "execution_count": 26,
   "metadata": {},
   "outputs": [
    {
     "name": "stdout",
     "output_type": "stream",
     "text": [
      "Train on 4640 samples, validate on 3094 samples\n",
      "Epoch 1/50\n",
      "4640/4640 [==============================] - 1s 315us/step - loss: 75803.8492 - val_loss: 64.3639\n",
      "Epoch 2/50\n",
      "4640/4640 [==============================] - 1s 259us/step - loss: 5.8381 - val_loss: 2.3948\n",
      "Epoch 3/50\n",
      "4640/4640 [==============================] - 1s 291us/step - loss: 1.0342 - val_loss: 1.8028\n",
      "Epoch 4/50\n",
      "4640/4640 [==============================] - 1s 269us/step - loss: 1.0123 - val_loss: 1.5425\n",
      "Epoch 5/50\n",
      "4640/4640 [==============================] - 1s 277us/step - loss: 1.7743 - val_loss: 4.8929\n",
      "Epoch 6/50\n",
      "4640/4640 [==============================] - 1s 279us/step - loss: 0.9803 - val_loss: 0.9523\n",
      "Epoch 7/50\n",
      "4640/4640 [==============================] - 1s 268us/step - loss: 65.5834 - val_loss: 12.7364\n",
      "Epoch 8/50\n",
      "4640/4640 [==============================] - 1s 267us/step - loss: 223.8963 - val_loss: 1.4417\n",
      "Epoch 9/50\n",
      "4640/4640 [==============================] - 1s 309us/step - loss: 13.4906 - val_loss: 0.8000\n",
      "Epoch 10/50\n",
      "4640/4640 [==============================] - 1s 271us/step - loss: 8.1100 - val_loss: 65.9182\n",
      "Epoch 11/50\n",
      "4640/4640 [==============================] - 1s 266us/step - loss: 28.6234 - val_loss: 14.4442\n",
      "Epoch 12/50\n",
      "4640/4640 [==============================] - 1s 263us/step - loss: 366.3089 - val_loss: 119.2303\n",
      "Epoch 13/50\n",
      "4640/4640 [==============================] - 1s 280us/step - loss: 15.5427 - val_loss: 0.8848\n",
      "Epoch 14/50\n",
      "4640/4640 [==============================] - 1s 282us/step - loss: 12.2176 - val_loss: 39.5221\n",
      "Epoch 15/50\n",
      "4640/4640 [==============================] - 1s 255us/step - loss: 2.1864 - val_loss: 1.4705\n",
      "Epoch 16/50\n",
      "4640/4640 [==============================] - 1s 254us/step - loss: 7.6754 - val_loss: 11.8667\n",
      "Epoch 17/50\n",
      "4640/4640 [==============================] - 1s 255us/step - loss: 2237.7217 - val_loss: 21173.7994\n",
      "Epoch 18/50\n",
      "4640/4640 [==============================] - 1s 251us/step - loss: 157437.6833 - val_loss: 4661.6551\n",
      "Epoch 19/50\n",
      "4640/4640 [==============================] - 1s 255us/step - loss: 527.6413 - val_loss: 124.8307\n",
      "Epoch 20/50\n",
      "4640/4640 [==============================] - 1s 256us/step - loss: 51.1586 - val_loss: 128.0567\n",
      "Epoch 21/50\n",
      "4640/4640 [==============================] - 1s 251us/step - loss: 4.7276 - val_loss: 0.8178\n",
      "Epoch 22/50\n",
      "4640/4640 [==============================] - 1s 252us/step - loss: 9.8708 - val_loss: 1.8601\n",
      "Epoch 23/50\n",
      "4640/4640 [==============================] - 1s 256us/step - loss: 19.1852 - val_loss: 0.9491\n",
      "Epoch 24/50\n",
      "4640/4640 [==============================] - 1s 253us/step - loss: 0.9299 - val_loss: 0.4611\n",
      "Epoch 25/50\n",
      "4640/4640 [==============================] - 1s 255us/step - loss: 0.4504 - val_loss: 0.3015\n",
      "Epoch 26/50\n",
      "4640/4640 [==============================] - 1s 255us/step - loss: 148.6820 - val_loss: 55.9285\n",
      "Epoch 27/50\n",
      "4640/4640 [==============================] - 1s 253us/step - loss: 346.8645 - val_loss: 0.1777\n",
      "Epoch 28/50\n",
      "4640/4640 [==============================] - 1s 253us/step - loss: 0.7388 - val_loss: 0.3487\n",
      "Epoch 29/50\n",
      "4640/4640 [==============================] - 1s 252us/step - loss: 0.2541 - val_loss: 0.2348\n",
      "Epoch 30/50\n",
      "4640/4640 [==============================] - 1s 258us/step - loss: 1.4490 - val_loss: 0.3126\n",
      "Epoch 31/50\n",
      "4640/4640 [==============================] - 1s 251us/step - loss: 4.6042 - val_loss: 0.4689\n",
      "Epoch 32/50\n",
      "4640/4640 [==============================] - 1s 252us/step - loss: 64.1267 - val_loss: 2.3550\n",
      "Epoch 33/50\n",
      "4640/4640 [==============================] - 1s 266us/step - loss: 9.5905 - val_loss: 0.2906\n",
      "Epoch 34/50\n",
      "4640/4640 [==============================] - 1s 255us/step - loss: 1.6225 - val_loss: 56.3798\n",
      "Epoch 35/50\n",
      "4640/4640 [==============================] - 1s 255us/step - loss: 1264.0544 - val_loss: 457.0428\n",
      "Epoch 36/50\n",
      "4640/4640 [==============================] - 1s 251us/step - loss: 6826.2735 - val_loss: 11977.6218\n",
      "Epoch 37/50\n",
      "4640/4640 [==============================] - 1s 255us/step - loss: 261.9631 - val_loss: 10394.6291\n",
      "Epoch 38/50\n",
      "4640/4640 [==============================] - 1s 252us/step - loss: 7030.4763 - val_loss: 5.6377\n",
      "Epoch 39/50\n",
      "4640/4640 [==============================] - 1s 253us/step - loss: 3.1483 - val_loss: 3.2863\n",
      "Epoch 40/50\n",
      "4640/4640 [==============================] - 1s 252us/step - loss: 22.9681 - val_loss: 458.4445\n",
      "Epoch 41/50\n",
      "4640/4640 [==============================] - 1s 255us/step - loss: 301.6352 - val_loss: 1.6105\n",
      "Epoch 42/50\n",
      "4640/4640 [==============================] - 1s 252us/step - loss: 0.7977 - val_loss: 7.2171\n",
      "Epoch 43/50\n",
      "4640/4640 [==============================] - 1s 255us/step - loss: 1.0464 - val_loss: 0.6260\n",
      "Epoch 44/50\n",
      "4640/4640 [==============================] - 1s 256us/step - loss: 0.4158 - val_loss: 0.6676\n",
      "Epoch 45/50\n",
      "4640/4640 [==============================] - 1s 251us/step - loss: 1.6892 - val_loss: 0.8101\n",
      "Epoch 46/50\n",
      "4640/4640 [==============================] - 1s 259us/step - loss: 2.3617 - val_loss: 0.8601\n",
      "Epoch 47/50\n",
      "4640/4640 [==============================] - 1s 251us/step - loss: 2.4086 - val_loss: 22.4146\n",
      "Epoch 48/50\n",
      "4640/4640 [==============================] - 1s 255us/step - loss: 11.9290 - val_loss: 0.9982\n",
      "Epoch 49/50\n",
      "4640/4640 [==============================] - 1s 255us/step - loss: 0.5202 - val_loss: 1.5504\n",
      "Epoch 50/50\n",
      "4640/4640 [==============================] - 1s 252us/step - loss: 2.3721 - val_loss: 33.6712\n"
     ]
    }
   ],
   "source": [
    "model1_history = model1.fit(xtrain, ytrain, batch_size=32,validation_data=(xtest,ytest),epochs=50)"
   ]
  },
  {
   "cell_type": "code",
   "execution_count": 27,
   "metadata": {},
   "outputs": [],
   "source": [
    "y_pred_3 = model.predict(xtest)\n",
    "MAPE = ((abs(ytest - y_pred_3))/ytest)*100"
   ]
  },
  {
   "cell_type": "code",
   "execution_count": 28,
   "metadata": {},
   "outputs": [
    {
     "data": {
      "text/plain": [
       "4.354218155626966"
      ]
     },
     "execution_count": 28,
     "metadata": {},
     "output_type": "execute_result"
    }
   ],
   "source": [
    "MAPE.mean()"
   ]
  },
  {
   "cell_type": "code",
   "execution_count": 29,
   "metadata": {},
   "outputs": [
    {
     "data": {
      "image/png": "[encoded data removed]",
      "text/plain": [
       "<Figure size 432x288 with 1 Axes>"
      ]
     },
     "metadata": {
      "needs_background": "light"
     },
     "output_type": "display_data"
    }
   ],
   "source": [
    "# summarize history for accuracy\n",
    "plt.plot(model_history.history['loss'])\n",
    "plt.plot(model_history.history['val_loss'])\n",
    "plt.title('loss vs epoches')\n",
    "plt.ylabel('loss')\n",
    "plt.xlabel('epoch')\n",
    "plt.legend(['train', 'test'], loc='upper right')\n",
    "plt.show()"
   ]
  },
  {
   "cell_type": "code",
   "execution_count": null,
   "metadata": {},
   "outputs": [],
   "source": []
  }
 ],
 "metadata": {
  "kernelspec": {
   "display_name": "Python 3",
   "language": "python",
   "name": "python3"
  },
  "language_info": {
   "codemirror_mode": {
    "name": "ipython",
    "version": 3
   },
   "file_extension": ".py",
   "mimetype": "text/x-python",
   "name": "python",
   "nbconvert_exporter": "python",
   "pygments_lexer": "ipython3",
   "version": "3.7.7"
  }
 },
 "nbformat": 4,
 "nbformat_minor": 4
}
