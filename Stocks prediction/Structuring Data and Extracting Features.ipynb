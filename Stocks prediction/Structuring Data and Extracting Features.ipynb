{
 "cells": [
  {
   "cell_type": "code",
   "execution_count": 1,
   "metadata": {},
   "outputs": [],
   "source": [
    "import pandas as pd\n",
    "import numpy as np"
   ]
  },
  {
   "cell_type": "markdown",
   "metadata": {},
   "source": [
    "### Stock Data"
   ]
  },
  {
   "cell_type": "code",
   "execution_count": 2,
   "metadata": {},
   "outputs": [],
   "source": [
    "s = pd.read_excel(r\"C:\\Users\\SS\\Documents\\Internship - Stock Prediction\\Data\\IBM.xlsx\")"
   ]
  },
  {
   "cell_type": "code",
   "execution_count": 3,
   "metadata": {},
   "outputs": [
    {
     "data": {
      "text/html": [
       "<div>\n",
       "<style scoped>\n",
       "    .dataframe tbody tr th:only-of-type {\n",
       "        vertical-align: middle;\n",
       "    }\n",
       "\n",
       "    .dataframe tbody tr th {\n",
       "        vertical-align: top;\n",
       "    }\n",
       "\n",
       "    .dataframe thead th {\n",
       "        text-align: right;\n",
       "    }\n",
       "</style>\n",
       "<table border=\"1\" class=\"dataframe\">\n",
       "  <thead>\n",
       "    <tr style=\"text-align: right;\">\n",
       "      <th></th>\n",
       "      <th>Datetime</th>\n",
       "      <th>Open</th>\n",
       "      <th>High</th>\n",
       "      <th>Low</th>\n",
       "      <th>Close</th>\n",
       "      <th>Volume</th>\n",
       "      <th>Adj Open</th>\n",
       "    </tr>\n",
       "  </thead>\n",
       "  <tbody>\n",
       "    <tr>\n",
       "      <th>0</th>\n",
       "      <td>2020-06-08 09:30:00-04:00</td>\n",
       "      <td>132.270004</td>\n",
       "      <td>132.949997</td>\n",
       "      <td>132.270004</td>\n",
       "      <td>132.949997</td>\n",
       "      <td>145398</td>\n",
       "      <td>133.009995</td>\n",
       "    </tr>\n",
       "    <tr>\n",
       "      <th>1</th>\n",
       "      <td>2020-06-08 09:31:00-04:00</td>\n",
       "      <td>133.009995</td>\n",
       "      <td>133.169998</td>\n",
       "      <td>132.949997</td>\n",
       "      <td>133.020004</td>\n",
       "      <td>27135</td>\n",
       "      <td>133.089996</td>\n",
       "    </tr>\n",
       "    <tr>\n",
       "      <th>2</th>\n",
       "      <td>2020-06-08 09:32:00-04:00</td>\n",
       "      <td>133.089996</td>\n",
       "      <td>133.520004</td>\n",
       "      <td>133.089996</td>\n",
       "      <td>133.520004</td>\n",
       "      <td>12053</td>\n",
       "      <td>133.529999</td>\n",
       "    </tr>\n",
       "    <tr>\n",
       "      <th>3</th>\n",
       "      <td>2020-06-08 09:33:00-04:00</td>\n",
       "      <td>133.529999</td>\n",
       "      <td>133.690002</td>\n",
       "      <td>133.410004</td>\n",
       "      <td>133.639999</td>\n",
       "      <td>17842</td>\n",
       "      <td>133.610001</td>\n",
       "    </tr>\n",
       "    <tr>\n",
       "      <th>4</th>\n",
       "      <td>2020-06-08 09:34:00-04:00</td>\n",
       "      <td>133.610001</td>\n",
       "      <td>133.610001</td>\n",
       "      <td>133.500397</td>\n",
       "      <td>133.514999</td>\n",
       "      <td>22657</td>\n",
       "      <td>133.550003</td>\n",
       "    </tr>\n",
       "  </tbody>\n",
       "</table>\n",
       "</div>"
      ],
      "text/plain": [
       "                    Datetime        Open        High         Low       Close  \\\n",
       "0  2020-06-08 09:30:00-04:00  132.270004  132.949997  132.270004  132.949997   \n",
       "1  2020-06-08 09:31:00-04:00  133.009995  133.169998  132.949997  133.020004   \n",
       "2  2020-06-08 09:32:00-04:00  133.089996  133.520004  133.089996  133.520004   \n",
       "3  2020-06-08 09:33:00-04:00  133.529999  133.690002  133.410004  133.639999   \n",
       "4  2020-06-08 09:34:00-04:00  133.610001  133.610001  133.500397  133.514999   \n",
       "\n",
       "   Volume    Adj Open  \n",
       "0  145398  133.009995  \n",
       "1   27135  133.089996  \n",
       "2   12053  133.529999  \n",
       "3   17842  133.610001  \n",
       "4   22657  133.550003  "
      ]
     },
     "execution_count": 3,
     "metadata": {},
     "output_type": "execute_result"
    }
   ],
   "source": [
    "s.head()"
   ]
  },
  {
   "cell_type": "code",
   "execution_count": 4,
   "metadata": {},
   "outputs": [],
   "source": [
    "s.columns=[\"Date\",\"Open\",\"High\",\"Low\",\"Close\",\"Volume\",\"Adj Open\"]"
   ]
  },
  {
   "cell_type": "code",
   "execution_count": 5,
   "metadata": {},
   "outputs": [],
   "source": [
    "s.Date = s.Date.apply(np.datetime64)"
   ]
  },
  {
   "cell_type": "code",
   "execution_count": 6,
   "metadata": {},
   "outputs": [
    {
     "name": "stdout",
     "output_type": "stream",
     "text": [
      "<class 'pandas.core.frame.DataFrame'>\n",
      "RangeIndex: 8129 entries, 0 to 8128\n",
      "Data columns (total 7 columns):\n",
      " #   Column    Non-Null Count  Dtype         \n",
      "---  ------    --------------  -----         \n",
      " 0   Date      8129 non-null   datetime64[ns]\n",
      " 1   Open      8129 non-null   float64       \n",
      " 2   High      8129 non-null   float64       \n",
      " 3   Low       8129 non-null   float64       \n",
      " 4   Close     8129 non-null   float64       \n",
      " 5   Volume    8129 non-null   int64         \n",
      " 6   Adj Open  8129 non-null   float64       \n",
      "dtypes: datetime64[ns](1), float64(5), int64(1)\n",
      "memory usage: 444.7 KB\n"
     ]
    }
   ],
   "source": [
    "s.info()"
   ]
  },
  {
   "cell_type": "code",
   "execution_count": 7,
   "metadata": {},
   "outputs": [],
   "source": [
    "s = s.sort_values(by='Date')"
   ]
  },
  {
   "cell_type": "code",
   "execution_count": 8,
   "metadata": {},
   "outputs": [],
   "source": [
    "s.reset_index(inplace=True)"
   ]
  },
  {
   "cell_type": "code",
   "execution_count": 9,
   "metadata": {},
   "outputs": [
    {
     "name": "stdout",
     "output_type": "stream",
     "text": [
      "Starting date and time of the Data is 2020-06-08 13:30:00  and Last date and time is 2020-07-09 16:55:12\n"
     ]
    }
   ],
   "source": [
    "print(f\"Starting date and time of the Data is {s.Date.min()}  and Last date and time is {s.Date.max()}\")"
   ]
  },
  {
   "cell_type": "code",
   "execution_count": 10,
   "metadata": {},
   "outputs": [
    {
     "data": {
      "text/html": [
       "<div>\n",
       "<style scoped>\n",
       "    .dataframe tbody tr th:only-of-type {\n",
       "        vertical-align: middle;\n",
       "    }\n",
       "\n",
       "    .dataframe tbody tr th {\n",
       "        vertical-align: top;\n",
       "    }\n",
       "\n",
       "    .dataframe thead th {\n",
       "        text-align: right;\n",
       "    }\n",
       "</style>\n",
       "<table border=\"1\" class=\"dataframe\">\n",
       "  <thead>\n",
       "    <tr style=\"text-align: right;\">\n",
       "      <th></th>\n",
       "      <th>Date</th>\n",
       "      <th>Open</th>\n",
       "      <th>High</th>\n",
       "      <th>Low</th>\n",
       "      <th>Close</th>\n",
       "      <th>Volume</th>\n",
       "      <th>Adj Open</th>\n",
       "    </tr>\n",
       "  </thead>\n",
       "  <tbody>\n",
       "    <tr>\n",
       "      <th>0</th>\n",
       "      <td>2020-06-08 13:30:00</td>\n",
       "      <td>132.270004</td>\n",
       "      <td>132.949997</td>\n",
       "      <td>132.270004</td>\n",
       "      <td>132.949997</td>\n",
       "      <td>145398</td>\n",
       "      <td>133.009995</td>\n",
       "    </tr>\n",
       "    <tr>\n",
       "      <th>1</th>\n",
       "      <td>2020-06-08 13:31:00</td>\n",
       "      <td>133.009995</td>\n",
       "      <td>133.169998</td>\n",
       "      <td>132.949997</td>\n",
       "      <td>133.020004</td>\n",
       "      <td>27135</td>\n",
       "      <td>133.089996</td>\n",
       "    </tr>\n",
       "  </tbody>\n",
       "</table>\n",
       "</div>"
      ],
      "text/plain": [
       "                 Date        Open        High         Low       Close  Volume  \\\n",
       "0 2020-06-08 13:30:00  132.270004  132.949997  132.270004  132.949997  145398   \n",
       "1 2020-06-08 13:31:00  133.009995  133.169998  132.949997  133.020004   27135   \n",
       "\n",
       "     Adj Open  \n",
       "0  133.009995  \n",
       "1  133.089996  "
      ]
     },
     "execution_count": 10,
     "metadata": {},
     "output_type": "execute_result"
    }
   ],
   "source": [
    "s = s.iloc[:,1:]\n",
    "s.head(2)"
   ]
  },
  {
   "cell_type": "code",
   "execution_count": null,
   "metadata": {},
   "outputs": [],
   "source": []
  },
  {
   "cell_type": "markdown",
   "metadata": {},
   "source": [
    "### Tweets"
   ]
  },
  {
   "cell_type": "code",
   "execution_count": 11,
   "metadata": {},
   "outputs": [],
   "source": [
    "t = pd.read_csv(r\"C:\\Users\\SS\\Documents\\Internship - Stock Prediction\\Data\\tweet IBM.csv\")"
   ]
  },
  {
   "cell_type": "code",
   "execution_count": 12,
   "metadata": {},
   "outputs": [
    {
     "data": {
      "text/html": [
       "<div>\n",
       "<style scoped>\n",
       "    .dataframe tbody tr th:only-of-type {\n",
       "        vertical-align: middle;\n",
       "    }\n",
       "\n",
       "    .dataframe tbody tr th {\n",
       "        vertical-align: top;\n",
       "    }\n",
       "\n",
       "    .dataframe thead th {\n",
       "        text-align: right;\n",
       "    }\n",
       "</style>\n",
       "<table border=\"1\" class=\"dataframe\">\n",
       "  <thead>\n",
       "    <tr style=\"text-align: right;\">\n",
       "      <th></th>\n",
       "      <th>Unnamed: 0</th>\n",
       "      <th>date</th>\n",
       "      <th>tweet_text</th>\n",
       "    </tr>\n",
       "  </thead>\n",
       "  <tbody>\n",
       "    <tr>\n",
       "      <th>0</th>\n",
       "      <td>0</td>\n",
       "      <td>2020-06-09 23:59:56+00:00</td>\n",
       "      <td>All their regions are down!</td>\n",
       "    </tr>\n",
       "    <tr>\n",
       "      <th>1</th>\n",
       "      <td>1</td>\n",
       "      <td>2020-06-09 23:59:53+00:00</td>\n",
       "      <td>Unfortunately no ETA yet. We are waiting on IB...</td>\n",
       "    </tr>\n",
       "    <tr>\n",
       "      <th>2</th>\n",
       "      <td>2</td>\n",
       "      <td>2020-06-09 23:59:46+00:00</td>\n",
       "      <td>Would be cool to see if they can manage to imp...</td>\n",
       "    </tr>\n",
       "    <tr>\n",
       "      <th>3</th>\n",
       "      <td>3</td>\n",
       "      <td>2020-06-09 23:59:45+00:00</td>\n",
       "      <td>IBM is canceling its facial recognition programs</td>\n",
       "    </tr>\n",
       "    <tr>\n",
       "      <th>4</th>\n",
       "      <td>4</td>\n",
       "      <td>2020-06-09 23:59:39+00:00</td>\n",
       "      <td>[Status] [Mel251] Information: IBM Cloud Netwo...</td>\n",
       "    </tr>\n",
       "  </tbody>\n",
       "</table>\n",
       "</div>"
      ],
      "text/plain": [
       "   Unnamed: 0                       date  \\\n",
       "0           0  2020-06-09 23:59:56+00:00   \n",
       "1           1  2020-06-09 23:59:53+00:00   \n",
       "2           2  2020-06-09 23:59:46+00:00   \n",
       "3           3  2020-06-09 23:59:45+00:00   \n",
       "4           4  2020-06-09 23:59:39+00:00   \n",
       "\n",
       "                                          tweet_text  \n",
       "0                        All their regions are down!  \n",
       "1  Unfortunately no ETA yet. We are waiting on IB...  \n",
       "2  Would be cool to see if they can manage to imp...  \n",
       "3  IBM is canceling its facial recognition programs   \n",
       "4  [Status] [Mel251] Information: IBM Cloud Netwo...  "
      ]
     },
     "execution_count": 12,
     "metadata": {},
     "output_type": "execute_result"
    }
   ],
   "source": [
    "t.head()"
   ]
  },
  {
   "cell_type": "code",
   "execution_count": 13,
   "metadata": {},
   "outputs": [],
   "source": [
    "t = t.iloc[:,1:]"
   ]
  },
  {
   "cell_type": "code",
   "execution_count": 14,
   "metadata": {},
   "outputs": [
    {
     "name": "stdout",
     "output_type": "stream",
     "text": [
      "<class 'pandas.core.frame.DataFrame'>\n",
      "RangeIndex: 62329 entries, 0 to 62328\n",
      "Data columns (total 2 columns):\n",
      " #   Column  Non-Null Count  Dtype         \n",
      "---  ------  --------------  -----         \n",
      " 0   Date    62329 non-null  datetime64[ns]\n",
      " 1   Tweets  62329 non-null  object        \n",
      "dtypes: datetime64[ns](1), object(1)\n",
      "memory usage: 974.0+ KB\n"
     ]
    }
   ],
   "source": [
    "t.columns = [\"Date\",\"Tweets\"]\n",
    "t.Date = t.Date.apply(np.datetime64)\n",
    "t.info()"
   ]
  },
  {
   "cell_type": "code",
   "execution_count": 15,
   "metadata": {},
   "outputs": [],
   "source": [
    "# Tweets are arranged\n",
    "t = t.sort_values(by='Date')\n",
    "\n",
    "\n",
    "### function to join multiple row\n",
    "join_rows = lambda x: \" \".join(x) \n",
    "\n",
    "t = t.set_index(\"Date\")\n",
    "\n",
    "# First Tweets are resampled minutewise then aggregated/joined by function\n",
    "t = t.resample('T').agg({'Tweets': join_rows})\n",
    "t.reset_index(inplace=True)"
   ]
  },
  {
   "cell_type": "code",
   "execution_count": 16,
   "metadata": {},
   "outputs": [
    {
     "data": {
      "text/html": [
       "<div>\n",
       "<style scoped>\n",
       "    .dataframe tbody tr th:only-of-type {\n",
       "        vertical-align: middle;\n",
       "    }\n",
       "\n",
       "    .dataframe tbody tr th {\n",
       "        vertical-align: top;\n",
       "    }\n",
       "\n",
       "    .dataframe thead th {\n",
       "        text-align: right;\n",
       "    }\n",
       "</style>\n",
       "<table border=\"1\" class=\"dataframe\">\n",
       "  <thead>\n",
       "    <tr style=\"text-align: right;\">\n",
       "      <th></th>\n",
       "      <th>Date</th>\n",
       "      <th>Tweets</th>\n",
       "    </tr>\n",
       "  </thead>\n",
       "  <tbody>\n",
       "    <tr>\n",
       "      <th>0</th>\n",
       "      <td>2020-06-09 09:51:00</td>\n",
       "      <td>Top story: IBM will no longer offer, develop, ...</td>\n",
       "    </tr>\n",
       "    <tr>\n",
       "      <th>1</th>\n",
       "      <td>2020-06-09 09:52:00</td>\n",
       "      <td>Indeed a bold move. IBM chose ethics over mone...</td>\n",
       "    </tr>\n",
       "  </tbody>\n",
       "</table>\n",
       "</div>"
      ],
      "text/plain": [
       "                 Date                                             Tweets\n",
       "0 2020-06-09 09:51:00  Top story: IBM will no longer offer, develop, ...\n",
       "1 2020-06-09 09:52:00  Indeed a bold move. IBM chose ethics over mone..."
      ]
     },
     "execution_count": 16,
     "metadata": {},
     "output_type": "execute_result"
    }
   ],
   "source": [
    "t.head(2)"
   ]
  },
  {
   "cell_type": "code",
   "execution_count": 17,
   "metadata": {},
   "outputs": [
    {
     "name": "stdout",
     "output_type": "stream",
     "text": [
      "Starting date and time of the Data is 2020-06-09 09:51:00  and Last date and time is 2020-07-09 23:59:00\n"
     ]
    }
   ],
   "source": [
    "print(f\"Starting date and time of the Data is {t.Date.min()}  and Last date and time is {t.Date.max()}\")"
   ]
  },
  {
   "cell_type": "code",
   "execution_count": 18,
   "metadata": {},
   "outputs": [
    {
     "data": {
      "text/plain": [
       "(44049, 2)"
      ]
     },
     "execution_count": 18,
     "metadata": {},
     "output_type": "execute_result"
    }
   ],
   "source": [
    "#size of tweet dataset after merging data to minute wise\n",
    "t.shape"
   ]
  },
  {
   "cell_type": "code",
   "execution_count": null,
   "metadata": {},
   "outputs": [],
   "source": []
  },
  {
   "cell_type": "markdown",
   "metadata": {},
   "source": [
    "### Cropping Stock Data"
   ]
  },
  {
   "cell_type": "markdown",
   "metadata": {},
   "source": [
    "Stock data's date is earlier than tweets data's date"
   ]
  },
  {
   "cell_type": "code",
   "execution_count": 19,
   "metadata": {},
   "outputs": [],
   "source": [
    "#Stock data starts from 8-6. So Cropping it to make it start from 9-6\n",
    "s = s.loc[s['Date']>=t['Date'].min()]"
   ]
  },
  {
   "cell_type": "code",
   "execution_count": 20,
   "metadata": {},
   "outputs": [
    {
     "name": "stdout",
     "output_type": "stream",
     "text": [
      "Starting date and time of the Data is 2020-06-09 13:30:00  and Last date and time is 2020-07-09 16:55:12\n"
     ]
    }
   ],
   "source": [
    "print(f\"Starting date and time of the Data is {s.Date.min()}  and Last date and time is {s.Date.max()}\")"
   ]
  },
  {
   "cell_type": "code",
   "execution_count": 21,
   "metadata": {},
   "outputs": [
    {
     "data": {
      "text/html": [
       "<div>\n",
       "<style scoped>\n",
       "    .dataframe tbody tr th:only-of-type {\n",
       "        vertical-align: middle;\n",
       "    }\n",
       "\n",
       "    .dataframe tbody tr th {\n",
       "        vertical-align: top;\n",
       "    }\n",
       "\n",
       "    .dataframe thead th {\n",
       "        text-align: right;\n",
       "    }\n",
       "</style>\n",
       "<table border=\"1\" class=\"dataframe\">\n",
       "  <thead>\n",
       "    <tr style=\"text-align: right;\">\n",
       "      <th></th>\n",
       "      <th>Date</th>\n",
       "      <th>Open</th>\n",
       "      <th>High</th>\n",
       "      <th>Low</th>\n",
       "      <th>Close</th>\n",
       "      <th>Volume</th>\n",
       "      <th>Adj Open</th>\n",
       "    </tr>\n",
       "  </thead>\n",
       "  <tbody>\n",
       "    <tr>\n",
       "      <th>0</th>\n",
       "      <td>2020-06-09 13:30:00</td>\n",
       "      <td>133.520004</td>\n",
       "      <td>133.600006</td>\n",
       "      <td>133.080002</td>\n",
       "      <td>133.264999</td>\n",
       "      <td>175324</td>\n",
       "      <td>133.274994</td>\n",
       "    </tr>\n",
       "    <tr>\n",
       "      <th>1</th>\n",
       "      <td>2020-06-09 13:31:00</td>\n",
       "      <td>133.274994</td>\n",
       "      <td>133.279999</td>\n",
       "      <td>133.080002</td>\n",
       "      <td>133.160004</td>\n",
       "      <td>22922</td>\n",
       "      <td>133.289993</td>\n",
       "    </tr>\n",
       "  </tbody>\n",
       "</table>\n",
       "</div>"
      ],
      "text/plain": [
       "                 Date        Open        High         Low       Close  Volume  \\\n",
       "0 2020-06-09 13:30:00  133.520004  133.600006  133.080002  133.264999  175324   \n",
       "1 2020-06-09 13:31:00  133.274994  133.279999  133.080002  133.160004   22922   \n",
       "\n",
       "     Adj Open  \n",
       "0  133.274994  \n",
       "1  133.289993  "
      ]
     },
     "execution_count": 21,
     "metadata": {},
     "output_type": "execute_result"
    }
   ],
   "source": [
    "s.reset_index(inplace=True)\n",
    "s = s.iloc[:,1:]\n",
    "s.head(2)"
   ]
  },
  {
   "cell_type": "code",
   "execution_count": 22,
   "metadata": {},
   "outputs": [],
   "source": [
    "# After Removing Duplicate Dates\n",
    "s.drop_duplicates(subset =\"Date\",keep = False, inplace = True)   "
   ]
  },
  {
   "cell_type": "code",
   "execution_count": 23,
   "metadata": {},
   "outputs": [
    {
     "data": {
      "text/plain": [
       "(7735, 7)"
      ]
     },
     "execution_count": 23,
     "metadata": {},
     "output_type": "execute_result"
    }
   ],
   "source": [
    "# Final Size of Stock Dataset\n",
    "s.shape"
   ]
  },
  {
   "cell_type": "code",
   "execution_count": null,
   "metadata": {},
   "outputs": [],
   "source": []
  },
  {
   "cell_type": "markdown",
   "metadata": {},
   "source": [
    "### Tweets Data Cleaning according to stock data"
   ]
  },
  {
   "cell_type": "code",
   "execution_count": 24,
   "metadata": {},
   "outputs": [],
   "source": [
    "# cropping tweet data to match startinf time with stock data\n",
    "for i in range(len(t)):\n",
    "    if t.Date.iloc[i]==s.Date.iloc[0]:\n",
    "        a = i\n",
    "        break"
   ]
  },
  {
   "cell_type": "code",
   "execution_count": 25,
   "metadata": {},
   "outputs": [
    {
     "data": {
      "text/html": [
       "<div>\n",
       "<style scoped>\n",
       "    .dataframe tbody tr th:only-of-type {\n",
       "        vertical-align: middle;\n",
       "    }\n",
       "\n",
       "    .dataframe tbody tr th {\n",
       "        vertical-align: top;\n",
       "    }\n",
       "\n",
       "    .dataframe thead th {\n",
       "        text-align: right;\n",
       "    }\n",
       "</style>\n",
       "<table border=\"1\" class=\"dataframe\">\n",
       "  <thead>\n",
       "    <tr style=\"text-align: right;\">\n",
       "      <th></th>\n",
       "      <th>Date</th>\n",
       "      <th>Tweets</th>\n",
       "    </tr>\n",
       "  </thead>\n",
       "  <tbody>\n",
       "    <tr>\n",
       "      <th>0</th>\n",
       "      <td>2020-06-09 13:30:00</td>\n",
       "      <td>[music theory coursera] IBM Microservices  WOW...</td>\n",
       "    </tr>\n",
       "    <tr>\n",
       "      <th>1</th>\n",
       "      <td>2020-06-09 13:31:00</td>\n",
       "      <td>IBM quits facial recognition and urges debate ...</td>\n",
       "    </tr>\n",
       "  </tbody>\n",
       "</table>\n",
       "</div>"
      ],
      "text/plain": [
       "                 Date                                             Tweets\n",
       "0 2020-06-09 13:30:00  [music theory coursera] IBM Microservices  WOW...\n",
       "1 2020-06-09 13:31:00  IBM quits facial recognition and urges debate ..."
      ]
     },
     "execution_count": 25,
     "metadata": {},
     "output_type": "execute_result"
    }
   ],
   "source": [
    "t = t.iloc[a:,:]\n",
    "t.reset_index(inplace=True)\n",
    "t = t.iloc[:,1:]\n",
    "t.head(2)"
   ]
  },
  {
   "cell_type": "code",
   "execution_count": 26,
   "metadata": {},
   "outputs": [],
   "source": [
    "t.set_index('Date',inplace=True)"
   ]
  },
  {
   "cell_type": "code",
   "execution_count": 27,
   "metadata": {},
   "outputs": [],
   "source": [
    "# extracting hour and minute from given time\n",
    "hours = t.index.hour\n",
    "minutes = t.index.minute"
   ]
  },
  {
   "cell_type": "code",
   "execution_count": 28,
   "metadata": {},
   "outputs": [],
   "source": [
    "hours = pd.DataFrame(hours, index=t.index)\n",
    "minute = pd.DataFrame(minutes, index=t.index)\n",
    "hours.columns = ['hour']\n",
    "minute.columns = ['minute']"
   ]
  },
  {
   "cell_type": "code",
   "execution_count": 29,
   "metadata": {},
   "outputs": [
    {
     "data": {
      "text/html": [
       "<div>\n",
       "<style scoped>\n",
       "    .dataframe tbody tr th:only-of-type {\n",
       "        vertical-align: middle;\n",
       "    }\n",
       "\n",
       "    .dataframe tbody tr th {\n",
       "        vertical-align: top;\n",
       "    }\n",
       "\n",
       "    .dataframe thead th {\n",
       "        text-align: right;\n",
       "    }\n",
       "</style>\n",
       "<table border=\"1\" class=\"dataframe\">\n",
       "  <thead>\n",
       "    <tr style=\"text-align: right;\">\n",
       "      <th></th>\n",
       "      <th>hour</th>\n",
       "    </tr>\n",
       "    <tr>\n",
       "      <th>Date</th>\n",
       "      <th></th>\n",
       "    </tr>\n",
       "  </thead>\n",
       "  <tbody>\n",
       "    <tr>\n",
       "      <th>2020-06-09 13:30:00</th>\n",
       "      <td>13</td>\n",
       "    </tr>\n",
       "    <tr>\n",
       "      <th>2020-06-09 13:31:00</th>\n",
       "      <td>13</td>\n",
       "    </tr>\n",
       "  </tbody>\n",
       "</table>\n",
       "</div>"
      ],
      "text/plain": [
       "                     hour\n",
       "Date                     \n",
       "2020-06-09 13:30:00    13\n",
       "2020-06-09 13:31:00    13"
      ]
     },
     "execution_count": 29,
     "metadata": {},
     "output_type": "execute_result"
    }
   ],
   "source": [
    "hours.head(2)"
   ]
  },
  {
   "cell_type": "code",
   "execution_count": 30,
   "metadata": {},
   "outputs": [
    {
     "data": {
      "text/html": [
       "<div>\n",
       "<style scoped>\n",
       "    .dataframe tbody tr th:only-of-type {\n",
       "        vertical-align: middle;\n",
       "    }\n",
       "\n",
       "    .dataframe tbody tr th {\n",
       "        vertical-align: top;\n",
       "    }\n",
       "\n",
       "    .dataframe thead th {\n",
       "        text-align: right;\n",
       "    }\n",
       "</style>\n",
       "<table border=\"1\" class=\"dataframe\">\n",
       "  <thead>\n",
       "    <tr style=\"text-align: right;\">\n",
       "      <th></th>\n",
       "      <th>minute</th>\n",
       "    </tr>\n",
       "    <tr>\n",
       "      <th>Date</th>\n",
       "      <th></th>\n",
       "    </tr>\n",
       "  </thead>\n",
       "  <tbody>\n",
       "    <tr>\n",
       "      <th>2020-06-09 13:30:00</th>\n",
       "      <td>30</td>\n",
       "    </tr>\n",
       "    <tr>\n",
       "      <th>2020-06-09 13:31:00</th>\n",
       "      <td>31</td>\n",
       "    </tr>\n",
       "  </tbody>\n",
       "</table>\n",
       "</div>"
      ],
      "text/plain": [
       "                     minute\n",
       "Date                       \n",
       "2020-06-09 13:30:00      30\n",
       "2020-06-09 13:31:00      31"
      ]
     },
     "execution_count": 30,
     "metadata": {},
     "output_type": "execute_result"
    }
   ],
   "source": [
    "minute.head(2)"
   ]
  },
  {
   "cell_type": "code",
   "execution_count": 31,
   "metadata": {},
   "outputs": [],
   "source": [
    "t = pd.concat([t, hours,minute], axis = 1)\n",
    "t.reset_index(inplace=True)"
   ]
  },
  {
   "cell_type": "code",
   "execution_count": 32,
   "metadata": {},
   "outputs": [
    {
     "data": {
      "text/html": [
       "<div>\n",
       "<style scoped>\n",
       "    .dataframe tbody tr th:only-of-type {\n",
       "        vertical-align: middle;\n",
       "    }\n",
       "\n",
       "    .dataframe tbody tr th {\n",
       "        vertical-align: top;\n",
       "    }\n",
       "\n",
       "    .dataframe thead th {\n",
       "        text-align: right;\n",
       "    }\n",
       "</style>\n",
       "<table border=\"1\" class=\"dataframe\">\n",
       "  <thead>\n",
       "    <tr style=\"text-align: right;\">\n",
       "      <th></th>\n",
       "      <th>Date</th>\n",
       "      <th>Tweets</th>\n",
       "      <th>hour</th>\n",
       "      <th>minute</th>\n",
       "    </tr>\n",
       "  </thead>\n",
       "  <tbody>\n",
       "    <tr>\n",
       "      <th>0</th>\n",
       "      <td>2020-06-09 13:30:00</td>\n",
       "      <td>[music theory coursera] IBM Microservices  WOW...</td>\n",
       "      <td>13</td>\n",
       "      <td>30</td>\n",
       "    </tr>\n",
       "    <tr>\n",
       "      <th>1</th>\n",
       "      <td>2020-06-09 13:31:00</td>\n",
       "      <td>IBM quits facial recognition and urges debate ...</td>\n",
       "      <td>13</td>\n",
       "      <td>31</td>\n",
       "    </tr>\n",
       "  </tbody>\n",
       "</table>\n",
       "</div>"
      ],
      "text/plain": [
       "                 Date                                             Tweets  \\\n",
       "0 2020-06-09 13:30:00  [music theory coursera] IBM Microservices  WOW...   \n",
       "1 2020-06-09 13:31:00  IBM quits facial recognition and urges debate ...   \n",
       "\n",
       "   hour  minute  \n",
       "0    13      30  \n",
       "1    13      31  "
      ]
     },
     "execution_count": 32,
     "metadata": {},
     "output_type": "execute_result"
    }
   ],
   "source": [
    "t.head(2)"
   ]
  },
  {
   "cell_type": "code",
   "execution_count": 33,
   "metadata": {},
   "outputs": [],
   "source": [
    "# Combining tweets from 20:00:00 hr to next day 12:59:000 hr"
   ]
  },
  {
   "cell_type": "code",
   "execution_count": 34,
   "metadata": {},
   "outputs": [],
   "source": [
    "# hours for which we dont have stock data\n",
    "z = [0,1,2,3,4,5,6,7,8,9,10,11,12,20,21,22,23]"
   ]
  },
  {
   "cell_type": "code",
   "execution_count": 35,
   "metadata": {},
   "outputs": [
    {
     "name": "stderr",
     "output_type": "stream",
     "text": [
      "C:\\Users\\SS\\anaconda3\\lib\\site-packages\\ipykernel_launcher.py:6: SettingWithCopyWarning: \n",
      "A value is trying to be set on a copy of a slice from a DataFrame\n",
      "\n",
      "See the caveats in the documentation: https://pandas.pydata.org/pandas-docs/stable/user_guide/indexing.html#returning-a-view-versus-a-copy\n",
      "  \n"
     ]
    }
   ],
   "source": [
    "for i in range(len(t)):\n",
    "    if t.hour[i] == 19 and t.minute[i]==59:\n",
    "        b = i\n",
    "        pass\n",
    "    elif t.hour[i] in z:\n",
    "        t.Tweets[b] = t.Tweets[b] + \" \" + t.Tweets[i]"
   ]
  },
  {
   "cell_type": "code",
   "execution_count": 36,
   "metadata": {},
   "outputs": [],
   "source": [
    "# Dropping all tweets which are joined in previous day\n",
    "for i in range(len(t)):\n",
    "    if t.hour[i] in z:\n",
    "        t.drop(i,inplace=True)"
   ]
  },
  {
   "cell_type": "code",
   "execution_count": 37,
   "metadata": {},
   "outputs": [],
   "source": [
    "t.reset_index(inplace=True)\n",
    "t = t.iloc[:,1:]"
   ]
  },
  {
   "cell_type": "code",
   "execution_count": 38,
   "metadata": {},
   "outputs": [
    {
     "data": {
      "text/plain": [
       "(12990, 4)"
      ]
     },
     "execution_count": 38,
     "metadata": {},
     "output_type": "execute_result"
    }
   ],
   "source": [
    "# Shape after 1st Operation\n",
    "t.shape"
   ]
  },
  {
   "cell_type": "code",
   "execution_count": 39,
   "metadata": {},
   "outputs": [
    {
     "data": {
      "text/html": [
       "<div>\n",
       "<style scoped>\n",
       "    .dataframe tbody tr th:only-of-type {\n",
       "        vertical-align: middle;\n",
       "    }\n",
       "\n",
       "    .dataframe tbody tr th {\n",
       "        vertical-align: top;\n",
       "    }\n",
       "\n",
       "    .dataframe thead th {\n",
       "        text-align: right;\n",
       "    }\n",
       "</style>\n",
       "<table border=\"1\" class=\"dataframe\">\n",
       "  <thead>\n",
       "    <tr style=\"text-align: right;\">\n",
       "      <th></th>\n",
       "      <th>Date</th>\n",
       "      <th>Tweets</th>\n",
       "      <th>hour</th>\n",
       "      <th>minute</th>\n",
       "    </tr>\n",
       "  </thead>\n",
       "  <tbody>\n",
       "    <tr>\n",
       "      <th>0</th>\n",
       "      <td>2020-06-09 13:30:00</td>\n",
       "      <td>[music theory coursera] IBM Microservices  WOW...</td>\n",
       "      <td>13</td>\n",
       "      <td>30</td>\n",
       "    </tr>\n",
       "    <tr>\n",
       "      <th>1</th>\n",
       "      <td>2020-06-09 13:31:00</td>\n",
       "      <td>IBM quits facial recognition and urges debate ...</td>\n",
       "      <td>13</td>\n",
       "      <td>31</td>\n",
       "    </tr>\n",
       "  </tbody>\n",
       "</table>\n",
       "</div>"
      ],
      "text/plain": [
       "                 Date                                             Tweets  \\\n",
       "0 2020-06-09 13:30:00  [music theory coursera] IBM Microservices  WOW...   \n",
       "1 2020-06-09 13:31:00  IBM quits facial recognition and urges debate ...   \n",
       "\n",
       "   hour  minute  \n",
       "0    13      30  \n",
       "1    13      31  "
      ]
     },
     "execution_count": 39,
     "metadata": {},
     "output_type": "execute_result"
    }
   ],
   "source": [
    "t.head(2)"
   ]
  },
  {
   "cell_type": "code",
   "execution_count": null,
   "metadata": {},
   "outputs": [],
   "source": []
  },
  {
   "cell_type": "code",
   "execution_count": 40,
   "metadata": {},
   "outputs": [],
   "source": [
    "#To get time of weekends\n",
    "x = s.copy()\n",
    "x.set_index('Date',inplace=True)"
   ]
  },
  {
   "cell_type": "code",
   "execution_count": 41,
   "metadata": {},
   "outputs": [],
   "source": [
    "hr = x.index.hour\n",
    "mn = x.index.minute\n",
    "\n",
    "hr = pd.DataFrame(hr, index=x.index)\n",
    "mn = pd.DataFrame(mn, index=x.index)\n",
    "hr.columns = ['hour']\n",
    "mn.columns = ['minute']\n",
    "\n",
    "x = pd.concat([x,hr,mn],axis=1)\n",
    "x.reset_index(inplace=True)"
   ]
  },
  {
   "cell_type": "code",
   "execution_count": 42,
   "metadata": {},
   "outputs": [],
   "source": [
    "indx_of_time_of_lst_week_day = []\n",
    "time_of_lst_week_day = []\n",
    "for i in range(len(x)):\n",
    "    if x.Date[i].weekday()==0 and x.hour[i] == 13 and x.minute[i] == 30 :\n",
    "        indx_of_time_of_lst_week_day.append(i-1)\n",
    "        time_of_lst_week_day.append((x.Date[i-1],x.Date[i]))"
   ]
  },
  {
   "cell_type": "code",
   "execution_count": 43,
   "metadata": {},
   "outputs": [
    {
     "data": {
      "text/plain": [
       "[1452, 3308, 5142, 6678]"
      ]
     },
     "execution_count": 43,
     "metadata": {},
     "output_type": "execute_result"
    }
   ],
   "source": [
    "indx_of_time_of_lst_week_day"
   ]
  },
  {
   "cell_type": "code",
   "execution_count": 44,
   "metadata": {},
   "outputs": [
    {
     "data": {
      "text/plain": [
       "[(Timestamp('2020-06-12 18:29:00'), Timestamp('2020-06-15 13:30:00')),\n",
       " (Timestamp('2020-06-19 18:29:00'), Timestamp('2020-06-22 13:30:00')),\n",
       " (Timestamp('2020-06-26 18:29:00'), Timestamp('2020-06-29 13:30:00')),\n",
       " (Timestamp('2020-07-02 19:59:00'), Timestamp('2020-07-06 13:30:00'))]"
      ]
     },
     "execution_count": 44,
     "metadata": {},
     "output_type": "execute_result"
    }
   ],
   "source": [
    "time_of_lst_week_day"
   ]
  },
  {
   "cell_type": "code",
   "execution_count": null,
   "metadata": {},
   "outputs": [],
   "source": []
  },
  {
   "cell_type": "code",
   "execution_count": 45,
   "metadata": {},
   "outputs": [
    {
     "name": "stderr",
     "output_type": "stream",
     "text": [
      "C:\\Users\\SS\\anaconda3\\lib\\site-packages\\ipykernel_launcher.py:6: SettingWithCopyWarning: \n",
      "A value is trying to be set on a copy of a slice from a DataFrame\n",
      "\n",
      "See the caveats in the documentation: https://pandas.pydata.org/pandas-docs/stable/user_guide/indexing.html#returning-a-view-versus-a-copy\n",
      "  \n",
      "C:\\Users\\SS\\anaconda3\\lib\\site-packages\\ipykernel_launcher.py:11: SettingWithCopyWarning: \n",
      "A value is trying to be set on a copy of a slice from a DataFrame\n",
      "\n",
      "See the caveats in the documentation: https://pandas.pydata.org/pandas-docs/stable/user_guide/indexing.html#returning-a-view-versus-a-copy\n",
      "  # This is added back by InteractiveShellApp.init_path()\n",
      "C:\\Users\\SS\\anaconda3\\lib\\site-packages\\ipykernel_launcher.py:16: SettingWithCopyWarning: \n",
      "A value is trying to be set on a copy of a slice from a DataFrame\n",
      "\n",
      "See the caveats in the documentation: https://pandas.pydata.org/pandas-docs/stable/user_guide/indexing.html#returning-a-view-versus-a-copy\n",
      "  app.launch_new_instance()\n",
      "C:\\Users\\SS\\anaconda3\\lib\\site-packages\\ipykernel_launcher.py:21: SettingWithCopyWarning: \n",
      "A value is trying to be set on a copy of a slice from a DataFrame\n",
      "\n",
      "See the caveats in the documentation: https://pandas.pydata.org/pandas-docs/stable/user_guide/indexing.html#returning-a-view-versus-a-copy\n"
     ]
    }
   ],
   "source": [
    "# Joining Weekend Tweets\n",
    "for i in range(len(t)):\n",
    "    if t.Date[i] == time_of_lst_week_day[0][0]:\n",
    "        f = i\n",
    "    elif t.Date[i]>time_of_lst_week_day[0][0] and t.Date[i]<time_of_lst_week_day[0][1]:\n",
    "        t.Tweets[f] = t.Tweets[f] + \" \" + t.Tweets[i]\n",
    "        \n",
    "    elif t.Date[i] == time_of_lst_week_day[1][0]:\n",
    "        c = i\n",
    "    elif t.Date[i]>time_of_lst_week_day[1][0] and t.Date[i]<time_of_lst_week_day[1][1]:\n",
    "        t.Tweets[c] = t.Tweets[c] + \" \" + t.Tweets[i]\n",
    "        \n",
    "    elif t.Date[i] == time_of_lst_week_day[2][0]:\n",
    "        d = i\n",
    "    elif t.Date[i]>time_of_lst_week_day[2][0] and t.Date[i]<time_of_lst_week_day[2][1]:\n",
    "        t.Tweets[d] = t.Tweets[d] + \" \" + t.Tweets[i]\n",
    "        \n",
    "    elif t.Date[i] == time_of_lst_week_day[3][0]:\n",
    "        e = i\n",
    "    elif t.Date[i]>time_of_lst_week_day[3][0] and t.Date[i]<time_of_lst_week_day[3][1]:\n",
    "        t.Tweets[e] = t.Tweets[e] + \" \" + t.Tweets[i]"
   ]
  },
  {
   "cell_type": "code",
   "execution_count": null,
   "metadata": {},
   "outputs": [],
   "source": []
  },
  {
   "cell_type": "code",
   "execution_count": 46,
   "metadata": {},
   "outputs": [],
   "source": [
    "# Dropping Week ends tweets after joining them\n",
    "for i in range(len(t)):\n",
    "    if t.Date[i]>time_of_lst_week_day[0][0] and t.Date[i]<time_of_lst_week_day[0][1]:\n",
    "        t.drop(i,inplace=True)\n",
    "        \n",
    "    elif t.Date[i]>time_of_lst_week_day[1][0] and t.Date[i]<time_of_lst_week_day[1][1]:\n",
    "        t.drop(i,inplace=True)\n",
    "        \n",
    "    elif t.Date[i]>time_of_lst_week_day[2][0] and t.Date[i]<time_of_lst_week_day[2][1]:\n",
    "        t.drop(i,inplace=True)\n",
    "        \n",
    "    elif t.Date[i]>time_of_lst_week_day[3][0] and t.Date[i]<time_of_lst_week_day[3][1]:\n",
    "        t.drop(i,inplace=True)"
   ]
  },
  {
   "cell_type": "code",
   "execution_count": 47,
   "metadata": {},
   "outputs": [],
   "source": [
    "t.reset_index(inplace=True)\n",
    "t = t.iloc[:,1:]"
   ]
  },
  {
   "cell_type": "code",
   "execution_count": 48,
   "metadata": {},
   "outputs": [
    {
     "data": {
      "text/plain": [
       "(8820, 4)"
      ]
     },
     "execution_count": 48,
     "metadata": {},
     "output_type": "execute_result"
    }
   ],
   "source": [
    "t.shape"
   ]
  },
  {
   "cell_type": "code",
   "execution_count": null,
   "metadata": {},
   "outputs": [],
   "source": []
  },
  {
   "cell_type": "code",
   "execution_count": 49,
   "metadata": {},
   "outputs": [],
   "source": [
    "# Joining Tweets from 13:00:00 hr to 13:29:00 hr\n",
    "x1 = list(range(30))"
   ]
  },
  {
   "cell_type": "code",
   "execution_count": 50,
   "metadata": {},
   "outputs": [
    {
     "name": "stderr",
     "output_type": "stream",
     "text": [
      "C:\\Users\\SS\\anaconda3\\lib\\site-packages\\ipykernel_launcher.py:6: SettingWithCopyWarning: \n",
      "A value is trying to be set on a copy of a slice from a DataFrame\n",
      "\n",
      "See the caveats in the documentation: https://pandas.pydata.org/pandas-docs/stable/user_guide/indexing.html#returning-a-view-versus-a-copy\n",
      "  \n"
     ]
    }
   ],
   "source": [
    "for i in range(len(t)):\n",
    "    if i<8819:\n",
    "        if t.hour[i]==13 and t.minute[i+1]==0:\n",
    "            a1 = i\n",
    "        elif t.hour[i]==13 and t.minute[i] in x1:\n",
    "            t.Tweets[a1] = t.Tweets[a1]+\" \"+t.Tweets[i]"
   ]
  },
  {
   "cell_type": "code",
   "execution_count": 51,
   "metadata": {},
   "outputs": [],
   "source": [
    "# Dropping tweets from 13:00 to 13:29 after joining them\n",
    "for i in range(len(t)):\n",
    "    if t.hour[i]==13 and t.minute[i] in x1:\n",
    "        t.drop(i,inplace=True)"
   ]
  },
  {
   "cell_type": "code",
   "execution_count": 52,
   "metadata": {},
   "outputs": [],
   "source": [
    "t.reset_index(inplace=True)\n",
    "t = t.iloc[:,1:]"
   ]
  },
  {
   "cell_type": "code",
   "execution_count": 53,
   "metadata": {},
   "outputs": [
    {
     "data": {
      "text/plain": [
       "(8310, 4)"
      ]
     },
     "execution_count": 53,
     "metadata": {},
     "output_type": "execute_result"
    }
   ],
   "source": [
    "t.shape"
   ]
  },
  {
   "cell_type": "code",
   "execution_count": null,
   "metadata": {},
   "outputs": [],
   "source": []
  },
  {
   "cell_type": "code",
   "execution_count": 54,
   "metadata": {},
   "outputs": [],
   "source": [
    "# date time stamp which are in Tweet data but not in stock data \n",
    "dt_of_stk = []\n",
    "idx_nt_in_stk = []\n",
    "idx_in_stk = []\n",
    "\n",
    "for i in range(len(s)):\n",
    "    dt_of_stk.append(s.Date.iloc[i])\n",
    "    \n",
    "\n",
    "for i in range(len(t)):\n",
    "    if t.Date.iloc[i] not in dt_of_stk:\n",
    "        idx_nt_in_stk.append(i)\n",
    "    \n",
    "    \n",
    "for i in range(len(t)):\n",
    "    if t.Date.iloc[i] in dt_of_stk:\n",
    "        idx_in_stk.append(i)"
   ]
  },
  {
   "cell_type": "code",
   "execution_count": 55,
   "metadata": {},
   "outputs": [
    {
     "name": "stdout",
     "output_type": "stream",
     "text": [
      "length of t = 8310\n",
      "length of s = 7735\n",
      "lenth of index not in stocks but in tweets = 575\n",
      "legth of index in stock also in tweets = 7735\n"
     ]
    }
   ],
   "source": [
    "print(f\"length of t = {len(t)}\")\n",
    "print(f\"length of s = {len(s)}\")\n",
    "print(f\"lenth of index not in stocks but in tweets = {len(idx_nt_in_stk)}\")\n",
    "print(f\"legth of index in stock also in tweets = {len(idx_in_stk)}\")"
   ]
  },
  {
   "cell_type": "code",
   "execution_count": 56,
   "metadata": {},
   "outputs": [],
   "source": [
    "# idx_nt_in_stk"
   ]
  },
  {
   "cell_type": "code",
   "execution_count": 57,
   "metadata": {},
   "outputs": [],
   "source": [
    "from itertools import groupby\n",
    "from operator import itemgetter"
   ]
  },
  {
   "cell_type": "code",
   "execution_count": 58,
   "metadata": {},
   "outputs": [],
   "source": [
    "# Index of timestamp which ar not in stock but are in tweets. Some of them are in continuation\n",
    "# Code to make a list of continuous indices\n",
    "z1 = []\n",
    "for k, g in groupby(enumerate(idx_nt_in_stk), lambda y=(i,x): y[0]-y[1]):\n",
    "    z1.append(list(map(itemgetter(1), g)))"
   ]
  },
  {
   "cell_type": "code",
   "execution_count": 59,
   "metadata": {},
   "outputs": [
    {
     "name": "stderr",
     "output_type": "stream",
     "text": [
      "C:\\Users\\SS\\anaconda3\\lib\\site-packages\\ipykernel_launcher.py:4: SettingWithCopyWarning: \n",
      "A value is trying to be set on a copy of a slice from a DataFrame\n",
      "\n",
      "See the caveats in the documentation: https://pandas.pydata.org/pandas-docs/stable/user_guide/indexing.html#returning-a-view-versus-a-copy\n",
      "  after removing the cwd from sys.path.\n"
     ]
    }
   ],
   "source": [
    "# Now joing those Tweets\n",
    "for i in range(len(z1)):\n",
    "    for j in z1[i]:\n",
    "        t.Tweets[z1[i][0]-1] = t.Tweets[z1[i][0]-1]+\" \"+t.Tweets[j]"
   ]
  },
  {
   "cell_type": "code",
   "execution_count": 60,
   "metadata": {},
   "outputs": [],
   "source": [
    "for i in range(len(z1)):\n",
    "    for j in z1[i]:\n",
    "        t.drop(j,inplace=True)"
   ]
  },
  {
   "cell_type": "code",
   "execution_count": 61,
   "metadata": {},
   "outputs": [],
   "source": [
    "t.reset_index(inplace=True)\n",
    "t = t.iloc[:,1:]"
   ]
  },
  {
   "cell_type": "code",
   "execution_count": 62,
   "metadata": {},
   "outputs": [
    {
     "data": {
      "text/plain": [
       "(7735, 4)"
      ]
     },
     "execution_count": 62,
     "metadata": {},
     "output_type": "execute_result"
    }
   ],
   "source": [
    "# Final Tweets Dataset\n",
    "t.shape"
   ]
  },
  {
   "cell_type": "code",
   "execution_count": null,
   "metadata": {},
   "outputs": [],
   "source": []
  },
  {
   "cell_type": "markdown",
   "metadata": {},
   "source": [
    "# Now Both Data are Structured"
   ]
  },
  {
   "cell_type": "markdown",
   "metadata": {},
   "source": [
    "### Model Dataset Preparation /  Feature Extraction"
   ]
  },
  {
   "cell_type": "code",
   "execution_count": 63,
   "metadata": {},
   "outputs": [],
   "source": [
    "stk = s"
   ]
  },
  {
   "cell_type": "code",
   "execution_count": 64,
   "metadata": {},
   "outputs": [
    {
     "name": "stdout",
     "output_type": "stream",
     "text": [
      "<class 'pandas.core.frame.DataFrame'>\n",
      "Int64Index: 7735 entries, 0 to 7734\n",
      "Data columns (total 7 columns):\n",
      " #   Column    Non-Null Count  Dtype         \n",
      "---  ------    --------------  -----         \n",
      " 0   Date      7735 non-null   datetime64[ns]\n",
      " 1   Open      7735 non-null   float64       \n",
      " 2   High      7735 non-null   float64       \n",
      " 3   Low       7735 non-null   float64       \n",
      " 4   Close     7735 non-null   float64       \n",
      " 5   Volume    7735 non-null   int64         \n",
      " 6   Adj Open  7735 non-null   float64       \n",
      "dtypes: datetime64[ns](1), float64(5), int64(1)\n",
      "memory usage: 483.4 KB\n"
     ]
    }
   ],
   "source": [
    "stk.info()"
   ]
  },
  {
   "cell_type": "code",
   "execution_count": 65,
   "metadata": {},
   "outputs": [],
   "source": [
    "stk['Target'] = stk['Open'].shift(-1)\n",
    "stk.dropna(inplace=True)"
   ]
  },
  {
   "cell_type": "code",
   "execution_count": 66,
   "metadata": {},
   "outputs": [
    {
     "data": {
      "text/html": [
       "<div>\n",
       "<style scoped>\n",
       "    .dataframe tbody tr th:only-of-type {\n",
       "        vertical-align: middle;\n",
       "    }\n",
       "\n",
       "    .dataframe tbody tr th {\n",
       "        vertical-align: top;\n",
       "    }\n",
       "\n",
       "    .dataframe thead th {\n",
       "        text-align: right;\n",
       "    }\n",
       "</style>\n",
       "<table border=\"1\" class=\"dataframe\">\n",
       "  <thead>\n",
       "    <tr style=\"text-align: right;\">\n",
       "      <th></th>\n",
       "      <th>Open</th>\n",
       "      <th>High</th>\n",
       "      <th>Low</th>\n",
       "      <th>Close</th>\n",
       "      <th>Volume</th>\n",
       "      <th>Adj Open</th>\n",
       "      <th>Target</th>\n",
       "    </tr>\n",
       "    <tr>\n",
       "      <th>Date</th>\n",
       "      <th></th>\n",
       "      <th></th>\n",
       "      <th></th>\n",
       "      <th></th>\n",
       "      <th></th>\n",
       "      <th></th>\n",
       "      <th></th>\n",
       "    </tr>\n",
       "  </thead>\n",
       "  <tbody>\n",
       "    <tr>\n",
       "      <th>2020-06-09 13:30:00</th>\n",
       "      <td>133.520004</td>\n",
       "      <td>133.600006</td>\n",
       "      <td>133.080002</td>\n",
       "      <td>133.264999</td>\n",
       "      <td>175324</td>\n",
       "      <td>133.274994</td>\n",
       "      <td>133.274994</td>\n",
       "    </tr>\n",
       "    <tr>\n",
       "      <th>2020-06-09 13:31:00</th>\n",
       "      <td>133.274994</td>\n",
       "      <td>133.279999</td>\n",
       "      <td>133.080002</td>\n",
       "      <td>133.160004</td>\n",
       "      <td>22922</td>\n",
       "      <td>133.289993</td>\n",
       "      <td>133.289993</td>\n",
       "    </tr>\n",
       "  </tbody>\n",
       "</table>\n",
       "</div>"
      ],
      "text/plain": [
       "                           Open        High         Low       Close  Volume  \\\n",
       "Date                                                                          \n",
       "2020-06-09 13:30:00  133.520004  133.600006  133.080002  133.264999  175324   \n",
       "2020-06-09 13:31:00  133.274994  133.279999  133.080002  133.160004   22922   \n",
       "\n",
       "                       Adj Open      Target  \n",
       "Date                                         \n",
       "2020-06-09 13:30:00  133.274994  133.274994  \n",
       "2020-06-09 13:31:00  133.289993  133.289993  "
      ]
     },
     "execution_count": 66,
     "metadata": {},
     "output_type": "execute_result"
    }
   ],
   "source": [
    "stk.set_index(\"Date\",inplace=True)\n",
    "stk.head(2)"
   ]
  },
  {
   "cell_type": "code",
   "execution_count": 67,
   "metadata": {},
   "outputs": [],
   "source": [
    "target = stk.iloc[:,-1]\n",
    "stk = stk.iloc[:,:-1]"
   ]
  },
  {
   "cell_type": "code",
   "execution_count": 68,
   "metadata": {},
   "outputs": [
    {
     "data": {
      "text/html": [
       "<div>\n",
       "<style scoped>\n",
       "    .dataframe tbody tr th:only-of-type {\n",
       "        vertical-align: middle;\n",
       "    }\n",
       "\n",
       "    .dataframe tbody tr th {\n",
       "        vertical-align: top;\n",
       "    }\n",
       "\n",
       "    .dataframe thead th {\n",
       "        text-align: right;\n",
       "    }\n",
       "</style>\n",
       "<table border=\"1\" class=\"dataframe\">\n",
       "  <thead>\n",
       "    <tr style=\"text-align: right;\">\n",
       "      <th></th>\n",
       "      <th>Open</th>\n",
       "      <th>High</th>\n",
       "      <th>Low</th>\n",
       "      <th>Close</th>\n",
       "      <th>Volume</th>\n",
       "      <th>Adj Open</th>\n",
       "    </tr>\n",
       "  </thead>\n",
       "  <tbody>\n",
       "    <tr>\n",
       "      <th>count</th>\n",
       "      <td>7734.000000</td>\n",
       "      <td>7734.000000</td>\n",
       "      <td>7734.000000</td>\n",
       "      <td>7734.000000</td>\n",
       "      <td>7.734000e+03</td>\n",
       "      <td>7734.000000</td>\n",
       "    </tr>\n",
       "    <tr>\n",
       "      <th>mean</th>\n",
       "      <td>121.580677</td>\n",
       "      <td>121.637752</td>\n",
       "      <td>121.520068</td>\n",
       "      <td>121.576913</td>\n",
       "      <td>1.147265e+04</td>\n",
       "      <td>121.576468</td>\n",
       "    </tr>\n",
       "    <tr>\n",
       "      <th>std</th>\n",
       "      <td>4.132462</td>\n",
       "      <td>4.133789</td>\n",
       "      <td>4.129018</td>\n",
       "      <td>4.130738</td>\n",
       "      <td>2.671715e+04</td>\n",
       "      <td>4.132128</td>\n",
       "    </tr>\n",
       "    <tr>\n",
       "      <th>min</th>\n",
       "      <td>115.980003</td>\n",
       "      <td>116.069901</td>\n",
       "      <td>115.879997</td>\n",
       "      <td>115.970001</td>\n",
       "      <td>0.000000e+00</td>\n",
       "      <td>115.980003</td>\n",
       "    </tr>\n",
       "    <tr>\n",
       "      <th>25%</th>\n",
       "      <td>118.830002</td>\n",
       "      <td>118.879997</td>\n",
       "      <td>118.779999</td>\n",
       "      <td>118.820000</td>\n",
       "      <td>4.600500e+03</td>\n",
       "      <td>118.824997</td>\n",
       "    </tr>\n",
       "    <tr>\n",
       "      <th>50%</th>\n",
       "      <td>120.279999</td>\n",
       "      <td>120.330002</td>\n",
       "      <td>120.209999</td>\n",
       "      <td>120.279999</td>\n",
       "      <td>7.231000e+03</td>\n",
       "      <td>120.279999</td>\n",
       "    </tr>\n",
       "    <tr>\n",
       "      <th>75%</th>\n",
       "      <td>123.610001</td>\n",
       "      <td>123.653299</td>\n",
       "      <td>123.559998</td>\n",
       "      <td>123.610001</td>\n",
       "      <td>1.254125e+04</td>\n",
       "      <td>123.610001</td>\n",
       "    </tr>\n",
       "    <tr>\n",
       "      <th>max</th>\n",
       "      <td>133.520004</td>\n",
       "      <td>133.600006</td>\n",
       "      <td>133.080002</td>\n",
       "      <td>133.264999</td>\n",
       "      <td>1.682168e+06</td>\n",
       "      <td>133.289993</td>\n",
       "    </tr>\n",
       "  </tbody>\n",
       "</table>\n",
       "</div>"
      ],
      "text/plain": [
       "              Open         High          Low        Close        Volume  \\\n",
       "count  7734.000000  7734.000000  7734.000000  7734.000000  7.734000e+03   \n",
       "mean    121.580677   121.637752   121.520068   121.576913  1.147265e+04   \n",
       "std       4.132462     4.133789     4.129018     4.130738  2.671715e+04   \n",
       "min     115.980003   116.069901   115.879997   115.970001  0.000000e+00   \n",
       "25%     118.830002   118.879997   118.779999   118.820000  4.600500e+03   \n",
       "50%     120.279999   120.330002   120.209999   120.279999  7.231000e+03   \n",
       "75%     123.610001   123.653299   123.559998   123.610001  1.254125e+04   \n",
       "max     133.520004   133.600006   133.080002   133.264999  1.682168e+06   \n",
       "\n",
       "          Adj Open  \n",
       "count  7734.000000  \n",
       "mean    121.576468  \n",
       "std       4.132128  \n",
       "min     115.980003  \n",
       "25%     118.824997  \n",
       "50%     120.279999  \n",
       "75%     123.610001  \n",
       "max     133.289993  "
      ]
     },
     "execution_count": 68,
     "metadata": {},
     "output_type": "execute_result"
    }
   ],
   "source": [
    "stk.describe()"
   ]
  },
  {
   "cell_type": "code",
   "execution_count": 69,
   "metadata": {},
   "outputs": [
    {
     "name": "stdout",
     "output_type": "stream",
     "text": [
      "Starting Data of the Data is 2020-06-09 13:30:00  and Last Date is 2020-07-08 18:28:00\n"
     ]
    }
   ],
   "source": [
    "print(f\"Starting Data of the Data is {stk.index.min()}  and Last Date is {stk.index.max()}\")"
   ]
  },
  {
   "cell_type": "code",
   "execution_count": null,
   "metadata": {},
   "outputs": [],
   "source": []
  },
  {
   "cell_type": "code",
   "execution_count": null,
   "metadata": {},
   "outputs": [],
   "source": []
  },
  {
   "cell_type": "code",
   "execution_count": 70,
   "metadata": {},
   "outputs": [],
   "source": [
    "txt = t.iloc[:7734,:2]"
   ]
  },
  {
   "cell_type": "code",
   "execution_count": 71,
   "metadata": {},
   "outputs": [
    {
     "name": "stdout",
     "output_type": "stream",
     "text": [
      "<class 'pandas.core.frame.DataFrame'>\n",
      "RangeIndex: 7734 entries, 0 to 7733\n",
      "Data columns (total 2 columns):\n",
      " #   Column  Non-Null Count  Dtype         \n",
      "---  ------  --------------  -----         \n",
      " 0   Date    7734 non-null   datetime64[ns]\n",
      " 1   Tweets  7734 non-null   object        \n",
      "dtypes: datetime64[ns](1), object(1)\n",
      "memory usage: 121.0+ KB\n"
     ]
    }
   ],
   "source": [
    "txt.info()"
   ]
  },
  {
   "cell_type": "code",
   "execution_count": 72,
   "metadata": {},
   "outputs": [
    {
     "data": {
      "text/html": [
       "<div>\n",
       "<style scoped>\n",
       "    .dataframe tbody tr th:only-of-type {\n",
       "        vertical-align: middle;\n",
       "    }\n",
       "\n",
       "    .dataframe tbody tr th {\n",
       "        vertical-align: top;\n",
       "    }\n",
       "\n",
       "    .dataframe thead th {\n",
       "        text-align: right;\n",
       "    }\n",
       "</style>\n",
       "<table border=\"1\" class=\"dataframe\">\n",
       "  <thead>\n",
       "    <tr style=\"text-align: right;\">\n",
       "      <th></th>\n",
       "      <th>Date</th>\n",
       "      <th>Tweets</th>\n",
       "    </tr>\n",
       "  </thead>\n",
       "  <tbody>\n",
       "    <tr>\n",
       "      <th>0</th>\n",
       "      <td>2020-06-09 13:30:00</td>\n",
       "      <td>[music theory coursera] IBM Microservices  WOW...</td>\n",
       "    </tr>\n",
       "    <tr>\n",
       "      <th>1</th>\n",
       "      <td>2020-06-09 13:31:00</td>\n",
       "      <td>IBM quits facial recognition and urges debate ...</td>\n",
       "    </tr>\n",
       "    <tr>\n",
       "      <th>2</th>\n",
       "      <td>2020-06-09 13:32:00</td>\n",
       "      <td>IBM Quits Facial Recognition Over Rights Conce...</td>\n",
       "    </tr>\n",
       "    <tr>\n",
       "      <th>3</th>\n",
       "      <td>2020-06-09 13:33:00</td>\n",
       "      <td>IBM gets out of #facialrecognition business, c...</td>\n",
       "    </tr>\n",
       "    <tr>\n",
       "      <th>4</th>\n",
       "      <td>2020-06-09 13:34:00</td>\n",
       "      <td>IBM ends all facial recognition business as CE...</td>\n",
       "    </tr>\n",
       "  </tbody>\n",
       "</table>\n",
       "</div>"
      ],
      "text/plain": [
       "                 Date                                             Tweets\n",
       "0 2020-06-09 13:30:00  [music theory coursera] IBM Microservices  WOW...\n",
       "1 2020-06-09 13:31:00  IBM quits facial recognition and urges debate ...\n",
       "2 2020-06-09 13:32:00  IBM Quits Facial Recognition Over Rights Conce...\n",
       "3 2020-06-09 13:33:00  IBM gets out of #facialrecognition business, c...\n",
       "4 2020-06-09 13:34:00  IBM ends all facial recognition business as CE..."
      ]
     },
     "execution_count": 72,
     "metadata": {},
     "output_type": "execute_result"
    }
   ],
   "source": [
    "txt.head()"
   ]
  },
  {
   "cell_type": "code",
   "execution_count": 73,
   "metadata": {},
   "outputs": [
    {
     "data": {
      "text/html": [
       "<div>\n",
       "<style scoped>\n",
       "    .dataframe tbody tr th:only-of-type {\n",
       "        vertical-align: middle;\n",
       "    }\n",
       "\n",
       "    .dataframe tbody tr th {\n",
       "        vertical-align: top;\n",
       "    }\n",
       "\n",
       "    .dataframe thead th {\n",
       "        text-align: right;\n",
       "    }\n",
       "</style>\n",
       "<table border=\"1\" class=\"dataframe\">\n",
       "  <thead>\n",
       "    <tr style=\"text-align: right;\">\n",
       "      <th></th>\n",
       "      <th>Tweets</th>\n",
       "    </tr>\n",
       "  </thead>\n",
       "  <tbody>\n",
       "    <tr>\n",
       "      <th>count</th>\n",
       "      <td>7734</td>\n",
       "    </tr>\n",
       "    <tr>\n",
       "      <th>unique</th>\n",
       "      <td>6228</td>\n",
       "    </tr>\n",
       "    <tr>\n",
       "      <th>top</th>\n",
       "      <td></td>\n",
       "    </tr>\n",
       "    <tr>\n",
       "      <th>freq</th>\n",
       "      <td>1450</td>\n",
       "    </tr>\n",
       "  </tbody>\n",
       "</table>\n",
       "</div>"
      ],
      "text/plain": [
       "       Tweets\n",
       "count    7734\n",
       "unique   6228\n",
       "top          \n",
       "freq     1450"
      ]
     },
     "execution_count": 73,
     "metadata": {},
     "output_type": "execute_result"
    }
   ],
   "source": [
    "txt.iloc[:,1:].describe()"
   ]
  },
  {
   "cell_type": "code",
   "execution_count": 74,
   "metadata": {},
   "outputs": [
    {
     "name": "stdout",
     "output_type": "stream",
     "text": [
      "Starting Data of the Data is 2020-06-09 13:30:00  and Last Date is 2020-07-08 18:28:00\n"
     ]
    }
   ],
   "source": [
    "print(f\"Starting Data of the Data is {txt.Date.min()}  and Last Date is {txt.Date.max()}\")"
   ]
  },
  {
   "cell_type": "code",
   "execution_count": null,
   "metadata": {},
   "outputs": [],
   "source": []
  },
  {
   "cell_type": "code",
   "execution_count": 75,
   "metadata": {},
   "outputs": [],
   "source": [
    "# For Textual Data Preprocessing\n",
    "import nltk\n",
    "import re\n",
    "import string\n",
    "from nltk.corpus import stopwords\n",
    "from nltk.stem import WordNetLemmatizer"
   ]
  },
  {
   "cell_type": "code",
   "execution_count": 76,
   "metadata": {},
   "outputs": [],
   "source": [
    "# Cleaning Tweets to calculate Subjactivity and Polarity & later on to calculate more things\n",
    "'''\n",
    "1. to remove multiple #hastags written next to one another\n",
    "2. Same as 1\n",
    "3. to remove text between () and []\n",
    "4. to remove URLs\n",
    "5. to remove some punctuations like @,#,\\,;\n",
    "6. to remove text like via @nvjkxz\n",
    "7. to remove text like pic.nsdkjacsk\n",
    "8. to replace multiple space with single space'''\n",
    "\n",
    "\n",
    "def clean_fun(text):\n",
    "    text = re.sub(\"[\\(\\[].*?[\\)\\]]\", \"\", str(text)) \n",
    "    text = re.sub(\"\\w+:\\/\\/\\S+\",\"\",text) \n",
    "    text = re.sub(\"[\\@\\#\\\\\\;]\", \" \", text)\n",
    "    text = re.sub(\"via @.*?\\s+\",\"\",text)\n",
    "    text = re.sub(\"pic.*?\\s+\",\"\",text)\n",
    "    text = re.sub(\"[\\']+\",\"\",text)\n",
    "    text = re.sub(r\"\\s+\",\" \",text,flags=re.I)\n",
    "    return text"
   ]
  },
  {
   "cell_type": "code",
   "execution_count": 77,
   "metadata": {},
   "outputs": [],
   "source": [
    "txt.Tweets = txt.Tweets.apply(clean_fun)"
   ]
  },
  {
   "cell_type": "code",
   "execution_count": null,
   "metadata": {},
   "outputs": [],
   "source": []
  },
  {
   "cell_type": "markdown",
   "metadata": {},
   "source": [
    "**Polarity and Subjectivity**"
   ]
  },
  {
   "cell_type": "code",
   "execution_count": 78,
   "metadata": {},
   "outputs": [],
   "source": [
    "from textblob import TextBlob"
   ]
  },
  {
   "cell_type": "code",
   "execution_count": 79,
   "metadata": {},
   "outputs": [],
   "source": [
    "twt = txt.copy()\n",
    "twt['Polarity']=twt.apply(lambda x:TextBlob(x['Tweets']).sentiment.polarity,axis=1)\n",
    "twt['Subjectivity']=twt.apply(lambda x:TextBlob(x['Tweets']).sentiment.subjectivity,axis=1)"
   ]
  },
  {
   "cell_type": "code",
   "execution_count": 80,
   "metadata": {},
   "outputs": [],
   "source": [
    "pol_sub = twt[['Polarity','Subjectivity']]\n",
    "pol_sub.set_index(stk.index,inplace=True)"
   ]
  },
  {
   "cell_type": "code",
   "execution_count": 81,
   "metadata": {},
   "outputs": [
    {
     "data": {
      "text/html": [
       "<div>\n",
       "<style scoped>\n",
       "    .dataframe tbody tr th:only-of-type {\n",
       "        vertical-align: middle;\n",
       "    }\n",
       "\n",
       "    .dataframe tbody tr th {\n",
       "        vertical-align: top;\n",
       "    }\n",
       "\n",
       "    .dataframe thead th {\n",
       "        text-align: right;\n",
       "    }\n",
       "</style>\n",
       "<table border=\"1\" class=\"dataframe\">\n",
       "  <thead>\n",
       "    <tr style=\"text-align: right;\">\n",
       "      <th></th>\n",
       "      <th>Polarity</th>\n",
       "      <th>Subjectivity</th>\n",
       "    </tr>\n",
       "    <tr>\n",
       "      <th>Date</th>\n",
       "      <th></th>\n",
       "      <th></th>\n",
       "    </tr>\n",
       "  </thead>\n",
       "  <tbody>\n",
       "    <tr>\n",
       "      <th>2020-06-09 13:30:00</th>\n",
       "      <td>0.099753</td>\n",
       "      <td>0.391667</td>\n",
       "    </tr>\n",
       "    <tr>\n",
       "      <th>2020-06-09 13:31:00</th>\n",
       "      <td>0.240000</td>\n",
       "      <td>0.240000</td>\n",
       "    </tr>\n",
       "    <tr>\n",
       "      <th>2020-06-09 13:32:00</th>\n",
       "      <td>-0.015625</td>\n",
       "      <td>0.046875</td>\n",
       "    </tr>\n",
       "    <tr>\n",
       "      <th>2020-06-09 13:33:00</th>\n",
       "      <td>0.004167</td>\n",
       "      <td>0.270833</td>\n",
       "    </tr>\n",
       "    <tr>\n",
       "      <th>2020-06-09 13:34:00</th>\n",
       "      <td>0.106612</td>\n",
       "      <td>0.200826</td>\n",
       "    </tr>\n",
       "  </tbody>\n",
       "</table>\n",
       "</div>"
      ],
      "text/plain": [
       "                     Polarity  Subjectivity\n",
       "Date                                       \n",
       "2020-06-09 13:30:00  0.099753      0.391667\n",
       "2020-06-09 13:31:00  0.240000      0.240000\n",
       "2020-06-09 13:32:00 -0.015625      0.046875\n",
       "2020-06-09 13:33:00  0.004167      0.270833\n",
       "2020-06-09 13:34:00  0.106612      0.200826"
      ]
     },
     "execution_count": 81,
     "metadata": {},
     "output_type": "execute_result"
    }
   ],
   "source": [
    "pol_sub.head()"
   ]
  },
  {
   "cell_type": "code",
   "execution_count": null,
   "metadata": {},
   "outputs": [],
   "source": []
  },
  {
   "cell_type": "markdown",
   "metadata": {},
   "source": [
    "**Named Entity Recognition**"
   ]
  },
  {
   "cell_type": "code",
   "execution_count": 82,
   "metadata": {},
   "outputs": [],
   "source": [
    "# we use Named Entity Recognition to find number of \"PERSON\" , \"ORGANIZATION\" and \"LOCATION\" in tweets.\n",
    "from nltk import word_tokenize, ne_chunk, pos_tag\n",
    "from nltk import tree2conlltags"
   ]
  },
  {
   "cell_type": "code",
   "execution_count": 83,
   "metadata": {},
   "outputs": [
    {
     "data": {
      "text/plain": [
       "'def NER_FUNCTION(text):\\n    NER = pd.DataFrame(columns=[\"B-PERSON\",\"I-PERSON\",\"B-ORGANIZATION\",\"I-ORGANIZATION\",\"B-LOCATION\",\"I-LOCATION\",\"B-GPE\",\"I-GPE\"])\\n    ne_tree = ne_chunk(pos_tag(word_tokenize(text)))\\n    iob_tagged = tree2conlltags(ne_tree)\\n    Df = pd.DataFrame(iob_tagged)\\n    Df.columns = [\\'words\\', \\'POS\\', \\'ENTITY\\']\\n    Df = Df[[\\'words\\', \\'ENTITY\\']]\\n    group = Df.groupby([\\'ENTITY\\'])\\n    NERForSent1 = (group.agg(np.count_nonzero))\\n    a = NER.columns[~(NER.columns.isin(NERForSent1.T.columns))]\\n    NER1 = NER[a]\\n    NER1.iloc[:,:] = np.repeat(0,len(a))\\n    NER1 = pd.DataFrame(np.repeat(0,len(a)),NER.columns[~(NER.columns.isin(NERForSent1.T.columns))])\\n    NER1 = NER1.T\\n    NERForSent1 = NERForSent1.T\\n    NERForSent1.index = NER1.index\\n    NER1 = pd.concat([NER1,NERForSent1],axis=1)\\n    #del NER1[\\'O\\']\\n    NER1 = NER1[[\"B-PERSON\",\"I-PERSON\",\"B-ORGANIZATION\",\"I-ORGANIZATION\",\"B-LOCATION\",\"I-LOCATION\",\"B-GPE\",\"I-GPE\"]]\\n    return NER1.iloc[0,:]'"
      ]
     },
     "execution_count": 83,
     "metadata": {},
     "output_type": "execute_result"
    }
   ],
   "source": [
    "\"\"\"def NER_FUNCTION(text):\n",
    "    NER = pd.DataFrame(columns=[\"B-PERSON\",\"I-PERSON\",\"B-ORGANIZATION\",\"I-ORGANIZATION\",\"B-LOCATION\",\"I-LOCATION\",\"B-GPE\",\"I-GPE\"])\n",
    "    ne_tree = ne_chunk(pos_tag(word_tokenize(text)))\n",
    "    iob_tagged = tree2conlltags(ne_tree)\n",
    "    Df = pd.DataFrame(iob_tagged)\n",
    "    Df.columns = ['words', 'POS', 'ENTITY']\n",
    "    Df = Df[['words', 'ENTITY']]\n",
    "    group = Df.groupby(['ENTITY'])\n",
    "    NERForSent1 = (group.agg(np.count_nonzero))\n",
    "    a = NER.columns[~(NER.columns.isin(NERForSent1.T.columns))]\n",
    "    NER1 = NER[a]\n",
    "    NER1.iloc[:,:] = np.repeat(0,len(a))\n",
    "    NER1 = pd.DataFrame(np.repeat(0,len(a)),NER.columns[~(NER.columns.isin(NERForSent1.T.columns))])\n",
    "    NER1 = NER1.T\n",
    "    NERForSent1 = NERForSent1.T\n",
    "    NERForSent1.index = NER1.index\n",
    "    NER1 = pd.concat([NER1,NERForSent1],axis=1)\n",
    "    #del NER1['O']\n",
    "    NER1 = NER1[[\"B-PERSON\",\"I-PERSON\",\"B-ORGANIZATION\",\"I-ORGANIZATION\",\"B-LOCATION\",\"I-LOCATION\",\"B-GPE\",\"I-GPE\"]]\n",
    "    return NER1.iloc[0,:]\"\"\""
   ]
  },
  {
   "cell_type": "code",
   "execution_count": 84,
   "metadata": {},
   "outputs": [
    {
     "data": {
      "text/plain": [
       "'temp = txt[\\'Tweets\\'].apply(lambda x: NER_FUNCTION(x))\\n\\nNER = pd.DataFrame(columns = [\"PERSON\",\"ORGANIZATION\",\"LOCATION\"]) # Empty Dataframe with 3 columns\\nNER[\\'PERSON\\'] = temp[[\\'B-PERSON\\',\"I-PERSON\"]].sum(axis=1)\\nNER[\\'ORGANIZATION\\'] = temp[[\\'B-ORGANIZATION\\',\"I-ORGANIZATION\"]].sum(axis=1)\\nNER[\\'LOCATION\\'] = temp[[\\'B-LOCATION\\',\"I-LOCATION\",\\'B-GPE\\',\"I-GPE\"]].sum(axis=1)'"
      ]
     },
     "execution_count": 84,
     "metadata": {},
     "output_type": "execute_result"
    }
   ],
   "source": [
    "\"\"\"temp = txt['Tweets'].apply(lambda x: NER_FUNCTION(x))\n",
    "\n",
    "NER = pd.DataFrame(columns = [\"PERSON\",\"ORGANIZATION\",\"LOCATION\"]) # Empty Dataframe with 3 columns\n",
    "NER['PERSON'] = temp[['B-PERSON',\"I-PERSON\"]].sum(axis=1)\n",
    "NER['ORGANIZATION'] = temp[['B-ORGANIZATION',\"I-ORGANIZATION\"]].sum(axis=1)\n",
    "NER['LOCATION'] = temp[['B-LOCATION',\"I-LOCATION\",'B-GPE',\"I-GPE\"]].sum(axis=1)\"\"\""
   ]
  },
  {
   "cell_type": "code",
   "execution_count": 85,
   "metadata": {},
   "outputs": [],
   "source": [
    "# NER.set_index(stk.index,inplace=True)\n",
    "# NER"
   ]
  },
  {
   "cell_type": "code",
   "execution_count": null,
   "metadata": {},
   "outputs": [],
   "source": []
  },
  {
   "cell_type": "markdown",
   "metadata": {},
   "source": [
    "**TF-IDF Vectorizor**"
   ]
  },
  {
   "cell_type": "code",
   "execution_count": 86,
   "metadata": {},
   "outputs": [],
   "source": [
    "#Creating Object ofLemmatizer\n",
    "wordnet = WordNetLemmatizer()"
   ]
  },
  {
   "cell_type": "code",
   "execution_count": 87,
   "metadata": {},
   "outputs": [],
   "source": [
    "tweetz = []\n",
    "for i in range(len(twt)):\n",
    "    tweetz.append(twt.Tweets[i])"
   ]
  },
  {
   "cell_type": "code",
   "execution_count": 88,
   "metadata": {},
   "outputs": [],
   "source": [
    "'''\n",
    "1. All characters other than alphabates are removed.\n",
    "2. All characters are lowered to lowercase.\n",
    "3. Each word of the headline are splited.\n",
    "4. Word other than stop words are lemmatizied.\n",
    "5. Each lemmatized word are finally joined and appended in new list.\n",
    "'''\n",
    "\n",
    "tweets = []\n",
    "for i in range(len(tweetz)):\n",
    "    text = re.sub('[^a-zA-Z]', ' ', tweetz[i])  \n",
    "    text = re.sub(\"via\",\"\",text)\n",
    "    text = text.lower()\n",
    "    text = text.split()\n",
    "    text = set(wordnet.lemmatize(word) for word in text if not word in set(stopwords.words('english')))\n",
    "    text = ' '.join(text)\n",
    "    tweets.append(text)"
   ]
  },
  {
   "cell_type": "code",
   "execution_count": 89,
   "metadata": {},
   "outputs": [],
   "source": [
    "from sklearn.feature_extraction.text import TfidfVectorizer"
   ]
  },
  {
   "cell_type": "code",
   "execution_count": 90,
   "metadata": {},
   "outputs": [],
   "source": [
    "TFIDF_obj = TfidfVectorizer(max_features=100)\n",
    "tweet_array = TFIDF_obj.fit_transform(tweets).toarray()\n",
    "TFIDF_twt_features = pd.DataFrame(tweet_array, index = stk.index, columns=TFIDF_obj.get_feature_names())"
   ]
  },
  {
   "cell_type": "code",
   "execution_count": 91,
   "metadata": {},
   "outputs": [
    {
     "data": {
      "text/html": [
       "<div>\n",
       "<style scoped>\n",
       "    .dataframe tbody tr th:only-of-type {\n",
       "        vertical-align: middle;\n",
       "    }\n",
       "\n",
       "    .dataframe tbody tr th {\n",
       "        vertical-align: top;\n",
       "    }\n",
       "\n",
       "    .dataframe thead th {\n",
       "        text-align: right;\n",
       "    }\n",
       "</style>\n",
       "<table border=\"1\" class=\"dataframe\">\n",
       "  <thead>\n",
       "    <tr style=\"text-align: right;\">\n",
       "      <th></th>\n",
       "      <th>ai</th>\n",
       "      <th>also</th>\n",
       "      <th>amazon</th>\n",
       "      <th>amp</th>\n",
       "      <th>amzn</th>\n",
       "      <th>apple</th>\n",
       "      <th>back</th>\n",
       "      <th>big</th>\n",
       "      <th>blockchain</th>\n",
       "      <th>business</th>\n",
       "      <th>...</th>\n",
       "      <th>virtual</th>\n",
       "      <th>want</th>\n",
       "      <th>watson</th>\n",
       "      <th>way</th>\n",
       "      <th>webinar</th>\n",
       "      <th>work</th>\n",
       "      <th>working</th>\n",
       "      <th>world</th>\n",
       "      <th>would</th>\n",
       "      <th>year</th>\n",
       "    </tr>\n",
       "    <tr>\n",
       "      <th>Date</th>\n",
       "      <th></th>\n",
       "      <th></th>\n",
       "      <th></th>\n",
       "      <th></th>\n",
       "      <th></th>\n",
       "      <th></th>\n",
       "      <th></th>\n",
       "      <th></th>\n",
       "      <th></th>\n",
       "      <th></th>\n",
       "      <th></th>\n",
       "      <th></th>\n",
       "      <th></th>\n",
       "      <th></th>\n",
       "      <th></th>\n",
       "      <th></th>\n",
       "      <th></th>\n",
       "      <th></th>\n",
       "      <th></th>\n",
       "      <th></th>\n",
       "      <th></th>\n",
       "    </tr>\n",
       "  </thead>\n",
       "  <tbody>\n",
       "    <tr>\n",
       "      <th>2020-06-09 13:30:00</th>\n",
       "      <td>0.000000</td>\n",
       "      <td>0.0</td>\n",
       "      <td>0.0</td>\n",
       "      <td>0.0</td>\n",
       "      <td>0.0</td>\n",
       "      <td>0.0</td>\n",
       "      <td>0.0</td>\n",
       "      <td>0.000000</td>\n",
       "      <td>0.0</td>\n",
       "      <td>0.189439</td>\n",
       "      <td>...</td>\n",
       "      <td>0.000000</td>\n",
       "      <td>0.0</td>\n",
       "      <td>0.0</td>\n",
       "      <td>0.0</td>\n",
       "      <td>0.0</td>\n",
       "      <td>0.215774</td>\n",
       "      <td>0.000000</td>\n",
       "      <td>0.0</td>\n",
       "      <td>0.000000</td>\n",
       "      <td>0.0</td>\n",
       "    </tr>\n",
       "    <tr>\n",
       "      <th>2020-06-09 13:31:00</th>\n",
       "      <td>0.000000</td>\n",
       "      <td>0.0</td>\n",
       "      <td>0.0</td>\n",
       "      <td>0.0</td>\n",
       "      <td>0.0</td>\n",
       "      <td>0.0</td>\n",
       "      <td>0.0</td>\n",
       "      <td>0.000000</td>\n",
       "      <td>0.0</td>\n",
       "      <td>0.000000</td>\n",
       "      <td>...</td>\n",
       "      <td>0.000000</td>\n",
       "      <td>0.0</td>\n",
       "      <td>0.0</td>\n",
       "      <td>0.0</td>\n",
       "      <td>0.0</td>\n",
       "      <td>0.000000</td>\n",
       "      <td>0.305367</td>\n",
       "      <td>0.0</td>\n",
       "      <td>0.000000</td>\n",
       "      <td>0.0</td>\n",
       "    </tr>\n",
       "    <tr>\n",
       "      <th>2020-06-09 13:32:00</th>\n",
       "      <td>0.000000</td>\n",
       "      <td>0.0</td>\n",
       "      <td>0.0</td>\n",
       "      <td>0.0</td>\n",
       "      <td>0.0</td>\n",
       "      <td>0.0</td>\n",
       "      <td>0.0</td>\n",
       "      <td>0.000000</td>\n",
       "      <td>0.0</td>\n",
       "      <td>0.188622</td>\n",
       "      <td>...</td>\n",
       "      <td>0.000000</td>\n",
       "      <td>0.0</td>\n",
       "      <td>0.0</td>\n",
       "      <td>0.0</td>\n",
       "      <td>0.0</td>\n",
       "      <td>0.000000</td>\n",
       "      <td>0.000000</td>\n",
       "      <td>0.0</td>\n",
       "      <td>0.257758</td>\n",
       "      <td>0.0</td>\n",
       "    </tr>\n",
       "    <tr>\n",
       "      <th>2020-06-09 13:33:00</th>\n",
       "      <td>0.185695</td>\n",
       "      <td>0.0</td>\n",
       "      <td>0.0</td>\n",
       "      <td>0.0</td>\n",
       "      <td>0.0</td>\n",
       "      <td>0.0</td>\n",
       "      <td>0.0</td>\n",
       "      <td>0.000000</td>\n",
       "      <td>0.0</td>\n",
       "      <td>0.192321</td>\n",
       "      <td>...</td>\n",
       "      <td>0.263573</td>\n",
       "      <td>0.0</td>\n",
       "      <td>0.0</td>\n",
       "      <td>0.0</td>\n",
       "      <td>0.0</td>\n",
       "      <td>0.000000</td>\n",
       "      <td>0.000000</td>\n",
       "      <td>0.0</td>\n",
       "      <td>0.262812</td>\n",
       "      <td>0.0</td>\n",
       "    </tr>\n",
       "    <tr>\n",
       "      <th>2020-06-09 13:34:00</th>\n",
       "      <td>0.000000</td>\n",
       "      <td>0.0</td>\n",
       "      <td>0.0</td>\n",
       "      <td>0.0</td>\n",
       "      <td>0.0</td>\n",
       "      <td>0.0</td>\n",
       "      <td>0.0</td>\n",
       "      <td>0.270093</td>\n",
       "      <td>0.0</td>\n",
       "      <td>0.205431</td>\n",
       "      <td>...</td>\n",
       "      <td>0.000000</td>\n",
       "      <td>0.0</td>\n",
       "      <td>0.0</td>\n",
       "      <td>0.0</td>\n",
       "      <td>0.0</td>\n",
       "      <td>0.000000</td>\n",
       "      <td>0.000000</td>\n",
       "      <td>0.0</td>\n",
       "      <td>0.000000</td>\n",
       "      <td>0.0</td>\n",
       "    </tr>\n",
       "  </tbody>\n",
       "</table>\n",
       "<p>5 rows × 100 columns</p>\n",
       "</div>"
      ],
      "text/plain": [
       "                           ai  also  amazon  amp  amzn  apple  back       big  \\\n",
       "Date                                                                            \n",
       "2020-06-09 13:30:00  0.000000   0.0     0.0  0.0   0.0    0.0   0.0  0.000000   \n",
       "2020-06-09 13:31:00  0.000000   0.0     0.0  0.0   0.0    0.0   0.0  0.000000   \n",
       "2020-06-09 13:32:00  0.000000   0.0     0.0  0.0   0.0    0.0   0.0  0.000000   \n",
       "2020-06-09 13:33:00  0.185695   0.0     0.0  0.0   0.0    0.0   0.0  0.000000   \n",
       "2020-06-09 13:34:00  0.000000   0.0     0.0  0.0   0.0    0.0   0.0  0.270093   \n",
       "\n",
       "                     blockchain  business  ...   virtual  want  watson  way  \\\n",
       "Date                                       ...                                \n",
       "2020-06-09 13:30:00         0.0  0.189439  ...  0.000000   0.0     0.0  0.0   \n",
       "2020-06-09 13:31:00         0.0  0.000000  ...  0.000000   0.0     0.0  0.0   \n",
       "2020-06-09 13:32:00         0.0  0.188622  ...  0.000000   0.0     0.0  0.0   \n",
       "2020-06-09 13:33:00         0.0  0.192321  ...  0.263573   0.0     0.0  0.0   \n",
       "2020-06-09 13:34:00         0.0  0.205431  ...  0.000000   0.0     0.0  0.0   \n",
       "\n",
       "                     webinar      work   working  world     would  year  \n",
       "Date                                                                     \n",
       "2020-06-09 13:30:00      0.0  0.215774  0.000000    0.0  0.000000   0.0  \n",
       "2020-06-09 13:31:00      0.0  0.000000  0.305367    0.0  0.000000   0.0  \n",
       "2020-06-09 13:32:00      0.0  0.000000  0.000000    0.0  0.257758   0.0  \n",
       "2020-06-09 13:33:00      0.0  0.000000  0.000000    0.0  0.262812   0.0  \n",
       "2020-06-09 13:34:00      0.0  0.000000  0.000000    0.0  0.000000   0.0  \n",
       "\n",
       "[5 rows x 100 columns]"
      ]
     },
     "execution_count": 91,
     "metadata": {},
     "output_type": "execute_result"
    }
   ],
   "source": [
    "TFIDF_twt_features.head()"
   ]
  },
  {
   "cell_type": "code",
   "execution_count": null,
   "metadata": {},
   "outputs": [],
   "source": []
  },
  {
   "cell_type": "markdown",
   "metadata": {},
   "source": [
    "# Model Dataset"
   ]
  },
  {
   "cell_type": "code",
   "execution_count": 92,
   "metadata": {},
   "outputs": [],
   "source": [
    "Model_data = pd.concat([stk,pol_sub,TFIDF_twt_features,target],axis=1)"
   ]
  },
  {
   "cell_type": "code",
   "execution_count": 93,
   "metadata": {},
   "outputs": [
    {
     "data": {
      "text/html": [
       "<div>\n",
       "<style scoped>\n",
       "    .dataframe tbody tr th:only-of-type {\n",
       "        vertical-align: middle;\n",
       "    }\n",
       "\n",
       "    .dataframe tbody tr th {\n",
       "        vertical-align: top;\n",
       "    }\n",
       "\n",
       "    .dataframe thead th {\n",
       "        text-align: right;\n",
       "    }\n",
       "</style>\n",
       "<table border=\"1\" class=\"dataframe\">\n",
       "  <thead>\n",
       "    <tr style=\"text-align: right;\">\n",
       "      <th></th>\n",
       "      <th>Open</th>\n",
       "      <th>High</th>\n",
       "      <th>Low</th>\n",
       "      <th>Close</th>\n",
       "      <th>Volume</th>\n",
       "      <th>Adj Open</th>\n",
       "      <th>Polarity</th>\n",
       "      <th>Subjectivity</th>\n",
       "      <th>ai</th>\n",
       "      <th>also</th>\n",
       "      <th>...</th>\n",
       "      <th>want</th>\n",
       "      <th>watson</th>\n",
       "      <th>way</th>\n",
       "      <th>webinar</th>\n",
       "      <th>work</th>\n",
       "      <th>working</th>\n",
       "      <th>world</th>\n",
       "      <th>would</th>\n",
       "      <th>year</th>\n",
       "      <th>Target</th>\n",
       "    </tr>\n",
       "    <tr>\n",
       "      <th>Date</th>\n",
       "      <th></th>\n",
       "      <th></th>\n",
       "      <th></th>\n",
       "      <th></th>\n",
       "      <th></th>\n",
       "      <th></th>\n",
       "      <th></th>\n",
       "      <th></th>\n",
       "      <th></th>\n",
       "      <th></th>\n",
       "      <th></th>\n",
       "      <th></th>\n",
       "      <th></th>\n",
       "      <th></th>\n",
       "      <th></th>\n",
       "      <th></th>\n",
       "      <th></th>\n",
       "      <th></th>\n",
       "      <th></th>\n",
       "      <th></th>\n",
       "      <th></th>\n",
       "    </tr>\n",
       "  </thead>\n",
       "  <tbody>\n",
       "    <tr>\n",
       "      <th>2020-06-09 13:30:00</th>\n",
       "      <td>133.520004</td>\n",
       "      <td>133.600006</td>\n",
       "      <td>133.080002</td>\n",
       "      <td>133.264999</td>\n",
       "      <td>175324</td>\n",
       "      <td>133.274994</td>\n",
       "      <td>0.099753</td>\n",
       "      <td>0.391667</td>\n",
       "      <td>0.0</td>\n",
       "      <td>0.0</td>\n",
       "      <td>...</td>\n",
       "      <td>0.0</td>\n",
       "      <td>0.0</td>\n",
       "      <td>0.0</td>\n",
       "      <td>0.0</td>\n",
       "      <td>0.215774</td>\n",
       "      <td>0.000000</td>\n",
       "      <td>0.0</td>\n",
       "      <td>0.0</td>\n",
       "      <td>0.0</td>\n",
       "      <td>133.274994</td>\n",
       "    </tr>\n",
       "    <tr>\n",
       "      <th>2020-06-09 13:31:00</th>\n",
       "      <td>133.274994</td>\n",
       "      <td>133.279999</td>\n",
       "      <td>133.080002</td>\n",
       "      <td>133.160004</td>\n",
       "      <td>22922</td>\n",
       "      <td>133.289993</td>\n",
       "      <td>0.240000</td>\n",
       "      <td>0.240000</td>\n",
       "      <td>0.0</td>\n",
       "      <td>0.0</td>\n",
       "      <td>...</td>\n",
       "      <td>0.0</td>\n",
       "      <td>0.0</td>\n",
       "      <td>0.0</td>\n",
       "      <td>0.0</td>\n",
       "      <td>0.000000</td>\n",
       "      <td>0.305367</td>\n",
       "      <td>0.0</td>\n",
       "      <td>0.0</td>\n",
       "      <td>0.0</td>\n",
       "      <td>133.289993</td>\n",
       "    </tr>\n",
       "  </tbody>\n",
       "</table>\n",
       "<p>2 rows × 109 columns</p>\n",
       "</div>"
      ],
      "text/plain": [
       "                           Open        High         Low       Close  Volume  \\\n",
       "Date                                                                          \n",
       "2020-06-09 13:30:00  133.520004  133.600006  133.080002  133.264999  175324   \n",
       "2020-06-09 13:31:00  133.274994  133.279999  133.080002  133.160004   22922   \n",
       "\n",
       "                       Adj Open  Polarity  Subjectivity   ai  also  ...  want  \\\n",
       "Date                                                                ...         \n",
       "2020-06-09 13:30:00  133.274994  0.099753      0.391667  0.0   0.0  ...   0.0   \n",
       "2020-06-09 13:31:00  133.289993  0.240000      0.240000  0.0   0.0  ...   0.0   \n",
       "\n",
       "                     watson  way  webinar      work   working  world  would  \\\n",
       "Date                                                                          \n",
       "2020-06-09 13:30:00     0.0  0.0      0.0  0.215774  0.000000    0.0    0.0   \n",
       "2020-06-09 13:31:00     0.0  0.0      0.0  0.000000  0.305367    0.0    0.0   \n",
       "\n",
       "                     year      Target  \n",
       "Date                                   \n",
       "2020-06-09 13:30:00   0.0  133.274994  \n",
       "2020-06-09 13:31:00   0.0  133.289993  \n",
       "\n",
       "[2 rows x 109 columns]"
      ]
     },
     "execution_count": 93,
     "metadata": {},
     "output_type": "execute_result"
    }
   ],
   "source": [
    "Model_data.head(2)"
   ]
  },
  {
   "cell_type": "code",
   "execution_count": 94,
   "metadata": {},
   "outputs": [
    {
     "data": {
      "text/html": [
       "<div>\n",
       "<style scoped>\n",
       "    .dataframe tbody tr th:only-of-type {\n",
       "        vertical-align: middle;\n",
       "    }\n",
       "\n",
       "    .dataframe tbody tr th {\n",
       "        vertical-align: top;\n",
       "    }\n",
       "\n",
       "    .dataframe thead th {\n",
       "        text-align: right;\n",
       "    }\n",
       "</style>\n",
       "<table border=\"1\" class=\"dataframe\">\n",
       "  <thead>\n",
       "    <tr style=\"text-align: right;\">\n",
       "      <th></th>\n",
       "      <th>Open</th>\n",
       "      <th>High</th>\n",
       "      <th>Low</th>\n",
       "      <th>Close</th>\n",
       "      <th>Volume</th>\n",
       "      <th>Adj Open</th>\n",
       "      <th>Polarity</th>\n",
       "      <th>Subjectivity</th>\n",
       "      <th>ai</th>\n",
       "      <th>also</th>\n",
       "      <th>...</th>\n",
       "      <th>want</th>\n",
       "      <th>watson</th>\n",
       "      <th>way</th>\n",
       "      <th>webinar</th>\n",
       "      <th>work</th>\n",
       "      <th>working</th>\n",
       "      <th>world</th>\n",
       "      <th>would</th>\n",
       "      <th>year</th>\n",
       "      <th>Target</th>\n",
       "    </tr>\n",
       "    <tr>\n",
       "      <th>Date</th>\n",
       "      <th></th>\n",
       "      <th></th>\n",
       "      <th></th>\n",
       "      <th></th>\n",
       "      <th></th>\n",
       "      <th></th>\n",
       "      <th></th>\n",
       "      <th></th>\n",
       "      <th></th>\n",
       "      <th></th>\n",
       "      <th></th>\n",
       "      <th></th>\n",
       "      <th></th>\n",
       "      <th></th>\n",
       "      <th></th>\n",
       "      <th></th>\n",
       "      <th></th>\n",
       "      <th></th>\n",
       "      <th></th>\n",
       "      <th></th>\n",
       "      <th></th>\n",
       "    </tr>\n",
       "  </thead>\n",
       "  <tbody>\n",
       "    <tr>\n",
       "      <th>2020-07-08 18:27:00</th>\n",
       "      <td>117.220001</td>\n",
       "      <td>117.221802</td>\n",
       "      <td>117.169998</td>\n",
       "      <td>117.199997</td>\n",
       "      <td>5216</td>\n",
       "      <td>117.209999</td>\n",
       "      <td>0.103704</td>\n",
       "      <td>0.42963</td>\n",
       "      <td>0.0</td>\n",
       "      <td>0.0</td>\n",
       "      <td>...</td>\n",
       "      <td>0.0</td>\n",
       "      <td>0.0</td>\n",
       "      <td>0.0</td>\n",
       "      <td>0.0</td>\n",
       "      <td>0.0</td>\n",
       "      <td>0.0</td>\n",
       "      <td>0.0</td>\n",
       "      <td>0.0</td>\n",
       "      <td>0.339156</td>\n",
       "      <td>117.209999</td>\n",
       "    </tr>\n",
       "    <tr>\n",
       "      <th>2020-07-08 18:28:00</th>\n",
       "      <td>117.209999</td>\n",
       "      <td>117.254997</td>\n",
       "      <td>117.209999</td>\n",
       "      <td>117.229797</td>\n",
       "      <td>9265</td>\n",
       "      <td>117.230003</td>\n",
       "      <td>0.000000</td>\n",
       "      <td>0.00000</td>\n",
       "      <td>0.0</td>\n",
       "      <td>0.0</td>\n",
       "      <td>...</td>\n",
       "      <td>0.0</td>\n",
       "      <td>0.0</td>\n",
       "      <td>0.0</td>\n",
       "      <td>0.0</td>\n",
       "      <td>0.0</td>\n",
       "      <td>0.0</td>\n",
       "      <td>0.0</td>\n",
       "      <td>0.0</td>\n",
       "      <td>0.000000</td>\n",
       "      <td>117.230003</td>\n",
       "    </tr>\n",
       "  </tbody>\n",
       "</table>\n",
       "<p>2 rows × 109 columns</p>\n",
       "</div>"
      ],
      "text/plain": [
       "                           Open        High         Low       Close  Volume  \\\n",
       "Date                                                                          \n",
       "2020-07-08 18:27:00  117.220001  117.221802  117.169998  117.199997    5216   \n",
       "2020-07-08 18:28:00  117.209999  117.254997  117.209999  117.229797    9265   \n",
       "\n",
       "                       Adj Open  Polarity  Subjectivity   ai  also  ...  want  \\\n",
       "Date                                                                ...         \n",
       "2020-07-08 18:27:00  117.209999  0.103704       0.42963  0.0   0.0  ...   0.0   \n",
       "2020-07-08 18:28:00  117.230003  0.000000       0.00000  0.0   0.0  ...   0.0   \n",
       "\n",
       "                     watson  way  webinar  work  working  world  would  \\\n",
       "Date                                                                     \n",
       "2020-07-08 18:27:00     0.0  0.0      0.0   0.0      0.0    0.0    0.0   \n",
       "2020-07-08 18:28:00     0.0  0.0      0.0   0.0      0.0    0.0    0.0   \n",
       "\n",
       "                         year      Target  \n",
       "Date                                       \n",
       "2020-07-08 18:27:00  0.339156  117.209999  \n",
       "2020-07-08 18:28:00  0.000000  117.230003  \n",
       "\n",
       "[2 rows x 109 columns]"
      ]
     },
     "execution_count": 94,
     "metadata": {},
     "output_type": "execute_result"
    }
   ],
   "source": [
    "Model_data.tail(2)"
   ]
  },
  {
   "cell_type": "code",
   "execution_count": null,
   "metadata": {},
   "outputs": [],
   "source": []
  }
 ],
 "metadata": {
  "kernelspec": {
   "display_name": "Python 3",
   "language": "python",
   "name": "python3"
  },
  "language_info": {
   "codemirror_mode": {
    "name": "ipython",
    "version": 3
   },
   "file_extension": ".py",
   "mimetype": "text/x-python",
   "name": "python",
   "nbconvert_exporter": "python",
   "pygments_lexer": "ipython3",
   "version": "3.7.7"
  }
 },
 "nbformat": 4,
 "nbformat_minor": 4
}
