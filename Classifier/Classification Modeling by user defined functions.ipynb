{
 "cells": [
  {
   "cell_type": "markdown",
   "metadata": {},
   "source": [
    "# Data set Context\n",
    "\n",
    "The binary classification goal of this Dataset is to predict if the client will subscribe a bank term deposit (variable y).\n",
    "\n",
    "- Number of Instances: 41188 \n",
    "\n",
    "- Number of Attributes: 20 + output attribute.\n",
    "\n",
    "- Attribute Details:\n",
    "\n",
    "1 - age (numeric)   \n",
    "   2 - job : type of job (categorical: \"admin.\",\"blue-collar\",\"entrepreneur\",\"housemaid\",\"management\",\"retired\",\"self-employed\", \"services\",\"student\",\"technician\", \"unemployed\",\"unknown\")   \n",
    "   3 - marital : marital status (categorical: \"divorced\",\"married\",\"single\",\"unknown\"; note: \"divorced\" means divorced or widowed)   \n",
    "   4 - education (categorical: \"basic.4y\",\"basic.6y\",\"basic.9y\",\"high.school\",\"illiterate\",\"professional.course\",\"university.degree\",\"unknown\")   \n",
    "   5 - default: has credit in default? (categorical: \"no\",\"yes\",\"unknown\")   \n",
    "   6 - housing: has housing loan? (categorical: \"no\",\"yes\",\"unknown\")   \n",
    "   7 - loan: has personal loan? (categorical: \"no\",\"yes\",\"unknown\")\n",
    "   \n",
    "**related with the last contact of the current campaign:** \n",
    "\n",
    "   8 - contact: contact communication type (categorical: \"cellular\",\"telephone\")   \n",
    "   9 - month: last contact month of year (categorical: \"jan\", \"feb\", \"mar\", ..., \"nov\", \"dec\")  \n",
    "  10 - day_of_week: last contact day of the week (categorical: \"mon\",\"tue\",\"wed\",\"thu\",\"fri\")  \n",
    "  11 - duration: last contact duration,in seconds (numeric).**Important note:  this attribute highly affects the output target (e.g., if duration=0 then y=\"no\"). Yet, the duration is not known before a call is performed. Also, after the end of the call y is obviously known. Thus, this input should only be included for benchmark purposes and should be discarded if the intention is to have a realistic predictive model.**\n",
    "  \n",
    "  12 - campaign: number of contacts performed during this campaign and for this client (numeric, includes last contact)  \n",
    "  13 - pdays: number of days that passed by after the client was last contacted from a previous campaign (numeric; 999 means client was not previously contacted)  \n",
    "  14 - previous: number of contacts performed before this campaign and for this client (numeric)  \n",
    "  15 - poutcome: outcome of the previous marketing campaign (categorical: \"failure\",\"nonexistent\",\"success\")\n",
    "   \n",
    "**social and economic context attributes**  \n",
    "  16 - emp.var.rate: employment variation rate - quarterly indicator (numeric)  \n",
    "  17 - cons.price.idx: consumer price index - monthly indicator (numeric)  \n",
    "  18 - cons.conf.idx: consumer confidence index - monthly indicator (numeric)  \n",
    "  19 - euribor3m: euribor 3 month rate - daily indicator (numeric)  \n",
    "  20 - nr.employed: number of employees - quarterly indicator (numeric)\n",
    "  \n",
    "  Output variable (desired target):  \n",
    "  21 - y - has the client subscribed a term deposit? (binary: \"yes\",\"no\")\n",
    "\n",
    "- Missing Attribute Values: There are several missing values in some categorical attributes, all coded with the \"unknown\" label. These missing values can be treated as a possible class label or using deletion or imputation techniques. \n"
   ]
  },
  {
   "cell_type": "markdown",
   "metadata": {},
   "source": [
    "# Task  : \n",
    "In this project we investigate the relationship between Client's choice to subscribe for a Term Deposit and Mulitple Features. Also we **predict if Client Subscribed a Term Deposit or not based on multiple features**."
   ]
  },
  {
   "cell_type": "markdown",
   "metadata": {},
   "source": [
    "# Imorting All Required Packages or Modules"
   ]
  },
  {
   "cell_type": "code",
   "execution_count": 19,
   "metadata": {},
   "outputs": [],
   "source": [
    "import pandas as pd\n",
    "import numpy as np\n",
    "import matplotlib.pyplot as plt\n",
    "import seaborn as sns\n",
    "\n",
    "from sklearn.feature_selection import SelectKBest\n",
    "from sklearn.feature_selection import f_classif \n",
    "from sklearn.feature_selection import chi2\n",
    "\n",
    "from sklearn import preprocessing \n",
    "from sklearn.model_selection import train_test_split\n",
    "\n",
    "from sklearn.metrics import confusion_matrix, classification_report\n",
    "from sklearn.metrics import r2_score\n",
    "from sklearn import metrics\n",
    "\n",
    "from sklearn.model_selection import KFold\n",
    "from sklearn.model_selection import GridSearchCV\n",
    "\n",
    "from sklearn import linear_model\n",
    "from sklearn.neighbors import KNeighborsClassifier\n",
    "from sklearn.tree import DecisionTreeClassifier\n",
    "from id3 import Id3Estimator\n",
    "from sklearn import svm\n",
    "from sklearn.ensemble import RandomForestClassifier\n",
    "from sklearn.naive_bayes import BernoulliNB\n",
    "\n",
    "import warnings\n",
    "warnings.filterwarnings('ignore')"
   ]
  },
  {
   "cell_type": "code",
   "execution_count": null,
   "metadata": {},
   "outputs": [],
   "source": []
  },
  {
   "cell_type": "markdown",
   "metadata": {},
   "source": [
    "# Function to Import Data"
   ]
  },
  {
   "cell_type": "code",
   "execution_count": 20,
   "metadata": {},
   "outputs": [],
   "source": [
    "def Import_data(): \n",
    "    print(\"--------------- Pandas package is used to read the Dataset ---------------\")\n",
    "    Data = pd .read_csv( \"C:\\\\Users\\\\SS\\\\Downloads\\\\MDS Course files\\\\Projects\\\\Data Sets\\\\bank-additional Class\\\\bank-additional-full.csv\" ,sep=';')\n",
    "      \n",
    "    # Size of the Dataset\n",
    "    print(f\"Number of rows are {Data.shape[0]}. \\nNumber of Columns are {Data.shape[1]}.\")\n",
    "    return Data \n"
   ]
  },
  {
   "cell_type": "markdown",
   "metadata": {},
   "source": [
    "# Function to display Basic Information of Dataset"
   ]
  },
  {
   "cell_type": "code",
   "execution_count": 21,
   "metadata": {},
   "outputs": [],
   "source": [
    "def Data_info(Data):\n",
    "    print(f\"\\n\\n---------------- Information about columns of Dataset ----------------\\n\")\n",
    "    print(Data.info())\n",
    "    print(f\"\\n---------------- Statistical Information of the Data set ----------------\\n\")\n",
    "    print(Data.describe())\n",
    "    print()\n",
    "    print(\"---------------- Now we check Null Values in each columns ----------------\\n\")\n",
    "    print(Data.isnull().sum())\n",
    "    "
   ]
  },
  {
   "cell_type": "markdown",
   "metadata": {},
   "source": [
    "# Functions to separate features into Continous and Categorical features "
   ]
  },
  {
   "cell_type": "code",
   "execution_count": 22,
   "metadata": {},
   "outputs": [],
   "source": [
    "def feature_separation(Data):\n",
    "    cont_features = Data.select_dtypes(exclude=['object'])\n",
    "    cat_features = Data.select_dtypes(include=['object'])\n",
    "    return cont_features,cat_features\n"
   ]
  },
  {
   "cell_type": "markdown",
   "metadata": {},
   "source": [
    "# Function for Exploratory Data Analysis"
   ]
  },
  {
   "cell_type": "code",
   "execution_count": 23,
   "metadata": {},
   "outputs": [],
   "source": [
    "def EDA(Data):\n",
    "    continous_features , catyegorical_features = feature_separation(Data)\n",
    "    print(\"\\n\\n---------------- Correlation between continuous valued features ----------------\\n\")\n",
    "    plt.figure(figsize=(10,10))\n",
    "    sns.heatmap(data = continous_features.corr(method='pearson'), annot=True)\n",
    "    plt.show()\n",
    "    \n",
    "    print(\"\\n---------------- Histogram ----------------\\n\")\n",
    "    Data.hist(figsize=(10,10))\n",
    "    plt.show()\n",
    "    \n",
    "    print(\"\\n---------------- Boxplot ----------------\\n\")\n",
    "    continous_features.plot(kind='box', layout=(4,3), subplots=True, figsize=(10,15))\n",
    "    plt.show()\n",
    "    \n",
    "    print(\"\\n---------------- Count Plot of target feature ----------------\\n\")\n",
    "    sns.countplot(Data['y'])\n",
    "    plt.show()\n",
    "    \n",
    "    print(\"\\n---------------- Count Plot of Education w.r.t target feature ----------------\\n\")\n",
    "    plt.figure(figsize=(15,5))\n",
    "    sns.countplot(x = 'education', hue='y', data = Data)\n",
    "    plt.show()\n",
    "    \n",
    "    print(\"\\n---------------- Count Plot of Housing w.r.t target feature ----------------\\n\")\n",
    "    plt.figure(figsize=(6,5))\n",
    "    sns.countplot(x = 'housing', hue='y', data = Data)\n",
    "    plt.show()\n",
    "    \n",
    "    print(\"\\n---------------- Count Plot of Job w.r.t target feature ----------------\\n\")\n",
    "    plt.figure(figsize=(18,5))\n",
    "    sns.countplot(x = 'job', hue='y', data = Data)\n",
    "    plt.show()\n",
    "    \n",
    "    \n",
    "    print(\"\\n---------------- Count Plot of Loan w.r.t target feature ----------------\\n\")\n",
    "    plt.figure(figsize=(6,5))\n",
    "    sns.countplot(x = 'loan', hue='y', data = Data)\n",
    "    plt.show()\n",
    "    \n",
    "    print(\"\\n---------------- Count Plot of Contact w.r.t target feature ----------------\\n\")\n",
    "    plt.figure(figsize=(6,5))\n",
    "    sns.countplot(x = 'contact', hue='y', data = Data)\n",
    "    plt.show()"
   ]
  },
  {
   "cell_type": "markdown",
   "metadata": {},
   "source": [
    "# Function for Data Preprocessing \n",
    "1. Feature Selection\n",
    "2. Feature Scaling"
   ]
  },
  {
   "cell_type": "code",
   "execution_count": 24,
   "metadata": {},
   "outputs": [],
   "source": [
    "# Method parameter is for SelectKBest , n is for number of top scores\n",
    "def Data_Preprocessing(features,target,method,n):\n",
    "    \n",
    "    # Selecting Best Features\n",
    "    bestfeatures = SelectKBest(score_func = method, k = 'all')\n",
    "    fit = bestfeatures.fit(features,target)\n",
    "    \n",
    "    feature_scores = pd.DataFrame(fit.scores_)\n",
    "    feature_column_name=pd.DataFrame(features.columns)\n",
    "    feature_score_df = pd.concat([feature_column_name,feature_scores],axis=1)\n",
    "    feature_score_df.columns=['Features','Score']\n",
    "        \n",
    "    largest_feature_score_df = feature_score_df.nlargest(n,'Score')\n",
    "        \n",
    "    # Feature Scaling\n",
    "    x = features[[x for x in largest_feature_score_df['Features']]].values\n",
    "    x = preprocessing.RobustScaler().fit(x).transform(x)\n",
    "    \n",
    "    return largest_feature_score_df,x"
   ]
  },
  {
   "cell_type": "markdown",
   "metadata": {},
   "source": [
    "# Function to Label Encode the Categorical Feature\n",
    "This is also part of Data Preprocessing"
   ]
  },
  {
   "cell_type": "code",
   "execution_count": 25,
   "metadata": {},
   "outputs": [],
   "source": [
    "def Categorical_feature_encoding(features):\n",
    "    features = features.apply( preprocessing.LabelEncoder().fit_transform )\n",
    "    return features"
   ]
  },
  {
   "cell_type": "markdown",
   "metadata": {},
   "source": [
    "# Function to Handle Null Value"
   ]
  },
  {
   "cell_type": "code",
   "execution_count": 26,
   "metadata": {},
   "outputs": [],
   "source": [
    "def Null_value_handler(features):\n",
    "    features = features.replace('unknown',np.nan,regex=True)\n",
    "    for column in features.columns:\n",
    "        mode = features[column].mode()[0]\n",
    "        features[column] = features[column].fillna(mode)\n",
    "    for col_name in features.columns:\n",
    "        features[col_name] = features[col_name].astype('category')\n",
    "    print(\"--------------- Missing Values Handled ---------------\\n\")\n",
    "    return features\n"
   ]
  },
  {
   "cell_type": "markdown",
   "metadata": {},
   "source": [
    "# Function to Separate dataset into train and test dataset"
   ]
  },
  {
   "cell_type": "code",
   "execution_count": 27,
   "metadata": {},
   "outputs": [],
   "source": [
    "def Data_split(x,y):\n",
    "    train_x, test_x , train_y, test_y = train_test_split(x , y , test_size = 0.2 , random_state = 4)\n",
    "    return train_x, test_x , train_y, test_y"
   ]
  },
  {
   "cell_type": "markdown",
   "metadata": {},
   "source": [
    "# Function for Logestic Regression Model"
   ]
  },
  {
   "cell_type": "code",
   "execution_count": 28,
   "metadata": {},
   "outputs": [],
   "source": [
    "def Logestic_Regression(train_x,train_y,test_x,test_y):\n",
    "    print(\"\\n\\n---------------- Logestic Regression Algorithm ----------------\\n\")\n",
    "    \n",
    "    Logestic_Reg = linear_model .LogisticRegression(C=0.01,solver='liblinear')\n",
    "    print(\"Model is Ready :\")\n",
    "    print(Logestic_Reg)\n",
    "    Logestic_Reg .fit( train_x , train_y )\n",
    "    LRPred = Logestic_Reg.predict(test_x)\n",
    "    print(\"\\nScore of the Model is \",Logestic_Reg.score( train_x , train_y ))\n",
    "    print()\n",
    "    LR_as = metrics.accuracy_score( test_y, LRPred )\n",
    "    return Logestic_Reg,LRPred,LR_as"
   ]
  },
  {
   "cell_type": "markdown",
   "metadata": {},
   "source": [
    "# Function for K-Nearest Neighbour Model"
   ]
  },
  {
   "cell_type": "code",
   "execution_count": 29,
   "metadata": {},
   "outputs": [],
   "source": [
    "def KNN_classifier(train_x,train_y,test_x,test_y):\n",
    "    print(\"\\n\\n---------------- K-Nearest Neighbour Algorithm ----------------\\n\")\n",
    "    \n",
    "    Ks = 10\n",
    "    mean_acc = np.zeros((Ks))\n",
    "\n",
    "    for n in range(1,Ks+1):\n",
    "        KnN = KNeighborsClassifier( n_neighbors = n ).fit(train_x,train_y)\n",
    "        KPred_y = KnN.predict(test_x)\n",
    "        mean_acc[n-1] = metrics.accuracy_score(test_y , KPred_y)\n",
    "        \n",
    "    plt.plot(range(1,Ks+1),mean_acc,'g')\n",
    "    plt.legend(('Accuracy ', '+/- 3xstd'))\n",
    "    plt.ylabel('Accuracy Score')\n",
    "    plt.xlabel('Number of Neighbours (K)')\n",
    "    plt.tight_layout()\n",
    "    plt.show()\n",
    "    \n",
    "    print( \"\\nThe best accuracy is\", mean_acc.max(), \"with k =\", mean_acc.argmax()+1) \n",
    "    return mean_acc.max()"
   ]
  },
  {
   "cell_type": "markdown",
   "metadata": {},
   "source": [
    "# Function for Decision Tree Model"
   ]
  },
  {
   "cell_type": "code",
   "execution_count": 30,
   "metadata": {},
   "outputs": [],
   "source": [
    "def Decision_Tree_classifier(train_x,train_y,test_x,test_y):\n",
    "    print(\"\\n\\n---------------- Decision Tree Classifier Algorithm ----------------\\n\")\n",
    "    print(\"------------ HYPERPARAMETER TUNNING ------------\\n\")\n",
    "    parameter = {'criterion': [\"gini\", \"entropy\"], 'max_depth': [5, 8, 10, 20,None], 'random_state' : [2, 4, 10, 50] }\n",
    "    seed = 4\n",
    "    D_Tre = DecisionTreeClassifier()\n",
    "    kflod = KFold( n_splits = 10, random_state = seed )\n",
    "    grid = GridSearchCV( estimator = D_Tre, param_grid = parameter, scoring = 'accuracy', cv = kflod )\n",
    "    grid_result = grid.fit(train_x, train_y)\n",
    "    print('Best Parameter : ',grid_result.best_params_, 'with score : ', grid_result.best_score_)\n",
    "    \n",
    "    print(\"\\n---------- Model with parameter tunning ---------\\n\")\n",
    "    p = [x for x in grid_result.best_params_.values()]\n",
    "    D_Tre = DecisionTreeClassifier( criterion = p[0] , max_depth = p[1] , random_state = p[2] )\n",
    "    print(f\"Model is Ready :\")\n",
    "    print(D_Tre)\n",
    "    D_Tre.fit(train_x,train_y)\n",
    "    DTPred = D_Tre.predict(test_x)\n",
    "    print(\"\\nScore of the Model is \",D_Tre.score(train_x , train_y))\n",
    "    DT_as = metrics.accuracy_score( test_y , DTPred )\n",
    "    return D_Tre,DTPred,DT_as\n",
    "    "
   ]
  },
  {
   "cell_type": "markdown",
   "metadata": {},
   "source": [
    "# Function for ID3 Classifier Model"
   ]
  },
  {
   "cell_type": "code",
   "execution_count": 31,
   "metadata": {},
   "outputs": [],
   "source": [
    "def ID3_Classifier(train_x,train_y,test_x,test_y):\n",
    "    print(\"\\n\\n---------------- ID3 Classifier Algorithm ---------------- \\n\")\n",
    "    estimator = Id3Estimator()\n",
    "    print(f\"Model is Ready :\")\n",
    "    print(estimator)\n",
    "    ID3_DT = estimator.fit(train_x,train_y)\n",
    "    ID3Pred = ID3_DT.predict( test_x )\n",
    "    ID3_as = metrics.accuracy_score(test_y , ID3Pred)\n",
    "    print(\"\\nScore of the Model is \",ID3_as)\n",
    "    return ID3_DT,ID3Pred,ID3_as\n"
   ]
  },
  {
   "cell_type": "markdown",
   "metadata": {},
   "source": [
    "# Function for Random Forest Model"
   ]
  },
  {
   "cell_type": "code",
   "execution_count": 32,
   "metadata": {},
   "outputs": [],
   "source": [
    "def Random_Forest_classifier(train_x,train_y,test_x,test_y):\n",
    "    print(\"\\n\\n---------------- Random Forest Algorithm ----------------\\n\")\n",
    "    print(\"------------ HYPERPARAMETER TUNNING ------------\\n\")\n",
    "    parameter = {'criterion': [\"gini\", \"entropy\"], 'max_depth': [5, 8, 10, 20,None], 'random_state' : [2, 4, 10, 50] }\n",
    "    \n",
    "    seed = 4\n",
    "    RF_class = RandomForestClassifier()\n",
    "    kflod = KFold( n_splits = 10, random_state = seed )\n",
    "    grid = GridSearchCV( estimator = RF_class, param_grid = parameter, scoring = 'accuracy', cv = kflod)\n",
    "    grid_result = grid.fit(train_x, train_y)\n",
    "    print('Best Parameter : ',grid_result.best_params_, 'with score : ', grid_result.best_score_)\n",
    "    \n",
    "    print(\"\\n---------- Model with parameter tunning ---------\\n\")\n",
    "    p = [x for x in grid_result.best_params_.values()]\n",
    "    RF_class = RandomForestClassifier( criterion = p[0] , max_depth = p[1] , random_state = p[2] )\n",
    "    print(f\"Model is Ready :\")\n",
    "    print(RF_class)\n",
    "    RF_class.fit(train_x , train_y)\n",
    "    RFCPred = RF_class.predict(test_x)\n",
    "    print(\"\\nScore of the Model is \",RF_class.score(train_x , train_y))\n",
    "    RFC_as = metrics.accuracy_score(test_y, RFCPred)\n",
    "    return RF_class,RFCPred,RFC_as"
   ]
  },
  {
   "cell_type": "markdown",
   "metadata": {},
   "source": [
    "# Function for Naive Bayes Model"
   ]
  },
  {
   "cell_type": "code",
   "execution_count": 33,
   "metadata": {},
   "outputs": [],
   "source": [
    "def Naive_Bayes_Classifier(train_x,train_y,test_x,test_y):\n",
    "    print(\"\\n\\n---------------- Naive Bayes Algorithm ----------------\\n\")\n",
    "    print(\"Bernoulli Naive Bayes Classifier used because this is a binary classififcation problem!\\n\")\n",
    "    BNB_class = BernoulliNB()\n",
    "    print(f\"Model is Ready : \")\n",
    "    print(BNB_class)\n",
    "    BNB_class.fit(train_x , train_y)\n",
    "    BNBPred = BNB_class.predict(test_x)\n",
    "    print(\"\\nScore of the Model is \",BNB_class.score(train_x , train_y))\n",
    "    BNB_as = metrics.accuracy_score( test_y , BNBPred)\n",
    "    return BNB_class,BNBPred,BNB_as"
   ]
  },
  {
   "cell_type": "markdown",
   "metadata": {},
   "source": [
    "# Function for Support Vector Machine Model"
   ]
  },
  {
   "cell_type": "code",
   "execution_count": 34,
   "metadata": {},
   "outputs": [],
   "source": [
    "def Support_Vector_Machine(train_x,train_y,test_x,test_y):\n",
    "    print(\"\\n---------------- Support Vector Machine Algorithm ----------------\\n\")\n",
    "    SVM = svm.SVC(kernel = 'rbf')\n",
    "    print(f\"Model is Ready :\")\n",
    "    print(SVM)\n",
    "    SVM.fit(train_x , train_y)\n",
    "    SVMPred = SVM.predict(test_x)\n",
    "    print(\"\\nScore of the Model is \",SVM.score(train_x , train_y))\n",
    "    SVM_as = metrics.accuracy_score( test_y , SVMPred )\n",
    "    return SVM,SVMPred,SVM_as\n",
    "    "
   ]
  },
  {
   "cell_type": "code",
   "execution_count": null,
   "metadata": {},
   "outputs": [],
   "source": []
  },
  {
   "cell_type": "markdown",
   "metadata": {},
   "source": [
    "# Main Function"
   ]
  },
  {
   "cell_type": "code",
   "execution_count": 35,
   "metadata": {},
   "outputs": [],
   "source": [
    "def main():\n",
    "    # Dataset is imported\n",
    "    Data = Import_data()\n",
    "    print(\"\\n---------------- Some Enteries of Data ----------------\\n\")\n",
    "    print(Data.head())\n",
    "    \n",
    "    # Features information, statistical information and Null Values in Data set\n",
    "    Data_info(Data)\n",
    "    \n",
    "    # Categorical and Numerical/Continous valued features separation\n",
    "    continous_features , categorical_features = feature_separation(Data.loc[:,Data.columns!='y'])\n",
    "    \n",
    "    # Visualization\n",
    "    EDA(Data)\n",
    "    \n",
    "    # Modeling on Continous Features\n",
    "    print(\"\\n\\n\\n---------------- Applying Classification Algorithms on Only Continous Valued features ----------------\\n\")\n",
    "    \n",
    "    print(\"\\n---------------- Data Preprocessing ----------------\\n\")\n",
    "    \n",
    "    print(\"\\nFeature selection is done by ANOVA method because features are continues valued and target is categorical valued.\\n\")\n",
    "    largest_feature_score_df, x = Data_Preprocessing(continous_features,Data['y'],f_classif,7)\n",
    "    \n",
    "    print(f\"\\n---------------- Top 7 features ----------------\\n\")\n",
    "    print(largest_feature_score_df)\n",
    "    \n",
    "    print(\"\\n---------------- Some Value of x for Dataset ----------------\\n\")\n",
    "    print(x[0:5])\n",
    "    \n",
    "    y = Categorical_feature_encoding(Data['y'].to_frame())\n",
    "    y = y.values\n",
    "    print(\"\\n---------------- Some Value of y for Dataset ----------------\\n\")\n",
    "    print(y[0:5])\n",
    "    \n",
    "    train_x, test_x , train_y, test_y = Data_split(x,y)\n",
    "    print(\"\\n---------------- Size of Train and Test set ----------------\\n\")\n",
    "    print( f\"Size of train_x : {train_x .shape} and test_x : {test_x .shape}\" )\n",
    "    print( f\"Size of train_y : {train_y .shape} and test_y : {test_y .shape}\" )\n",
    "    \n",
    "    Logestic_Reg,LRPred,LR_as = Logestic_Regression(train_x,train_y,test_x,test_y)\n",
    "    KNN_as = KNN_classifier(train_x,train_y,test_x,test_y)\n",
    "    D_Tre,DTPred,DT_as = Decision_Tree_classifier(train_x,train_y,test_x,test_y)\n",
    "    ID3_DT,ID3Pred,ID3_as = ID3_Classifier(train_x,train_y,test_x,test_y)\n",
    "    RF_class,RFCPred,RFC_as = Random_Forest_classifier(train_x,train_y,test_x,test_y)\n",
    "    BNB_class,BNBPred,BNB_as = Naive_Bayes_Classifier(train_x,train_y,test_x,test_y)\n",
    "    SVM,SVMPred,SVM_as = Support_Vector_Machine(train_x,train_y,test_x,test_y)\n",
    "    \n",
    "    cof_model_scores = pd.DataFrame([LR_as*100, KNN_as*100, DT_as*100, ID3_as*100, SVM_as*100, RFC_as*100, BNB_as*100], \n",
    "                      index=['Logistic Regression Model', 'KNN Model', 'Decision Tree Model ', 'ID3 Estimator', \n",
    "                             'Support Vector Machine', 'Random Forest Classifier', 'Bernoulli Naive Bayes'],\n",
    "                      columns=['Accuracy Score'])\n",
    "    print(\"\\n---------------- Accuracy Scores of Continous valued features ----------------\\n\")\n",
    "    print(cof_model_scores)\n",
    "    \n",
    "    \n",
    "    \n",
    "    # Modeling on Categorical Features\n",
    "    print(\"\\n\\n\\n---------------- Applying Classification Algorithms on Only Categorical Valued features ----------------\\n\")\n",
    "    \n",
    "    print(\"\\n---------------- Data Preprocessing ----------------\\n\")\n",
    "    \n",
    "    print(\"\\nCategorical Features of this Data has null values as unkonow. So first we handel Missing values.\\n\")\n",
    "    categorical_features = Null_value_handler(categorical_features)\n",
    "    categorical_features = Categorical_feature_encoding(categorical_features)\n",
    "    \n",
    "    print(\"\\nFeature selection is done by chi square method because features and target both are categorical valued.\\n\")\n",
    "    largest_feature_score_df,x = Data_Preprocessing(categorical_features,Data['y'],chi2,4)\n",
    "    \n",
    "    print(f\"\\n---------------- Top 4 features ----------------\\n\")\n",
    "    print(largest_feature_score_df)\n",
    "    \n",
    "    print(\"\\n---------------- Some Value of x for Dataset ----------------\\n\")\n",
    "    print(x[0:5])\n",
    "    \n",
    "    print(\"\\n---------------- Some Value of y for Dataset ----------------\\n\")\n",
    "    print(y[0:5])\n",
    "    \n",
    "    train_x, test_x , train_y, test_y = Data_split(x,y)\n",
    "    print(\"\\n---------------- Size of Train and Test set ----------------\\n\")\n",
    "    print( f\"Size of train_x : {train_x .shape} and test_x : {test_x .shape}\" )\n",
    "    print( f\"Size of train_y : {train_y .shape} and test_y : {test_y .shape}\" )\n",
    "    \n",
    "    Logestic_Reg,LRPred,lr_as = Logestic_Regression(train_x,train_y,test_x,test_y)\n",
    "    knn_as = KNN_classifier(train_x,train_y,test_x,test_y)\n",
    "    D_Tre,DTPred,dt_as = Decision_Tree_classifier(train_x,train_y,test_x,test_y)\n",
    "    ID3_DT,ID3Pred,idt_as = ID3_Classifier(train_x,train_y,test_x,test_y)\n",
    "    RF_class,RFCPred,rfc_as = Random_Forest_classifier(train_x,train_y,test_x,test_y)\n",
    "    BNB_class,BNBPred,bnb_as = Naive_Bayes_Classifier(train_x,train_y,test_x,test_y)\n",
    "    SVM,SVMPred,svm_as = Support_Vector_Machine(train_x,train_y,test_x,test_y)\n",
    "    \n",
    "    caf_model_scores = pd.DataFrame([lr_as*100, knn_as*100, dt_as*100, idt_as*100, svm_as*100, rfc_as*100, bnb_as*100], \n",
    "                      index=['Logistic Regression Model', 'KNN Model', 'Decision Tree Model ', 'ID3 Estimator', \n",
    "                             'Support Vector Machine', 'Random Forest Classifier', 'Bernoulli Naive Bayes'],\n",
    "                      columns=['Accuracy Score'])\n",
    "    print(\"\\n---------------- Accuracy Scores of Categorical valued features ----------------\\n\")\n",
    "    print(caf_model_scores)\n",
    "    \n",
    "    \n",
    "    \n",
    "    # Modeling on Continous and Categorical Valued Features\n",
    "    print(\"\\n\\n\\n---------------- Applying Classification Algorithms on both Continous and Categorical Valued features ----------------\\n\")\n",
    "    \n",
    "    print(\"\\n---------------- Data Preprocessing ----------------\\n\")\n",
    "    \n",
    "    Features = pd.concat([continous_features , categorical_features], axis=1, sort = True)\n",
    "    \n",
    "    print(\"\\nFeature selection is done by ANOVA method because features are continues & categorical valued and target is categorical valued.\\n\")\n",
    "    largest_feature_score_df,x = Data_Preprocessing( Features, Data['y'], f_classif, 10)\n",
    "    \n",
    "    print(f\"\\n---------------- Top 10 features ----------------\\n\")\n",
    "    print(largest_feature_score_df)\n",
    "\n",
    "    print(\"\\n---------------- Some Value of x for Dataset ----------------\\n\")\n",
    "    print(x[0:5])\n",
    "    \n",
    "    print(\"\\n----------------Some Value of y for Dataset----------------\\n\")\n",
    "    print(y[0:5])\n",
    "    \n",
    "    train_x, test_x , train_y, test_y = Data_split(x,y)\n",
    "    print(\"\\n----------------Size of Train and Test set----------------\\n\")\n",
    "    print( f\"Size of train_x : {train_x .shape} and test_x : {test_x .shape}\" )\n",
    "    print( f\"Size of train_y : {train_y .shape} and test_y : {test_y .shape}\" )\n",
    "    \n",
    "    \n",
    "    Logestic_Reg,LRPred,lras = Logestic_Regression(train_x,train_y,test_x,test_y)\n",
    "    knnas = KNN_classifier(train_x,train_y,test_x,test_y)\n",
    "    D_Tre,DTPred,dtas = Decision_Tree_classifier(train_x,train_y,test_x,test_y)\n",
    "    ID3_DT,ID3Pred,idtas = ID3_Classifier(train_x,train_y,test_x,test_y)\n",
    "    RF_class,RFCPred,rfcas = Random_Forest_classifier(train_x,train_y,test_x,test_y)\n",
    "    BNB_class,BNBPred,bnbas = Naive_Bayes_Classifier(train_x,train_y,test_x,test_y)\n",
    "    SVM,SVMPred,svmas = Support_Vector_Machine(train_x,train_y,test_x,test_y)\n",
    "    \n",
    "    ccf_model_scores = pd.DataFrame([lras*100, knnas*100, dtas*100, idtas*100, svmas*100, rfcas*100, bnbas*100], \n",
    "                      index=['Logistic Regression Model', 'KNN Model', 'Decision Tree Model ', 'ID3 Estimator', \n",
    "                             'Support Vector Machine', 'Random Forest Classifier', 'Bernoulli Naive Bayes'],\n",
    "                      columns=['Accuracy Score'])\n",
    "    print(\"\\n---------------- Accuracy Scores of both Continous and Categorical valued features ----------------\\n\")\n",
    "    print(ccf_model_scores)\n",
    "    \n",
    "    \n",
    "    print(\"\\n\\n--------------- Acuracy Score Comparison ---------------\\n\")\n",
    "    df = pd.concat([cof_model_scores,caf_model_scores,ccf_model_scores],axis=1)\n",
    "    df.columns=['Continous Features','Categorical Features','Both Continuous and Categorical Features']\n",
    "    print(df)\n",
    "    "
   ]
  },
  {
   "cell_type": "markdown",
   "metadata": {},
   "source": [
    "# Calling main function"
   ]
  },
  {
   "cell_type": "code",
   "execution_count": 36,
   "metadata": {},
   "outputs": [
    {
     "name": "stdout",
     "output_type": "stream",
     "text": [
      "--------------- Pandas package is used to read the Dataset ---------------\n",
      "Number of rows are 41188. \n",
      "Number of Columns are 21.\n",
      "\n",
      "---------------- Some Enteries of Data ----------------\n",
      "\n",
      "   age        job  marital    education  default housing loan    contact  \\\n",
      "0   56  housemaid  married     basic.4y       no      no   no  telephone   \n",
      "1   57   services  married  high.school  unknown      no   no  telephone   \n",
      "2   37   services  married  high.school       no     yes   no  telephone   \n",
      "3   40     admin.  married     basic.6y       no      no   no  telephone   \n",
      "4   56   services  married  high.school       no      no  yes  telephone   \n",
      "\n",
      "  month day_of_week  ...  campaign  pdays  previous     poutcome emp.var.rate  \\\n",
      "0   may         mon  ...         1    999         0  nonexistent          1.1   \n",
      "1   may         mon  ...         1    999         0  nonexistent          1.1   \n",
      "2   may         mon  ...         1    999         0  nonexistent          1.1   \n",
      "3   may         mon  ...         1    999         0  nonexistent          1.1   \n",
      "4   may         mon  ...         1    999         0  nonexistent          1.1   \n",
      "\n",
      "   cons.price.idx  cons.conf.idx  euribor3m  nr.employed   y  \n",
      "0          93.994          -36.4      4.857       5191.0  no  \n",
      "1          93.994          -36.4      4.857       5191.0  no  \n",
      "2          93.994          -36.4      4.857       5191.0  no  \n",
      "3          93.994          -36.4      4.857       5191.0  no  \n",
      "4          93.994          -36.4      4.857       5191.0  no  \n",
      "\n",
      "[5 rows x 21 columns]\n",
      "\n",
      "\n",
      "---------------- Information about columns of Dataset ----------------\n",
      "\n",
      "<class 'pandas.core.frame.DataFrame'>\n",
      "RangeIndex: 41188 entries, 0 to 41187\n",
      "Data columns (total 21 columns):\n",
      " #   Column          Non-Null Count  Dtype  \n",
      "---  ------          --------------  -----  \n",
      " 0   age             41188 non-null  int64  \n",
      " 1   job             41188 non-null  object \n",
      " 2   marital         41188 non-null  object \n",
      " 3   education       41188 non-null  object \n",
      " 4   default         41188 non-null  object \n",
      " 5   housing         41188 non-null  object \n",
      " 6   loan            41188 non-null  object \n",
      " 7   contact         41188 non-null  object \n",
      " 8   month           41188 non-null  object \n",
      " 9   day_of_week     41188 non-null  object \n",
      " 10  duration        41188 non-null  int64  \n",
      " 11  campaign        41188 non-null  int64  \n",
      " 12  pdays           41188 non-null  int64  \n",
      " 13  previous        41188 non-null  int64  \n",
      " 14  poutcome        41188 non-null  object \n",
      " 15  emp.var.rate    41188 non-null  float64\n",
      " 16  cons.price.idx  41188 non-null  float64\n",
      " 17  cons.conf.idx   41188 non-null  float64\n",
      " 18  euribor3m       41188 non-null  float64\n",
      " 19  nr.employed     41188 non-null  float64\n",
      " 20  y               41188 non-null  object \n",
      "dtypes: float64(5), int64(5), object(11)\n",
      "memory usage: 6.6+ MB\n",
      "None\n",
      "\n",
      "---------------- Statistical Information of the Data set ----------------\n",
      "\n",
      "               age      duration      campaign         pdays      previous  \\\n",
      "count  41188.00000  41188.000000  41188.000000  41188.000000  41188.000000   \n",
      "mean      40.02406    258.285010      2.567593    962.475454      0.172963   \n",
      "std       10.42125    259.279249      2.770014    186.910907      0.494901   \n",
      "min       17.00000      0.000000      1.000000      0.000000      0.000000   \n",
      "25%       32.00000    102.000000      1.000000    999.000000      0.000000   \n",
      "50%       38.00000    180.000000      2.000000    999.000000      0.000000   \n",
      "75%       47.00000    319.000000      3.000000    999.000000      0.000000   \n",
      "max       98.00000   4918.000000     56.000000    999.000000      7.000000   \n",
      "\n",
      "       emp.var.rate  cons.price.idx  cons.conf.idx     euribor3m   nr.employed  \n",
      "count  41188.000000    41188.000000   41188.000000  41188.000000  41188.000000  \n",
      "mean       0.081886       93.575664     -40.502600      3.621291   5167.035911  \n",
      "std        1.570960        0.578840       4.628198      1.734447     72.251528  \n",
      "min       -3.400000       92.201000     -50.800000      0.634000   4963.600000  \n",
      "25%       -1.800000       93.075000     -42.700000      1.344000   5099.100000  \n",
      "50%        1.100000       93.749000     -41.800000      4.857000   5191.000000  \n",
      "75%        1.400000       93.994000     -36.400000      4.961000   5228.100000  \n",
      "max        1.400000       94.767000     -26.900000      5.045000   5228.100000  \n",
      "\n",
      "---------------- Now we check Null Values in each columns ----------------\n",
      "\n",
      "age               0\n",
      "job               0\n",
      "marital           0\n",
      "education         0\n",
      "default           0\n",
      "housing           0\n",
      "loan              0\n",
      "contact           0\n",
      "month             0\n",
      "day_of_week       0\n",
      "duration          0\n",
      "campaign          0\n",
      "pdays             0\n",
      "previous          0\n",
      "poutcome          0\n",
      "emp.var.rate      0\n",
      "cons.price.idx    0\n",
      "cons.conf.idx     0\n",
      "euribor3m         0\n",
      "nr.employed       0\n",
      "y                 0\n",
      "dtype: int64\n",
      "\n",
      "\n",
      "---------------- Correlation between continuous valued features ----------------\n",
      "\n"
     ]
    },
    {
     "data": {
      "image/png": "[encoded data removed]",
      "text/plain": [
       "<Figure size 720x720 with 2 Axes>"
      ]
     },
     "metadata": {
      "needs_background": "light"
     },
     "output_type": "display_data"
    },
    {
     "name": "stdout",
     "output_type": "stream",
     "text": [
      "\n",
      "---------------- Histogram ----------------\n",
      "\n"
     ]
    },
    {
     "data": {
      "image/png": "[encoded data removed]",
      "text/plain": [
       "<Figure size 720x720 with 12 Axes>"
      ]
     },
     "metadata": {
      "needs_background": "light"
     },
     "output_type": "display_data"
    },
    {
     "name": "stdout",
     "output_type": "stream",
     "text": [
      "\n",
      "---------------- Boxplot ----------------\n",
      "\n"
     ]
    },
    {
     "data": {
      "image/png": "[encoded data removed]",
      "text/plain": [
       "<Figure size 720x1080 with 12 Axes>"
      ]
     },
     "metadata": {
      "needs_background": "light"
     },
     "output_type": "display_data"
    },
    {
     "name": "stdout",
     "output_type": "stream",
     "text": [
      "\n",
      "---------------- Count Plot of target feature ----------------\n",
      "\n"
     ]
    },
    {
     "data": {
      "image/png": "[encoded data removed]",
      "text/plain": [
       "<Figure size 432x288 with 1 Axes>"
      ]
     },
     "metadata": {
      "needs_background": "light"
     },
     "output_type": "display_data"
    },
    {
     "name": "stdout",
     "output_type": "stream",
     "text": [
      "\n",
      "---------------- Count Plot of Education w.r.t target feature ----------------\n",
      "\n"
     ]
    },
    {
     "data": {
      "image/png": "[encoded data removed]",
      "text/plain": [
       "<Figure size 1080x360 with 1 Axes>"
      ]
     },
     "metadata": {
      "needs_background": "light"
     },
     "output_type": "display_data"
    },
    {
     "name": "stdout",
     "output_type": "stream",
     "text": [
      "\n",
      "---------------- Count Plot of Housing w.r.t target feature ----------------\n",
      "\n"
     ]
    },
    {
     "data": {
      "image/png": "[encoded data removed]",
      "text/plain": [
       "<Figure size 432x360 with 1 Axes>"
      ]
     },
     "metadata": {
      "needs_background": "light"
     },
     "output_type": "display_data"
    },
    {
     "name": "stdout",
     "output_type": "stream",
     "text": [
      "\n",
      "---------------- Count Plot of Job w.r.t target feature ----------------\n",
      "\n"
     ]
    },
    {
     "data": {
      "image/png": "[encoded data removed]",
      "text/plain": [
       "<Figure size 1296x360 with 1 Axes>"
      ]
     },
     "metadata": {
      "needs_background": "light"
     },
     "output_type": "display_data"
    },
    {
     "name": "stdout",
     "output_type": "stream",
     "text": [
      "\n",
      "---------------- Count Plot of Loan w.r.t target feature ----------------\n",
      "\n"
     ]
    },
    {
     "data": {
      "image/png": "[encoded data removed]",
      "text/plain": [
       "<Figure size 432x360 with 1 Axes>"
      ]
     },
     "metadata": {
      "needs_background": "light"
     },
     "output_type": "display_data"
    },
    {
     "name": "stdout",
     "output_type": "stream",
     "text": [
      "\n",
      "---------------- Count Plot of Contact w.r.t target feature ----------------\n",
      "\n"
     ]
    },
    {
     "data": {
      "image/png": "[encoded data removed]",
      "text/plain": [
       "<Figure size 432x360 with 1 Axes>"
      ]
     },
     "metadata": {
      "needs_background": "light"
     },
     "output_type": "display_data"
    },
    {
     "name": "stdout",
     "output_type": "stream",
     "text": [
      "\n",
      "\n",
      "\n",
      "---------------- Applying Classification Algorithms on Only Continous Valued features ----------------\n",
      "\n",
      "\n",
      "---------------- Data Preprocessing ----------------\n",
      "\n",
      "\n",
      "Feature selection is done by ANOVA method because features are continues valued and target is categorical valued.\n",
      "\n",
      "\n",
      "---------------- Top 7 features ----------------\n",
      "\n",
      "         Features        Score\n",
      "1        duration  8094.101634\n",
      "9     nr.employed  5926.610601\n",
      "3           pdays  4861.173272\n",
      "8       euribor3m  4309.479048\n",
      "5    emp.var.rate  4023.829925\n",
      "4        previous  2304.257088\n",
      "6  cons.price.idx   778.589795\n",
      "\n",
      "---------------- Some Value of x for Dataset ----------------\n",
      "\n",
      "[[ 0.37327189  0.          0.          0.          0.          0.\n",
      "   0.26659412]\n",
      " [-0.14285714  0.          0.          0.          0.          0.\n",
      "   0.26659412]\n",
      " [ 0.21198157  0.          0.          0.          0.          0.\n",
      "   0.26659412]\n",
      " [-0.13364055  0.          0.          0.          0.          0.\n",
      "   0.26659412]\n",
      " [ 0.58525346  0.          0.          0.          0.          0.\n",
      "   0.26659412]]\n",
      "\n",
      "---------------- Some Value of y for Dataset ----------------\n",
      "\n",
      "[[0]\n",
      " [0]\n",
      " [0]\n",
      " [0]\n",
      " [0]]\n",
      "\n",
      "---------------- Size of Train and Test set ----------------\n",
      "\n",
      "Size of train_x : (32950, 7) and test_x : (8238, 7)\n",
      "Size of train_y : (32950, 1) and test_y : (8238, 1)\n",
      "\n",
      "\n",
      "---------------- Logestic Regression Algorithm ----------------\n",
      "\n",
      "Model is Ready :\n",
      "LogisticRegression(C=0.01, class_weight=None, dual=False, fit_intercept=True,\n",
      "                   intercept_scaling=1, l1_ratio=None, max_iter=100,\n",
      "                   multi_class='auto', n_jobs=None, penalty='l2',\n",
      "                   random_state=None, solver='liblinear', tol=0.0001, verbose=0,\n",
      "                   warm_start=False)\n",
      "\n",
      "Score of the Model is  0.9079210925644916\n",
      "\n",
      "\n",
      "\n",
      "---------------- K-Nearest Neighbour Algorithm ----------------\n",
      "\n"
     ]
    },
    {
     "data": {
      "image/png": "[encoded data removed]",
      "text/plain": [
       "<Figure size 432x288 with 1 Axes>"
      ]
     },
     "metadata": {
      "needs_background": "light"
     },
     "output_type": "display_data"
    },
    {
     "name": "stdout",
     "output_type": "stream",
     "text": [
      "\n",
      "The best accuracy is 0.9067734887108522 with k = 9\n",
      "\n",
      "\n",
      "---------------- Decision Tree Classifier Algorithm ----------------\n",
      "\n",
      "------------ HYPERPARAMETER TUNNING ------------\n",
      "\n",
      "Best Parameter :  {'criterion': 'gini', 'max_depth': 5, 'random_state': 2} with score :  0.9129893778452199\n",
      "\n",
      "---------- Model with parameter tunning ---------\n",
      "\n",
      "Model is Ready :\n",
      "DecisionTreeClassifier(ccp_alpha=0.0, class_weight=None, criterion='gini',\n",
      "                       max_depth=5, max_features=None, max_leaf_nodes=None,\n",
      "                       min_impurity_decrease=0.0, min_impurity_split=None,\n",
      "                       min_samples_leaf=1, min_samples_split=2,\n",
      "                       min_weight_fraction_leaf=0.0, presort='deprecated',\n",
      "                       random_state=2, splitter='best')\n",
      "\n",
      "Score of the Model is  0.9167223065250379\n",
      "\n",
      "\n",
      "---------------- ID3 Classifier Algorithm ---------------- \n",
      "\n",
      "Model is Ready :\n",
      "Id3Estimator(gain_ratio=False, is_repeating=False, max_depth=None,\n",
      "             min_entropy_decrease=0.0, min_samples_split=2, prune=False)\n",
      "\n",
      "Score of the Model is  0.9059237679048313\n",
      "\n",
      "\n",
      "---------------- Random Forest Algorithm ----------------\n",
      "\n",
      "------------ HYPERPARAMETER TUNNING ------------\n",
      "\n",
      "Best Parameter :  {'criterion': 'entropy', 'max_depth': 10, 'random_state': 2} with score :  0.9167223065250379\n",
      "\n",
      "---------- Model with parameter tunning ---------\n",
      "\n",
      "Model is Ready :\n",
      "RandomForestClassifier(bootstrap=True, ccp_alpha=0.0, class_weight=None,\n",
      "                       criterion='entropy', max_depth=10, max_features='auto',\n",
      "                       max_leaf_nodes=None, max_samples=None,\n",
      "                       min_impurity_decrease=0.0, min_impurity_split=None,\n",
      "                       min_samples_leaf=1, min_samples_split=2,\n",
      "                       min_weight_fraction_leaf=0.0, n_estimators=100,\n",
      "                       n_jobs=None, oob_score=False, random_state=2, verbose=0,\n",
      "                       warm_start=False)\n",
      "\n",
      "Score of the Model is  0.9350227617602428\n",
      "\n",
      "\n",
      "---------------- Naive Bayes Algorithm ----------------\n",
      "\n",
      "Bernoulli Naive Bayes Classifier used because this is a binary classififcation problem!\n",
      "\n",
      "Model is Ready : \n",
      "BernoulliNB(alpha=1.0, binarize=0.0, class_prior=None, fit_prior=True)\n",
      "\n",
      "Score of the Model is  0.8790288315629742\n",
      "\n",
      "---------------- Support Vector Machine Algorithm ----------------\n",
      "\n",
      "Model is Ready :\n",
      "SVC(C=1.0, break_ties=False, cache_size=200, class_weight=None, coef0=0.0,\n",
      "    decision_function_shape='ovr', degree=3, gamma='scale', kernel='rbf',\n",
      "    max_iter=-1, probability=False, random_state=None, shrinking=True,\n",
      "    tol=0.001, verbose=False)\n",
      "\n",
      "Score of the Model is  0.8974506828528073\n",
      "\n",
      "---------------- Accuracy Scores of Continous valued features ----------------\n",
      "\n",
      "                           Accuracy Score\n",
      "Logistic Regression Model       90.434571\n",
      "KNN Model                       90.677349\n",
      "Decision Tree Model             91.296431\n",
      "ID3 Estimator                   90.592377\n",
      "Support Vector Machine          89.779073\n",
      "Random Forest Classifier        91.697014\n",
      "Bernoulli Naive Bayes           88.116048\n",
      "\n",
      "\n",
      "\n",
      "---------------- Applying Classification Algorithms on Only Categorical Valued features ----------------\n",
      "\n",
      "\n",
      "---------------- Data Preprocessing ----------------\n",
      "\n",
      "\n",
      "Categorical Features of this Data has null values as unkonow. So first we handel Missing values.\n",
      "\n",
      "--------------- Missing Values Handled ---------------\n",
      "\n",
      "\n",
      "Feature selection is done by chi square method because features and target both are categorical valued.\n",
      "\n",
      "\n",
      "---------------- Top 4 features ----------------\n",
      "\n",
      "    Features       Score\n",
      "6    contact  547.958309\n",
      "2  education  157.908817\n",
      "9   poutcome   98.231174\n",
      "0        job   92.665165\n",
      "\n",
      "---------------- Some Value of x for Dataset ----------------\n",
      "\n",
      "[[ 1.         -0.75        0.          0.14285714]\n",
      " [ 1.          0.          0.          0.71428571]\n",
      " [ 1.          0.          0.          0.71428571]\n",
      " [ 1.         -0.5         0.         -0.28571429]\n",
      " [ 1.          0.          0.          0.71428571]]\n",
      "\n",
      "---------------- Some Value of y for Dataset ----------------\n",
      "\n",
      "[[0]\n",
      " [0]\n",
      " [0]\n",
      " [0]\n",
      " [0]]\n",
      "\n",
      "---------------- Size of Train and Test set ----------------\n",
      "\n",
      "Size of train_x : (32950, 4) and test_x : (8238, 4)\n",
      "Size of train_y : (32950, 1) and test_y : (8238, 1)\n",
      "\n",
      "\n",
      "---------------- Logestic Regression Algorithm ----------------\n",
      "\n",
      "Model is Ready :\n",
      "LogisticRegression(C=0.01, class_weight=None, dual=False, fit_intercept=True,\n",
      "                   intercept_scaling=1, l1_ratio=None, max_iter=100,\n",
      "                   multi_class='auto', n_jobs=None, penalty='l2',\n",
      "                   random_state=None, solver='liblinear', tol=0.0001, verbose=0,\n",
      "                   warm_start=False)\n",
      "\n",
      "Score of the Model is  0.8874051593323217\n",
      "\n",
      "\n",
      "\n",
      "---------------- K-Nearest Neighbour Algorithm ----------------\n",
      "\n"
     ]
    },
    {
     "data": {
      "image/png": "[encoded data removed]",
      "text/plain": [
       "<Figure size 432x288 with 1 Axes>"
      ]
     },
     "metadata": {
      "needs_background": "light"
     },
     "output_type": "display_data"
    },
    {
     "name": "stdout",
     "output_type": "stream",
     "text": [
      "\n",
      "The best accuracy is 0.8970623937848993 with k = 10\n",
      "\n",
      "\n",
      "---------------- Decision Tree Classifier Algorithm ----------------\n",
      "\n",
      "------------ HYPERPARAMETER TUNNING ------------\n",
      "\n",
      "Best Parameter :  {'criterion': 'gini', 'max_depth': 5, 'random_state': 2} with score :  0.8974810318664643\n",
      "\n",
      "---------- Model with parameter tunning ---------\n",
      "\n",
      "Model is Ready :\n",
      "DecisionTreeClassifier(ccp_alpha=0.0, class_weight=None, criterion='gini',\n",
      "                       max_depth=5, max_features=None, max_leaf_nodes=None,\n",
      "                       min_impurity_decrease=0.0, min_impurity_split=None,\n",
      "                       min_samples_leaf=1, min_samples_split=2,\n",
      "                       min_weight_fraction_leaf=0.0, presort='deprecated',\n",
      "                       random_state=2, splitter='best')\n",
      "\n",
      "Score of the Model is  0.8978755690440061\n",
      "\n",
      "\n",
      "---------------- ID3 Classifier Algorithm ---------------- \n",
      "\n",
      "Model is Ready :\n",
      "Id3Estimator(gain_ratio=False, is_repeating=False, max_depth=None,\n",
      "             min_entropy_decrease=0.0, min_samples_split=2, prune=False)\n",
      "\n",
      "Score of the Model is  0.8977907259043457\n",
      "\n",
      "\n",
      "---------------- Random Forest Algorithm ----------------\n",
      "\n",
      "------------ HYPERPARAMETER TUNNING ------------\n",
      "\n",
      "Best Parameter :  {'criterion': 'gini', 'max_depth': 5, 'random_state': 2} with score :  0.8975417298937783\n",
      "\n",
      "---------- Model with parameter tunning ---------\n",
      "\n",
      "Model is Ready :\n",
      "RandomForestClassifier(bootstrap=True, ccp_alpha=0.0, class_weight=None,\n",
      "                       criterion='gini', max_depth=5, max_features='auto',\n",
      "                       max_leaf_nodes=None, max_samples=None,\n",
      "                       min_impurity_decrease=0.0, min_impurity_split=None,\n",
      "                       min_samples_leaf=1, min_samples_split=2,\n",
      "                       min_weight_fraction_leaf=0.0, n_estimators=100,\n",
      "                       n_jobs=None, oob_score=False, random_state=2, verbose=0,\n",
      "                       warm_start=False)\n",
      "\n",
      "Score of the Model is  0.8977845220030349\n",
      "\n",
      "\n",
      "---------------- Naive Bayes Algorithm ----------------\n",
      "\n",
      "Bernoulli Naive Bayes Classifier used because this is a binary classififcation problem!\n",
      "\n",
      "Model is Ready : \n",
      "BernoulliNB(alpha=1.0, binarize=0.0, class_prior=None, fit_prior=True)\n",
      "\n",
      "Score of the Model is  0.8967223065250379\n",
      "\n",
      "---------------- Support Vector Machine Algorithm ----------------\n",
      "\n",
      "Model is Ready :\n",
      "SVC(C=1.0, break_ties=False, cache_size=200, class_weight=None, coef0=0.0,\n",
      "    decision_function_shape='ovr', degree=3, gamma='scale', kernel='rbf',\n",
      "    max_iter=-1, probability=False, random_state=None, shrinking=True,\n",
      "    tol=0.001, verbose=False)\n",
      "\n",
      "Score of the Model is  0.8973899848254931\n",
      "\n",
      "---------------- Accuracy Scores of Categorical valued features ----------------\n",
      "\n",
      "                           Accuracy Score\n",
      "Logistic Regression Model       88.710852\n",
      "KNN Model                       89.706239\n",
      "Decision Tree Model             89.779073\n",
      "ID3 Estimator                   89.779073\n",
      "Support Vector Machine          89.754795\n",
      "Random Forest Classifier        89.779073\n",
      "Bernoulli Naive Bayes           89.754795\n",
      "\n",
      "\n",
      "\n",
      "---------------- Applying Classification Algorithms on both Continous and Categorical Valued features ----------------\n",
      "\n",
      "\n",
      "---------------- Data Preprocessing ----------------\n",
      "\n",
      "\n",
      "Feature selection is done by ANOVA method because features are continues & categorical valued and target is categorical valued.\n",
      "\n",
      "\n",
      "---------------- Top 10 features ----------------\n",
      "\n",
      "          Features        Score\n",
      "1         duration  8094.101634\n",
      "9      nr.employed  5926.610601\n",
      "3            pdays  4861.173272\n",
      "8        euribor3m  4309.479048\n",
      "5     emp.var.rate  4023.829925\n",
      "4         previous  2304.257088\n",
      "16         contact   881.707070\n",
      "6   cons.price.idx   778.589795\n",
      "19        poutcome   705.678164\n",
      "2         campaign   182.156673\n",
      "\n",
      "---------------- Some Value of x for Dataset ----------------\n",
      "\n",
      "[[ 0.37327189  0.          0.          0.          0.          0.\n",
      "   1.          0.26659412  0.         -0.5       ]\n",
      " [-0.14285714  0.          0.          0.          0.          0.\n",
      "   1.          0.26659412  0.         -0.5       ]\n",
      " [ 0.21198157  0.          0.          0.          0.          0.\n",
      "   1.          0.26659412  0.         -0.5       ]\n",
      " [-0.13364055  0.          0.          0.          0.          0.\n",
      "   1.          0.26659412  0.         -0.5       ]\n",
      " [ 0.58525346  0.          0.          0.          0.          0.\n",
      "   1.          0.26659412  0.         -0.5       ]]\n",
      "\n",
      "----------------Some Value of y for Dataset----------------\n",
      "\n",
      "[[0]\n",
      " [0]\n",
      " [0]\n",
      " [0]\n",
      " [0]]\n",
      "\n",
      "----------------Size of Train and Test set----------------\n",
      "\n",
      "Size of train_x : (32950, 10) and test_x : (8238, 10)\n",
      "Size of train_y : (32950, 1) and test_y : (8238, 1)\n",
      "\n",
      "\n",
      "---------------- Logestic Regression Algorithm ----------------\n",
      "\n",
      "Model is Ready :\n",
      "LogisticRegression(C=0.01, class_weight=None, dual=False, fit_intercept=True,\n",
      "                   intercept_scaling=1, l1_ratio=None, max_iter=100,\n",
      "                   multi_class='auto', n_jobs=None, penalty='l2',\n",
      "                   random_state=None, solver='liblinear', tol=0.0001, verbose=0,\n",
      "                   warm_start=False)\n",
      "\n",
      "Score of the Model is  0.9090136570561457\n",
      "\n",
      "\n",
      "\n",
      "---------------- K-Nearest Neighbour Algorithm ----------------\n",
      "\n"
     ]
    },
    {
     "data": {
      "image/png": "[encoded data removed]",
      "text/plain": [
       "<Figure size 432x288 with 1 Axes>"
      ]
     },
     "metadata": {
      "needs_background": "light"
     },
     "output_type": "display_data"
    },
    {
     "name": "stdout",
     "output_type": "stream",
     "text": [
      "\n",
      "The best accuracy is 0.9084729303228939 with k = 10\n",
      "\n",
      "\n",
      "---------------- Decision Tree Classifier Algorithm ----------------\n",
      "\n",
      "------------ HYPERPARAMETER TUNNING ------------\n",
      "\n",
      "Best Parameter :  {'criterion': 'gini', 'max_depth': 5, 'random_state': 2} with score :  0.9123520485584218\n",
      "\n",
      "---------- Model with parameter tunning ---------\n",
      "\n",
      "Model is Ready :\n",
      "DecisionTreeClassifier(ccp_alpha=0.0, class_weight=None, criterion='gini',\n",
      "                       max_depth=5, max_features=None, max_leaf_nodes=None,\n",
      "                       min_impurity_decrease=0.0, min_impurity_split=None,\n",
      "                       min_samples_leaf=1, min_samples_split=2,\n",
      "                       min_weight_fraction_leaf=0.0, presort='deprecated',\n",
      "                       random_state=2, splitter='best')\n",
      "\n",
      "Score of the Model is  0.9167223065250379\n",
      "\n",
      "\n",
      "---------------- ID3 Classifier Algorithm ---------------- \n",
      "\n",
      "Model is Ready :\n",
      "Id3Estimator(gain_ratio=False, is_repeating=False, max_depth=None,\n",
      "             min_entropy_decrease=0.0, min_samples_split=2, prune=False)\n",
      "\n",
      "Score of the Model is  0.9082301529497451\n",
      "\n",
      "\n",
      "---------------- Random Forest Algorithm ----------------\n",
      "\n",
      "------------ HYPERPARAMETER TUNNING ------------\n",
      "\n",
      "Best Parameter :  {'criterion': 'gini', 'max_depth': 10, 'random_state': 2} with score :  0.9167526555386949\n",
      "\n",
      "---------- Model with parameter tunning ---------\n",
      "\n",
      "Model is Ready :\n",
      "RandomForestClassifier(bootstrap=True, ccp_alpha=0.0, class_weight=None,\n",
      "                       criterion='gini', max_depth=10, max_features='auto',\n",
      "                       max_leaf_nodes=None, max_samples=None,\n",
      "                       min_impurity_decrease=0.0, min_impurity_split=None,\n",
      "                       min_samples_leaf=1, min_samples_split=2,\n",
      "                       min_weight_fraction_leaf=0.0, n_estimators=100,\n",
      "                       n_jobs=None, oob_score=False, random_state=2, verbose=0,\n",
      "                       warm_start=False)\n",
      "\n",
      "Score of the Model is  0.9375417298937785\n",
      "\n",
      "\n",
      "---------------- Naive Bayes Algorithm ----------------\n",
      "\n",
      "Bernoulli Naive Bayes Classifier used because this is a binary classififcation problem!\n",
      "\n",
      "Model is Ready : \n",
      "BernoulliNB(alpha=1.0, binarize=0.0, class_prior=None, fit_prior=True)\n",
      "\n",
      "Score of the Model is  0.8434597875569044\n",
      "\n",
      "---------------- Support Vector Machine Algorithm ----------------\n",
      "\n",
      "Model is Ready :\n",
      "SVC(C=1.0, break_ties=False, cache_size=200, class_weight=None, coef0=0.0,\n",
      "    decision_function_shape='ovr', degree=3, gamma='scale', kernel='rbf',\n",
      "    max_iter=-1, probability=False, random_state=None, shrinking=True,\n",
      "    tol=0.001, verbose=False)\n",
      "\n",
      "Score of the Model is  0.8974506828528073\n",
      "\n",
      "---------------- Accuracy Scores of both Continous and Categorical valued features ----------------\n",
      "\n",
      "                           Accuracy Score\n",
      "Logistic Regression Model       90.507405\n",
      "KNN Model                       90.847293\n",
      "Decision Tree Model             91.320709\n",
      "ID3 Estimator                   90.823015\n",
      "Support Vector Machine          89.779073\n",
      "Random Forest Classifier        91.757708\n",
      "Bernoulli Naive Bayes           84.365137\n",
      "\n",
      "\n",
      "--------------- Acuracy Score Comparison ---------------\n",
      "\n",
      "                           Continous Features  Categorical Features  \\\n",
      "Logistic Regression Model           90.434571             88.710852   \n",
      "KNN Model                           90.677349             89.706239   \n",
      "Decision Tree Model                 91.296431             89.779073   \n",
      "ID3 Estimator                       90.592377             89.779073   \n",
      "Support Vector Machine              89.779073             89.754795   \n",
      "Random Forest Classifier            91.697014             89.779073   \n",
      "Bernoulli Naive Bayes               88.116048             89.754795   \n",
      "\n",
      "                           Both Continuous and Categorical Features  \n",
      "Logistic Regression Model                                 90.507405  \n",
      "KNN Model                                                 90.847293  \n",
      "Decision Tree Model                                       91.320709  \n",
      "ID3 Estimator                                             90.823015  \n",
      "Support Vector Machine                                    89.779073  \n",
      "Random Forest Classifier                                  91.757708  \n",
      "Bernoulli Naive Bayes                                     84.365137  \n"
     ]
    }
   ],
   "source": [
    "if __name__==\"__main__\": \n",
    "    main()"
   ]
  },
  {
   "cell_type": "code",
   "execution_count": null,
   "metadata": {},
   "outputs": [],
   "source": []
  },
  {
   "cell_type": "markdown",
   "metadata": {},
   "source": [
    "# Observation"
   ]
  },
  {
   "cell_type": "markdown",
   "metadata": {},
   "source": [
    "Clearly from the accuracy comparision dataframe using only Category Features does not help in increasing the accuracies of the Modesl nor taking Both together as in all Cases Accuracy Scores remains almost similar to the only continous valued features.\n",
    "\n",
    "Random Forest and Decision Tree both have accuracy score more than 90%. In which Random Forest has highest accuracy score of 91.76% when both type of features are used. \n",
    "\n",
    "Naive Bayes shows most varaition in all cases. It increases when only categorical features are used but again it decreases when both are used together.But it is also noted that maximum accuaracy score of Naive Bayes with categorical feature is 2% less than Random Forest Classifier.\n",
    "\n",
    "\n",
    "\n",
    "## So, Final Conclusion is to use Random Forest Classifier as it is gives highest accuracy."
   ]
  },
  {
   "cell_type": "code",
   "execution_count": null,
   "metadata": {},
   "outputs": [],
   "source": []
  },
  {
   "cell_type": "markdown",
   "metadata": {},
   "source": [
    "# Random Forest Model Finalizing"
   ]
  },
  {
   "cell_type": "code",
   "execution_count": 37,
   "metadata": {},
   "outputs": [
    {
     "name": "stdout",
     "output_type": "stream",
     "text": [
      "--------------- Pandas package is used to read the Dataset ---------------\n",
      "Number of rows are 41188. \n",
      "Number of Columns are 21.\n"
     ]
    }
   ],
   "source": [
    "Data = Import_data()\n",
    "continous_features , categorical_features = feature_separation(Data.loc[:,Data.columns!='y'])"
   ]
  },
  {
   "cell_type": "code",
   "execution_count": 38,
   "metadata": {},
   "outputs": [
    {
     "name": "stdout",
     "output_type": "stream",
     "text": [
      "--------------- Missing Values Handled ---------------\n",
      "\n"
     ]
    }
   ],
   "source": [
    "categorical_features = Null_value_handler(categorical_features)\n",
    "categorical_features = Categorical_feature_encoding(categorical_features)\n",
    "Features = pd.concat([continous_features , categorical_features], axis=1, sort = True)\n",
    "\n",
    "largest_feature_score_df,x = Data_Preprocessing( Features, Data['y'], f_classif, 10)\n",
    "y = Categorical_feature_encoding(Data['y'].to_frame())\n",
    "y = y.values\n",
    "\n",
    "train_x, test_x , train_y, test_y = Data_split(x,y)"
   ]
  },
  {
   "cell_type": "code",
   "execution_count": 39,
   "metadata": {},
   "outputs": [
    {
     "name": "stdout",
     "output_type": "stream",
     "text": [
      "\n",
      "\n",
      "---------------- Random Forest Algorithm ----------------\n",
      "\n",
      "------------ HYPERPARAMETER TUNNING ------------\n",
      "\n",
      "Best Parameter :  {'criterion': 'gini', 'max_depth': 10, 'random_state': 2} with score :  0.9167526555386949\n",
      "\n",
      "---------- Model with parameter tunning ---------\n",
      "\n",
      "Model is Ready :\n",
      "RandomForestClassifier(bootstrap=True, ccp_alpha=0.0, class_weight=None,\n",
      "                       criterion='gini', max_depth=10, max_features='auto',\n",
      "                       max_leaf_nodes=None, max_samples=None,\n",
      "                       min_impurity_decrease=0.0, min_impurity_split=None,\n",
      "                       min_samples_leaf=1, min_samples_split=2,\n",
      "                       min_weight_fraction_leaf=0.0, n_estimators=100,\n",
      "                       n_jobs=None, oob_score=False, random_state=2, verbose=0,\n",
      "                       warm_start=False)\n",
      "\n",
      "Score of the Model is  0.9375417298937785\n"
     ]
    }
   ],
   "source": [
    "RF_class,RFCPred,rfcas = Random_Forest_classifier(train_x,train_y,test_x,test_y)"
   ]
  },
  {
   "cell_type": "markdown",
   "metadata": {},
   "source": [
    "### Evaluation"
   ]
  },
  {
   "cell_type": "markdown",
   "metadata": {},
   "source": [
    "**Accuracy Score**"
   ]
  },
  {
   "cell_type": "code",
   "execution_count": 47,
   "metadata": {},
   "outputs": [
    {
     "name": "stdout",
     "output_type": "stream",
     "text": [
      "Accuracy Scaore of Random Forest : 91.75770818159748\n"
     ]
    }
   ],
   "source": [
    "print(f\"Accuracy Scaore of Random Forest : {rfcas*100}\")"
   ]
  },
  {
   "cell_type": "markdown",
   "metadata": {},
   "source": [
    "**Confusion Matrix**"
   ]
  },
  {
   "cell_type": "code",
   "execution_count": 48,
   "metadata": {},
   "outputs": [
    {
     "data": {
      "image/png": "[encoded data removed]",
      "text/plain": [
       "<Figure size 432x288 with 1 Axes>"
      ]
     },
     "metadata": {
      "needs_background": "light"
     },
     "output_type": "display_data"
    }
   ],
   "source": [
    "sns.heatmap(confusion_matrix(test_y,RFCPred), annot = True, cbar = False,  fmt = '0.0f' )\n",
    "plt.show()"
   ]
  },
  {
   "cell_type": "markdown",
   "metadata": {},
   "source": [
    "**Classification Report of the Model**"
   ]
  },
  {
   "cell_type": "code",
   "execution_count": 49,
   "metadata": {},
   "outputs": [
    {
     "name": "stdout",
     "output_type": "stream",
     "text": [
      "              precision    recall  f1-score   support\n",
      "\n",
      "           0       0.94      0.97      0.95      7308\n",
      "           1       0.68      0.52      0.59       930\n",
      "\n",
      "    accuracy                           0.92      8238\n",
      "   macro avg       0.81      0.74      0.77      8238\n",
      "weighted avg       0.91      0.92      0.91      8238\n",
      "\n"
     ]
    }
   ],
   "source": [
    "print(classification_report(test_y , RFCPred))"
   ]
  }
 ],
 "metadata": {
  "kernelspec": {
   "display_name": "Python 3",
   "language": "python",
   "name": "python3"
  },
  "language_info": {
   "codemirror_mode": {
    "name": "ipython",
    "version": 3
   },
   "file_extension": ".py",
   "mimetype": "text/x-python",
   "name": "python",
   "nbconvert_exporter": "python",
   "pygments_lexer": "ipython3",
   "version": "3.7.3"
  }
 },
 "nbformat": 4,
 "nbformat_minor": 2
}
